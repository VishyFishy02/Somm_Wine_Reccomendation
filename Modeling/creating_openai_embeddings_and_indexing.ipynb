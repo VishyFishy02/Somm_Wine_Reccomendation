{
  "nbformat": 4,
  "nbformat_minor": 0,
  "metadata": {
    "colab": {
      "provenance": [],
      "gpuType": "T4"
    },
    "kernelspec": {
      "name": "python3",
      "display_name": "Python 3"
    },
    "language_info": {
      "name": "python"
    },
    "accelerator": "GPU"
  },
  "cells": [
    {
      "cell_type": "code",
      "execution_count": 2,
      "metadata": {
        "id": "UCC5L5cSc3uy",
        "colab": {
          "base_uri": "https://localhost:8080/"
        },
        "outputId": "f12c00fa-8007-4670-d41c-78f32e0fffe5"
      },
      "outputs": [
        {
          "output_type": "stream",
          "name": "stdout",
          "text": [
            "\u001b[2K     \u001b[90m━━━━━━━━━━━━━━━━━━━━━━━━━━━━━━━━━━━━━━━━\u001b[0m \u001b[32m7.4/7.4 MB\u001b[0m \u001b[31m35.7 MB/s\u001b[0m eta \u001b[36m0:00:00\u001b[0m\n",
            "\u001b[2K     \u001b[90m━━━━━━━━━━━━━━━━━━━━━━━━━━━━━━━━━━━━━━━━\u001b[0m \u001b[32m86.0/86.0 kB\u001b[0m \u001b[31m9.9 MB/s\u001b[0m eta \u001b[36m0:00:00\u001b[0m\n",
            "\u001b[?25h  Preparing metadata (setup.py) ... \u001b[?25l\u001b[?25hdone\n",
            "\u001b[2K     \u001b[90m━━━━━━━━━━━━━━━━━━━━━━━━━━━━━━━━━━━━━━━━\u001b[0m \u001b[32m179.1/179.1 kB\u001b[0m \u001b[31m15.4 MB/s\u001b[0m eta \u001b[36m0:00:00\u001b[0m\n",
            "\u001b[2K     \u001b[90m━━━━━━━━━━━━━━━━━━━━━━━━━━━━━━━━━━━━━━━━\u001b[0m \u001b[32m220.3/220.3 kB\u001b[0m \u001b[31m21.1 MB/s\u001b[0m eta \u001b[36m0:00:00\u001b[0m\n",
            "\u001b[2K     \u001b[90m━━━━━━━━━━━━━━━━━━━━━━━━━━━━━━━━━━━━━━━━\u001b[0m \u001b[32m2.0/2.0 MB\u001b[0m \u001b[31m62.4 MB/s\u001b[0m eta \u001b[36m0:00:00\u001b[0m\n",
            "\u001b[2K     \u001b[90m━━━━━━━━━━━━━━━━━━━━━━━━━━━━━━━━━━━━━━━━\u001b[0m \u001b[32m2.0/2.0 MB\u001b[0m \u001b[31m56.2 MB/s\u001b[0m eta \u001b[36m0:00:00\u001b[0m\n",
            "\u001b[2K     \u001b[90m━━━━━━━━━━━━━━━━━━━━━━━━━━━━━━━━━━━━━━━━\u001b[0m \u001b[32m7.8/7.8 MB\u001b[0m \u001b[31m58.9 MB/s\u001b[0m eta \u001b[36m0:00:00\u001b[0m\n",
            "\u001b[2K     \u001b[90m━━━━━━━━━━━━━━━━━━━━━━━━━━━━━━━━━━━━━━━━\u001b[0m \u001b[32m1.3/1.3 MB\u001b[0m \u001b[31m61.2 MB/s\u001b[0m eta \u001b[36m0:00:00\u001b[0m\n",
            "\u001b[2K     \u001b[90m━━━━━━━━━━━━━━━━━━━━━━━━━━━━━━━━━━━━━━━━\u001b[0m \u001b[32m62.5/62.5 kB\u001b[0m \u001b[31m7.7 MB/s\u001b[0m eta \u001b[36m0:00:00\u001b[0m\n",
            "\u001b[2K     \u001b[90m━━━━━━━━━━━━━━━━━━━━━━━━━━━━━━━━━━━━━━━━\u001b[0m \u001b[32m300.4/300.4 kB\u001b[0m \u001b[31m32.2 MB/s\u001b[0m eta \u001b[36m0:00:00\u001b[0m\n",
            "\u001b[2K     \u001b[90m━━━━━━━━━━━━━━━━━━━━━━━━━━━━━━━━━━━━━━━━\u001b[0m \u001b[32m75.0/75.0 kB\u001b[0m \u001b[31m9.6 MB/s\u001b[0m eta \u001b[36m0:00:00\u001b[0m\n",
            "\u001b[2K     \u001b[90m━━━━━━━━━━━━━━━━━━━━━━━━━━━━━━━━━━━━━━━━\u001b[0m \u001b[32m46.1/46.1 kB\u001b[0m \u001b[31m6.4 MB/s\u001b[0m eta \u001b[36m0:00:00\u001b[0m\n",
            "\u001b[2K     \u001b[90m━━━━━━━━━━━━━━━━━━━━━━━━━━━━━━━━━━━━━━━━\u001b[0m \u001b[32m49.4/49.4 kB\u001b[0m \u001b[31m6.1 MB/s\u001b[0m eta \u001b[36m0:00:00\u001b[0m\n",
            "\u001b[2K     \u001b[90m━━━━━━━━━━━━━━━━━━━━━━━━━━━━━━━━━━━━━━━━\u001b[0m \u001b[32m76.9/76.9 kB\u001b[0m \u001b[31m11.0 MB/s\u001b[0m eta \u001b[36m0:00:00\u001b[0m\n",
            "\u001b[2K     \u001b[90m━━━━━━━━━━━━━━━━━━━━━━━━━━━━━━━━━━━━━━━━\u001b[0m \u001b[32m58.3/58.3 kB\u001b[0m \u001b[31m7.9 MB/s\u001b[0m eta \u001b[36m0:00:00\u001b[0m\n",
            "\u001b[?25h  Building wheel for sentence-transformers (setup.py) ... \u001b[?25l\u001b[?25hdone\n",
            "\u001b[31mERROR: pip's dependency resolver does not currently take into account all the packages that are installed. This behaviour is the source of the following dependency conflicts.\n",
            "llmx 0.0.15a0 requires cohere, which is not installed.\u001b[0m\u001b[31m\n",
            "\u001b[0m"
          ]
        }
      ],
      "source": [
        "!pip install -qU \\\n",
        "  transformers==4.31.0 \\\n",
        "  sentence-transformers==2.2.2 \\\n",
        "  pinecone-client==2.2.2 \\\n",
        "  openai==1.3.2 \\\n",
        "  tiktoken==0.5.1 \\\n",
        "  langchain==0.0.336"
      ]
    },
    {
      "cell_type": "markdown",
      "source": [
        "# Creating Embeddings with an OpenAI Model"
      ],
      "metadata": {
        "id": "tfqAqST3Gkl3"
      }
    },
    {
      "cell_type": "markdown",
      "source": [
        "Load our dataset:"
      ],
      "metadata": {
        "id": "TBmzDsROWOMS"
      }
    },
    {
      "cell_type": "code",
      "source": [
        "import pandas as pd\n",
        "\n",
        "wine = pd.read_csv('wine_cleaned_rev_concat.csv')\n",
        "\n",
        "# Also fill NaN values, because Pinecone cannot handle NaNs in the metadata\n",
        "wine.fillna(\"unknown\", inplace=True)\n",
        "\n",
        "# Convert 'price' to a string since it contains both numbers and 'unknown'.\n",
        "# This conversion is necessary to include such pieces of metadata in the Pinecone index, otherwise there seems to be an error arising\n",
        "wine['price'] = wine['price'].astype(str)\n"
      ],
      "metadata": {
        "id": "AxzX5LmRdCHt"
      },
      "execution_count": 3,
      "outputs": []
    },
    {
      "cell_type": "markdown",
      "source": [
        "We will use the `text-embedding-ada-002` embedding model from OpenAI. The maximum number of tokens that it can handle is 8192. Let's check if any of our descriptions has more than 8192 tokens. If not, then no chunking will be necessary."
      ],
      "metadata": {
        "id": "UE_surj9WPhx"
      }
    },
    {
      "cell_type": "code",
      "source": [
        "# Find the index of the row with the longest string in 'description'\n",
        "max_description_index = wine['description'].str.len().idxmax()\n",
        "\n",
        "# Get the row with the longest string in 'description'\n",
        "row_with_longest_description = wine.loc[max_description_index]\n",
        "\n",
        "# Get the result\n",
        "len(row_with_longest_description.description)"
      ],
      "metadata": {
        "colab": {
          "base_uri": "https://localhost:8080/"
        },
        "id": "S6rtxBWt65Is",
        "outputId": "f74edb18-10d6-45c3-811b-4bc0e38581f2"
      },
      "execution_count": 4,
      "outputs": [
        {
          "output_type": "execute_result",
          "data": {
            "text/plain": [
              "1854"
            ]
          },
          "metadata": {},
          "execution_count": 4
        }
      ]
    },
    {
      "cell_type": "markdown",
      "source": [
        "The longest description in terms of characters is 1854. It's more or less clear that there will be many fewer tokens than that in the longest description, but let's still check this."
      ],
      "metadata": {
        "id": "Sa9JoPqEWtGQ"
      }
    },
    {
      "cell_type": "code",
      "source": [
        "import os\n",
        "import openai\n",
        "\n",
        "# get API key from OpenAI website\n",
        "OPENAI_API_KEY = \"OPENAI_API_KEY\"\n",
        "\n",
        "openai.api_key = os.getenv(\"OPENAI_API_KEY\") or OPENAI_API_KEY"
      ],
      "metadata": {
        "id": "vQ2AryTF2Hxr"
      },
      "execution_count": 5,
      "outputs": []
    },
    {
      "cell_type": "markdown",
      "source": [
        "Import the tiktoken tokenizer:"
      ],
      "metadata": {
        "id": "EsU1R1L8YZiK"
      }
    },
    {
      "cell_type": "code",
      "source": [
        "import tiktoken\n",
        "\n",
        "tiktoken.encoding_for_model('gpt-4-1106-preview')"
      ],
      "metadata": {
        "colab": {
          "base_uri": "https://localhost:8080/"
        },
        "id": "mAdScc6lCdFf",
        "outputId": "7f349379-43b2-430a-f804-266af1ad4ac8"
      },
      "execution_count": 6,
      "outputs": [
        {
          "output_type": "execute_result",
          "data": {
            "text/plain": [
              "<Encoding 'cl100k_base'>"
            ]
          },
          "metadata": {},
          "execution_count": 6
        }
      ]
    },
    {
      "cell_type": "markdown",
      "source": [
        "Define the function that outputs the token length of a given string:"
      ],
      "metadata": {
        "id": "ddsr_6cnYgap"
      }
    },
    {
      "cell_type": "code",
      "source": [
        "tokenizer = tiktoken.get_encoding('cl100k_base')\n",
        "\n",
        "def tiktoken_len(text):\n",
        "    tokens = tokenizer.encode(\n",
        "        text,\n",
        "        disallowed_special=()\n",
        "    )\n",
        "    return len(tokens)\n",
        "\n",
        "tiktoken_len(\"Hi, I'm a piece of text.\")"
      ],
      "metadata": {
        "colab": {
          "base_uri": "https://localhost:8080/"
        },
        "id": "KslK09aZC1AA",
        "outputId": "491f4113-0e5c-4ffc-fd12-aa3466b5bcfe"
      },
      "execution_count": 7,
      "outputs": [
        {
          "output_type": "execute_result",
          "data": {
            "text/plain": [
              "9"
            ]
          },
          "metadata": {},
          "execution_count": 7
        }
      ]
    },
    {
      "cell_type": "markdown",
      "source": [
        "See what the token length of our longest description is:"
      ],
      "metadata": {
        "id": "TIX-EQXpY91o"
      }
    },
    {
      "cell_type": "code",
      "source": [
        "tiktoken_len(row_with_longest_description.description)"
      ],
      "metadata": {
        "colab": {
          "base_uri": "https://localhost:8080/"
        },
        "id": "gpOFmh_pDKKT",
        "outputId": "522f9152-b7d8-4838-c850-25d546f1fd53"
      },
      "execution_count": 8,
      "outputs": [
        {
          "output_type": "execute_result",
          "data": {
            "text/plain": [
              "426"
            ]
          },
          "metadata": {},
          "execution_count": 8
        }
      ]
    },
    {
      "cell_type": "markdown",
      "source": [
        "This is much smaller than 8192, so we don't need to split our descriptions into chunks. Now let's create embeddings for every description and save them to a tensor file. First, define the embedding model:"
      ],
      "metadata": {
        "id": "o578CvqzZFDP"
      }
    },
    {
      "cell_type": "code",
      "source": [
        "from langchain.embeddings.openai import OpenAIEmbeddings\n",
        "\n",
        "model_name = 'text-embedding-ada-002'\n",
        "\n",
        "embed_model = OpenAIEmbeddings(\n",
        "    model=model_name,\n",
        "    openai_api_key=OPENAI_API_KEY\n",
        ")"
      ],
      "metadata": {
        "id": "-5jSeZ195kuV"
      },
      "execution_count": 9,
      "outputs": []
    },
    {
      "cell_type": "markdown",
      "source": [
        "See how it works:"
      ],
      "metadata": {
        "id": "gLjBXyT3Hm6S"
      }
    },
    {
      "cell_type": "code",
      "source": [
        "docs = [\n",
        "    \"this is one document\",\n",
        "    \"and another document\"\n",
        "]\n",
        "\n",
        "embeddings = embed_model.embed_documents(docs)\n",
        "\n",
        "print(f\"We have {len(embeddings)} doc embeddings, each with \"\n",
        "      f\"a dimensionality of {len(embeddings[0])}.\")"
      ],
      "metadata": {
        "colab": {
          "base_uri": "https://localhost:8080/"
        },
        "id": "Lrlzf6Mi5ow5",
        "outputId": "5c530a4a-6a91-44a6-d28b-83a2d4a4b7e7"
      },
      "execution_count": 10,
      "outputs": [
        {
          "output_type": "stream",
          "name": "stdout",
          "text": [
            "We have 2 doc embeddings, each with a dimensionality of 1536.\n"
          ]
        }
      ]
    },
    {
      "cell_type": "markdown",
      "source": [
        "Now we're ready to create a tensor file:"
      ],
      "metadata": {
        "id": "l0sGdpEg4rl4"
      }
    },
    {
      "cell_type": "code",
      "source": [
        "import math\n",
        "import torch\n",
        "from tqdm import tqdm\n",
        "\n",
        "# Extract the \"description\" column as a list\n",
        "descriptions = wine['description'].tolist()\n",
        "\n",
        "# Set batch size\n",
        "batch_size = 100\n",
        "\n",
        "# Calculate the number of batches needed\n",
        "num_batches = math.ceil(len(descriptions) / batch_size)\n",
        "\n",
        "# Initialize a list to store embeddings\n",
        "description_embeddings = []\n",
        "\n",
        "# Process data in batches with tqdm\n",
        "for i in tqdm(range(num_batches), desc=\"Processing Batches\"):\n",
        "    start_idx = i * batch_size\n",
        "    end_idx = min((i + 1) * batch_size, len(descriptions))\n",
        "    batch_descriptions = descriptions[start_idx:end_idx]\n",
        "\n",
        "    # Encode the batch of descriptions using the model\n",
        "    batch_embeddings = embed_model.embed_documents(batch_descriptions)\n",
        "\n",
        "    # Append the batch embeddings to the list\n",
        "    description_embeddings.extend(batch_embeddings)\n",
        "\n",
        "# Convert the list of embeddings to a PyTorch tensor\n",
        "description_tensor = torch.tensor(description_embeddings)\n",
        "\n",
        "# Save the tensor to a file\n",
        "torch.save(description_tensor, 'description_embeddings_openai_ada-002.pt')\n"
      ],
      "metadata": {
        "colab": {
          "base_uri": "https://localhost:8080/"
        },
        "id": "UJsO4SwaEyWj",
        "outputId": "5bc0ba42-ed26-4479-a705-abe8822f7abf"
      },
      "execution_count": 15,
      "outputs": [
        {
          "output_type": "stream",
          "name": "stderr",
          "text": [
            "Processing Batches: 100%|██████████| 846/846 [17:18<00:00,  1.23s/it]\n"
          ]
        }
      ]
    },
    {
      "cell_type": "markdown",
      "source": [
        "# Sending Embeddings and Metadata to Pinecone"
      ],
      "metadata": {
        "id": "jd4rrdOvZtnC"
      }
    },
    {
      "cell_type": "markdown",
      "source": [
        "We can now send these embeddings, along with the corresponding metadata, to Pinecone. First, initialize access to Pinecone:"
      ],
      "metadata": {
        "id": "xIUKY9c4HqmO"
      }
    },
    {
      "cell_type": "code",
      "source": [
        "import os\n",
        "import pinecone\n",
        "from tqdm import tqdm\n",
        "\n",
        "# get API key from app.pinecone.io and environment from console\n",
        "pinecone.init(\n",
        "    api_key=os.environ.get('PINECONE_API_KEY') or 'PINECONE_API_KEY',\n",
        "    environment=os.environ.get('PINECONE_ENVIRONMENT') or 'PINECONE_ENVIRONMENT'\n",
        ")"
      ],
      "metadata": {
        "id": "nWJpivpDgeQ3"
      },
      "execution_count": 12,
      "outputs": []
    },
    {
      "cell_type": "markdown",
      "source": [
        "See what indexes exist already:"
      ],
      "metadata": {
        "id": "QwUyglSkHtMi"
      }
    },
    {
      "cell_type": "code",
      "source": [
        "pinecone.list_indexes()"
      ],
      "metadata": {
        "colab": {
          "base_uri": "https://localhost:8080/"
        },
        "id": "ZPCjSEeF44CU",
        "outputId": "45614494-9a6a-43ff-e01d-2dc6ebe9bba9"
      },
      "execution_count": 15,
      "outputs": [
        {
          "output_type": "execute_result",
          "data": {
            "text/plain": [
              "[]"
            ]
          },
          "metadata": {},
          "execution_count": 15
        }
      ]
    },
    {
      "cell_type": "markdown",
      "source": [
        "Create a new index (if not already):"
      ],
      "metadata": {
        "id": "2hkAPcmeHxTJ"
      }
    },
    {
      "cell_type": "code",
      "source": [
        "import time\n",
        "\n",
        "index_name = 'rag-openai'\n",
        "\n",
        "if index_name not in pinecone.list_indexes():\n",
        "    pinecone.create_index(\n",
        "        index_name,\n",
        "        dimension=len(embeddings[0]),\n",
        "        metric='cosine'\n",
        "    )\n",
        "    # wait for index to finish initialization\n",
        "    while not pinecone.describe_index(index_name).status['ready']:\n",
        "        time.sleep(1)"
      ],
      "metadata": {
        "id": "P5zixRBc5TEG"
      },
      "execution_count": 16,
      "outputs": []
    },
    {
      "cell_type": "markdown",
      "source": [
        "Now connect to the index:"
      ],
      "metadata": {
        "id": "Q5jAJAuT5y7Y"
      }
    },
    {
      "cell_type": "code",
      "source": [
        "index = pinecone.Index(index_name)\n",
        "index.describe_index_stats()"
      ],
      "metadata": {
        "colab": {
          "base_uri": "https://localhost:8080/"
        },
        "id": "cMehlOo65VyN",
        "outputId": "1ae60ed6-d9da-4996-fb3b-a2e358343a65"
      },
      "execution_count": 20,
      "outputs": [
        {
          "output_type": "execute_result",
          "data": {
            "text/plain": [
              "{'dimension': 1536,\n",
              " 'index_fullness': 0.0,\n",
              " 'namespaces': {},\n",
              " 'total_vector_count': 0}"
            ]
          },
          "metadata": {},
          "execution_count": 20
        }
      ]
    },
    {
      "cell_type": "markdown",
      "source": [
        "Use the tensor file to send embeddings for 'description' to Pinecone. Also include the corresponding pieces of metadata:"
      ],
      "metadata": {
        "id": "GZcHqD5i59jX"
      }
    },
    {
      "cell_type": "code",
      "source": [
        "import torch\n",
        "from tqdm import tqdm\n",
        "\n",
        "# Load the PyTorch tensor from the tensor file\n",
        "description_tensor = torch.load('description_embeddings_openai_ada-002.pt')\n",
        "\n",
        "# Define the batch size\n",
        "batch_size = 32\n",
        "\n",
        "# Create a loop to process data in batches\n",
        "for i in tqdm(range(0, len(description_tensor), batch_size)):\n",
        "    i_end = min(len(description_tensor), i + batch_size)\n",
        "    batch = description_tensor[i:i_end]\n",
        "\n",
        "    # Extract data from the 'wine' DataFrame for metadata\n",
        "    metadata_batch = wine.iloc[i:i_end]\n",
        "\n",
        "    # Extract data from the batch\n",
        "    ids = [f\"{x['id']}\" for _, x in metadata_batch.iterrows()]\n",
        "    texts = [x['description'] for _, x in metadata_batch.iterrows()]\n",
        "\n",
        "    metadata = [\n",
        "        {\n",
        "            'text': x['description'],\n",
        "            'title': x['title'],\n",
        "            'region': x['region_cleaned'],\n",
        "            'winery': x['winery'],\n",
        "            'variety': x['variety'],\n",
        "            'province': x['province'],\n",
        "            'price': x['price'],\n",
        "            'designation': x['designation'],\n",
        "            'country': x['country'],\n",
        "            'style1': x['style1'],\n",
        "            'style2': x['style2']\n",
        "        }\n",
        "        for _, x in metadata_batch.iterrows()\n",
        "    ]\n",
        "\n",
        "    # Extract the embeddings directly from the loaded tensor and convert to Python list\n",
        "    embeds = batch.numpy().tolist()\n",
        "\n",
        "    # Prepare the vectors as a list of tuples\n",
        "    vectors = [(id, embed, meta) for id, embed, meta in zip(ids, embeds, metadata)]\n",
        "\n",
        "    # Add the vectors to Pinecone using index.upsert()\n",
        "    index.upsert(vectors=vectors)\n"
      ],
      "metadata": {
        "colab": {
          "base_uri": "https://localhost:8080/"
        },
        "id": "Z2Qyal4g59FQ",
        "outputId": "f4ccad08-2e6e-409b-e33f-7b4efd6f03c3"
      },
      "execution_count": 21,
      "outputs": [
        {
          "output_type": "stream",
          "name": "stderr",
          "text": [
            "100%|██████████| 2641/2641 [11:11<00:00,  3.93it/s]\n"
          ]
        }
      ]
    },
    {
      "cell_type": "markdown",
      "source": [
        "Check the index stats:"
      ],
      "metadata": {
        "id": "bmOqJxViadsx"
      }
    },
    {
      "cell_type": "code",
      "source": [
        "index.describe_index_stats()"
      ],
      "metadata": {
        "colab": {
          "base_uri": "https://localhost:8080/"
        },
        "id": "DY_Y7kvaagn7",
        "outputId": "051118a0-d859-4e83-c071-9d84b2a95b20"
      },
      "execution_count": 22,
      "outputs": [
        {
          "output_type": "execute_result",
          "data": {
            "text/plain": [
              "{'dimension': 1536,\n",
              " 'index_fullness': 0.7,\n",
              " 'namespaces': {'': {'vector_count': 84502}},\n",
              " 'total_vector_count': 84502}"
            ]
          },
          "metadata": {},
          "execution_count": 22
        }
      ]
    },
    {
      "cell_type": "markdown",
      "source": [
        "# Querying with Pinecone"
      ],
      "metadata": {
        "id": "x2nAxjSbec_j"
      }
    },
    {
      "cell_type": "markdown",
      "source": [
        "We can now query the indexed data like this. Here, we used the filter `\"country\": 'France'`, so only wines from France will appear.\n",
        "\n"
      ],
      "metadata": {
        "id": "2pRtgcAOFn5U"
      }
    },
    {
      "cell_type": "code",
      "source": [
        "query = \"Fruity rich wine\"\n",
        "\n",
        "embedding = embed_model.embed_query(query)\n",
        "\n",
        "result = index.query(\n",
        "    vector=embedding,\n",
        "    filter={\n",
        "        \"country\": 'France'\n",
        "    },\n",
        "    top_k=5,\n",
        "    include_metadata=True\n",
        ")"
      ],
      "metadata": {
        "id": "f749n42q6ge3"
      },
      "execution_count": 36,
      "outputs": []
    },
    {
      "cell_type": "markdown",
      "source": [
        "The plain result looks like this:"
      ],
      "metadata": {
        "id": "fDJhTCNvFr-C"
      }
    },
    {
      "cell_type": "code",
      "source": [
        "result"
      ],
      "metadata": {
        "colab": {
          "base_uri": "https://localhost:8080/"
        },
        "id": "pnWWdqNZUoha",
        "outputId": "0abfba06-bc46-4e5e-af2b-e7738f54f60e"
      },
      "execution_count": 37,
      "outputs": [
        {
          "output_type": "execute_result",
          "data": {
            "text/plain": [
              "{'matches': [{'id': '125349',\n",
              "              'metadata': {'country': 'France',\n",
              "                           'designation': \"Domaine D'E Croce\",\n",
              "                           'price': '28.0',\n",
              "                           'province': 'France Other',\n",
              "                           'region': 'Patrimonio',\n",
              "                           'style1': 'Rosé - France Other',\n",
              "                           'style2': 'Rosé - France Other',\n",
              "                           'text': 'Rich, fruity and soft, this wine has a '\n",
              "                                   'tang of orange peel along with ripe citrus '\n",
              "                                   'and red fruits. Fresh and crisp at the '\n",
              "                                   'end, it is ready to drink.',\n",
              "                           'title': \"Yves Leccia 2015 Domaine D'E Croce Rosé \"\n",
              "                                    '(Patrimonio)',\n",
              "                           'variety': 'Rosé',\n",
              "                           'winery': 'Yves Leccia'},\n",
              "              'score': 0.915218771,\n",
              "              'values': []},\n",
              "             {'id': '61437',\n",
              "              'metadata': {'country': 'France',\n",
              "                           'designation': 'Château de Selle',\n",
              "                           'price': '43.0',\n",
              "                           'province': 'Provence',\n",
              "                           'region': 'Côtes de Provence',\n",
              "                           'style1': 'Rosé - Provence',\n",
              "                           'style2': 'Rosé - Provence',\n",
              "                           'text': 'A rich, fat wine, with the weight of '\n",
              "                                   'concentrated red fruits laced with pear '\n",
              "                                   'and a touch of spice. There is a vanilla '\n",
              "                                   'layer that adds extra complexity.',\n",
              "                           'title': 'Domaines Ott 2010 Château de Selle Rosé '\n",
              "                                    '(Côtes de Provence)',\n",
              "                           'variety': 'Rosé',\n",
              "                           'winery': 'Domaines Ott'},\n",
              "              'score': 0.913814247,\n",
              "              'values': []},\n",
              "             {'id': '113195',\n",
              "              'metadata': {'country': 'France',\n",
              "                           'designation': 'Domaine de Michelons',\n",
              "                           'price': 'unknown',\n",
              "                           'province': 'Beaujolais',\n",
              "                           'region': 'Moulin-à-Vent',\n",
              "                           'style1': 'Gamay - Beaujolais',\n",
              "                           'style2': 'Gamay - Beaujolais',\n",
              "                           'text': 'Rich, fruity wine that is full of black '\n",
              "                                   'plum juice and soft tannins. Milk '\n",
              "                                   'chocolate sweetness adds to the generous '\n",
              "                                   'nature of this juicy wine. Drink now.',\n",
              "                           'title': 'Georges Duboeuf 2009 Domaine de '\n",
              "                                    'Michelons  (Moulin-à-Vent)',\n",
              "                           'variety': 'Gamay',\n",
              "                           'winery': 'Georges Duboeuf'},\n",
              "              'score': 0.913024962,\n",
              "              'values': []},\n",
              "             {'id': '75652',\n",
              "              'metadata': {'country': 'France',\n",
              "                           'designation': 'Cèdre Heritage',\n",
              "                           'price': '17.0',\n",
              "                           'province': 'Southwest France',\n",
              "                           'region': 'Cahors',\n",
              "                           'style1': 'Malbec - Southwest France',\n",
              "                           'style2': 'Malbec - Southwest France',\n",
              "                           'text': 'Rich and fruity, this is full of red berry '\n",
              "                                   'and black plum fruits, sustained by dense, '\n",
              "                                   'powerful tannins. The wine manages to '\n",
              "                                   'balance freshness with a solid, dry core.',\n",
              "                           'title': 'Château du Cèdre 2010 Cèdre Heritage '\n",
              "                                    'Malbec (Cahors)',\n",
              "                           'variety': 'Malbec',\n",
              "                           'winery': 'Château du Cèdre'},\n",
              "              'score': 0.91207248,\n",
              "              'values': []},\n",
              "             {'id': '64704',\n",
              "              'metadata': {'country': 'France',\n",
              "                           'designation': 'La Patache',\n",
              "                           'price': '12.0',\n",
              "                           'province': 'Bordeaux',\n",
              "                           'region': 'Médoc',\n",
              "                           'style1': 'Bordeaux-style Red Blend - Bordeaux',\n",
              "                           'style2': 'Bordeaux-style Red Blend - Bordeaux',\n",
              "                           'text': 'A rich wine laden with juicy blackberry '\n",
              "                                   'fruits and wood tannins, lapping up the '\n",
              "                                   'ripe vintage. Soft and ready to drink.',\n",
              "                           'title': 'Domaines Lapalu 2009 La Patache  (Médoc)',\n",
              "                           'variety': 'Bordeaux-style Red Blend',\n",
              "                           'winery': 'Domaines Lapalu'},\n",
              "              'score': 0.910887,\n",
              "              'values': []}],\n",
              " 'namespace': ''}"
            ]
          },
          "metadata": {},
          "execution_count": 37
        }
      ]
    },
    {
      "cell_type": "markdown",
      "source": [
        "We can also make it look more presentable:"
      ],
      "metadata": {
        "id": "whyh75rWF-4m"
      }
    },
    {
      "cell_type": "code",
      "source": [
        "# Extract relevant information\n",
        "data = [\n",
        "    {\n",
        "        'id': match['id'],\n",
        "        'score': match['score'],\n",
        "        **match['metadata']  # Unpack metadata into the dictionary\n",
        "    }\n",
        "    for match in result['matches']\n",
        "]\n",
        "\n",
        "# Create a DataFrame\n",
        "result_df = pd.DataFrame(data)\n",
        "\n",
        "# Display the DataFrame\n",
        "result_df.head()"
      ],
      "metadata": {
        "colab": {
          "base_uri": "https://localhost:8080/",
          "height": 380
        },
        "id": "hF18QvJEB0i6",
        "outputId": "c1c4e41a-a1b8-4d1a-a32e-7a68accfba37"
      },
      "execution_count": 38,
      "outputs": [
        {
          "output_type": "execute_result",
          "data": {
            "text/plain": [
              "       id     score country           designation    price          province  \\\n",
              "0  125349  0.915219  France     Domaine D'E Croce     28.0      France Other   \n",
              "1   61437  0.913814  France      Château de Selle     43.0          Provence   \n",
              "2  113195  0.913025  France  Domaine de Michelons  unknown        Beaujolais   \n",
              "3   75652  0.912072  France        Cèdre Heritage     17.0  Southwest France   \n",
              "4   64704  0.910887  France            La Patache     12.0          Bordeaux   \n",
              "\n",
              "              region                               style1  \\\n",
              "0         Patrimonio                  Rosé - France Other   \n",
              "1  Côtes de Provence                      Rosé - Provence   \n",
              "2      Moulin-à-Vent                   Gamay - Beaujolais   \n",
              "3             Cahors            Malbec - Southwest France   \n",
              "4              Médoc  Bordeaux-style Red Blend - Bordeaux   \n",
              "\n",
              "                                style2  \\\n",
              "0                  Rosé - France Other   \n",
              "1                      Rosé - Provence   \n",
              "2                   Gamay - Beaujolais   \n",
              "3            Malbec - Southwest France   \n",
              "4  Bordeaux-style Red Blend - Bordeaux   \n",
              "\n",
              "                                                text  \\\n",
              "0  Rich, fruity and soft, this wine has a tang of...   \n",
              "1  A rich, fat wine, with the weight of concentra...   \n",
              "2  Rich, fruity wine that is full of black plum j...   \n",
              "3  Rich and fruity, this is full of red berry and...   \n",
              "4  A rich wine laden with juicy blackberry fruits...   \n",
              "\n",
              "                                               title  \\\n",
              "0  Yves Leccia 2015 Domaine D'E Croce Rosé (Patri...   \n",
              "1  Domaines Ott 2010 Château de Selle Rosé (Côtes...   \n",
              "2  Georges Duboeuf 2009 Domaine de Michelons  (Mo...   \n",
              "3  Château du Cèdre 2010 Cèdre Heritage Malbec (C...   \n",
              "4           Domaines Lapalu 2009 La Patache  (Médoc)   \n",
              "\n",
              "                    variety            winery  \n",
              "0                      Rosé       Yves Leccia  \n",
              "1                      Rosé      Domaines Ott  \n",
              "2                     Gamay   Georges Duboeuf  \n",
              "3                    Malbec  Château du Cèdre  \n",
              "4  Bordeaux-style Red Blend   Domaines Lapalu  "
            ],
            "text/html": [
              "\n",
              "  <div id=\"df-b34035e0-a6d8-429c-aa5a-49572e2f1b2a\" class=\"colab-df-container\">\n",
              "    <div>\n",
              "<style scoped>\n",
              "    .dataframe tbody tr th:only-of-type {\n",
              "        vertical-align: middle;\n",
              "    }\n",
              "\n",
              "    .dataframe tbody tr th {\n",
              "        vertical-align: top;\n",
              "    }\n",
              "\n",
              "    .dataframe thead th {\n",
              "        text-align: right;\n",
              "    }\n",
              "</style>\n",
              "<table border=\"1\" class=\"dataframe\">\n",
              "  <thead>\n",
              "    <tr style=\"text-align: right;\">\n",
              "      <th></th>\n",
              "      <th>id</th>\n",
              "      <th>score</th>\n",
              "      <th>country</th>\n",
              "      <th>designation</th>\n",
              "      <th>price</th>\n",
              "      <th>province</th>\n",
              "      <th>region</th>\n",
              "      <th>style1</th>\n",
              "      <th>style2</th>\n",
              "      <th>text</th>\n",
              "      <th>title</th>\n",
              "      <th>variety</th>\n",
              "      <th>winery</th>\n",
              "    </tr>\n",
              "  </thead>\n",
              "  <tbody>\n",
              "    <tr>\n",
              "      <th>0</th>\n",
              "      <td>125349</td>\n",
              "      <td>0.915219</td>\n",
              "      <td>France</td>\n",
              "      <td>Domaine D'E Croce</td>\n",
              "      <td>28.0</td>\n",
              "      <td>France Other</td>\n",
              "      <td>Patrimonio</td>\n",
              "      <td>Rosé - France Other</td>\n",
              "      <td>Rosé - France Other</td>\n",
              "      <td>Rich, fruity and soft, this wine has a tang of...</td>\n",
              "      <td>Yves Leccia 2015 Domaine D'E Croce Rosé (Patri...</td>\n",
              "      <td>Rosé</td>\n",
              "      <td>Yves Leccia</td>\n",
              "    </tr>\n",
              "    <tr>\n",
              "      <th>1</th>\n",
              "      <td>61437</td>\n",
              "      <td>0.913814</td>\n",
              "      <td>France</td>\n",
              "      <td>Château de Selle</td>\n",
              "      <td>43.0</td>\n",
              "      <td>Provence</td>\n",
              "      <td>Côtes de Provence</td>\n",
              "      <td>Rosé - Provence</td>\n",
              "      <td>Rosé - Provence</td>\n",
              "      <td>A rich, fat wine, with the weight of concentra...</td>\n",
              "      <td>Domaines Ott 2010 Château de Selle Rosé (Côtes...</td>\n",
              "      <td>Rosé</td>\n",
              "      <td>Domaines Ott</td>\n",
              "    </tr>\n",
              "    <tr>\n",
              "      <th>2</th>\n",
              "      <td>113195</td>\n",
              "      <td>0.913025</td>\n",
              "      <td>France</td>\n",
              "      <td>Domaine de Michelons</td>\n",
              "      <td>unknown</td>\n",
              "      <td>Beaujolais</td>\n",
              "      <td>Moulin-à-Vent</td>\n",
              "      <td>Gamay - Beaujolais</td>\n",
              "      <td>Gamay - Beaujolais</td>\n",
              "      <td>Rich, fruity wine that is full of black plum j...</td>\n",
              "      <td>Georges Duboeuf 2009 Domaine de Michelons  (Mo...</td>\n",
              "      <td>Gamay</td>\n",
              "      <td>Georges Duboeuf</td>\n",
              "    </tr>\n",
              "    <tr>\n",
              "      <th>3</th>\n",
              "      <td>75652</td>\n",
              "      <td>0.912072</td>\n",
              "      <td>France</td>\n",
              "      <td>Cèdre Heritage</td>\n",
              "      <td>17.0</td>\n",
              "      <td>Southwest France</td>\n",
              "      <td>Cahors</td>\n",
              "      <td>Malbec - Southwest France</td>\n",
              "      <td>Malbec - Southwest France</td>\n",
              "      <td>Rich and fruity, this is full of red berry and...</td>\n",
              "      <td>Château du Cèdre 2010 Cèdre Heritage Malbec (C...</td>\n",
              "      <td>Malbec</td>\n",
              "      <td>Château du Cèdre</td>\n",
              "    </tr>\n",
              "    <tr>\n",
              "      <th>4</th>\n",
              "      <td>64704</td>\n",
              "      <td>0.910887</td>\n",
              "      <td>France</td>\n",
              "      <td>La Patache</td>\n",
              "      <td>12.0</td>\n",
              "      <td>Bordeaux</td>\n",
              "      <td>Médoc</td>\n",
              "      <td>Bordeaux-style Red Blend - Bordeaux</td>\n",
              "      <td>Bordeaux-style Red Blend - Bordeaux</td>\n",
              "      <td>A rich wine laden with juicy blackberry fruits...</td>\n",
              "      <td>Domaines Lapalu 2009 La Patache  (Médoc)</td>\n",
              "      <td>Bordeaux-style Red Blend</td>\n",
              "      <td>Domaines Lapalu</td>\n",
              "    </tr>\n",
              "  </tbody>\n",
              "</table>\n",
              "</div>\n",
              "    <div class=\"colab-df-buttons\">\n",
              "\n",
              "  <div class=\"colab-df-container\">\n",
              "    <button class=\"colab-df-convert\" onclick=\"convertToInteractive('df-b34035e0-a6d8-429c-aa5a-49572e2f1b2a')\"\n",
              "            title=\"Convert this dataframe to an interactive table.\"\n",
              "            style=\"display:none;\">\n",
              "\n",
              "  <svg xmlns=\"http://www.w3.org/2000/svg\" height=\"24px\" viewBox=\"0 -960 960 960\">\n",
              "    <path d=\"M120-120v-720h720v720H120Zm60-500h600v-160H180v160Zm220 220h160v-160H400v160Zm0 220h160v-160H400v160ZM180-400h160v-160H180v160Zm440 0h160v-160H620v160ZM180-180h160v-160H180v160Zm440 0h160v-160H620v160Z\"/>\n",
              "  </svg>\n",
              "    </button>\n",
              "\n",
              "  <style>\n",
              "    .colab-df-container {\n",
              "      display:flex;\n",
              "      gap: 12px;\n",
              "    }\n",
              "\n",
              "    .colab-df-convert {\n",
              "      background-color: #E8F0FE;\n",
              "      border: none;\n",
              "      border-radius: 50%;\n",
              "      cursor: pointer;\n",
              "      display: none;\n",
              "      fill: #1967D2;\n",
              "      height: 32px;\n",
              "      padding: 0 0 0 0;\n",
              "      width: 32px;\n",
              "    }\n",
              "\n",
              "    .colab-df-convert:hover {\n",
              "      background-color: #E2EBFA;\n",
              "      box-shadow: 0px 1px 2px rgba(60, 64, 67, 0.3), 0px 1px 3px 1px rgba(60, 64, 67, 0.15);\n",
              "      fill: #174EA6;\n",
              "    }\n",
              "\n",
              "    .colab-df-buttons div {\n",
              "      margin-bottom: 4px;\n",
              "    }\n",
              "\n",
              "    [theme=dark] .colab-df-convert {\n",
              "      background-color: #3B4455;\n",
              "      fill: #D2E3FC;\n",
              "    }\n",
              "\n",
              "    [theme=dark] .colab-df-convert:hover {\n",
              "      background-color: #434B5C;\n",
              "      box-shadow: 0px 1px 3px 1px rgba(0, 0, 0, 0.15);\n",
              "      filter: drop-shadow(0px 1px 2px rgba(0, 0, 0, 0.3));\n",
              "      fill: #FFFFFF;\n",
              "    }\n",
              "  </style>\n",
              "\n",
              "    <script>\n",
              "      const buttonEl =\n",
              "        document.querySelector('#df-b34035e0-a6d8-429c-aa5a-49572e2f1b2a button.colab-df-convert');\n",
              "      buttonEl.style.display =\n",
              "        google.colab.kernel.accessAllowed ? 'block' : 'none';\n",
              "\n",
              "      async function convertToInteractive(key) {\n",
              "        const element = document.querySelector('#df-b34035e0-a6d8-429c-aa5a-49572e2f1b2a');\n",
              "        const dataTable =\n",
              "          await google.colab.kernel.invokeFunction('convertToInteractive',\n",
              "                                                    [key], {});\n",
              "        if (!dataTable) return;\n",
              "\n",
              "        const docLinkHtml = 'Like what you see? Visit the ' +\n",
              "          '<a target=\"_blank\" href=https://colab.research.google.com/notebooks/data_table.ipynb>data table notebook</a>'\n",
              "          + ' to learn more about interactive tables.';\n",
              "        element.innerHTML = '';\n",
              "        dataTable['output_type'] = 'display_data';\n",
              "        await google.colab.output.renderOutput(dataTable, element);\n",
              "        const docLink = document.createElement('div');\n",
              "        docLink.innerHTML = docLinkHtml;\n",
              "        element.appendChild(docLink);\n",
              "      }\n",
              "    </script>\n",
              "  </div>\n",
              "\n",
              "\n",
              "<div id=\"df-33acad2f-a70d-404c-9501-1f4c7c1f78e1\">\n",
              "  <button class=\"colab-df-quickchart\" onclick=\"quickchart('df-33acad2f-a70d-404c-9501-1f4c7c1f78e1')\"\n",
              "            title=\"Suggest charts\"\n",
              "            style=\"display:none;\">\n",
              "\n",
              "<svg xmlns=\"http://www.w3.org/2000/svg\" height=\"24px\"viewBox=\"0 0 24 24\"\n",
              "     width=\"24px\">\n",
              "    <g>\n",
              "        <path d=\"M19 3H5c-1.1 0-2 .9-2 2v14c0 1.1.9 2 2 2h14c1.1 0 2-.9 2-2V5c0-1.1-.9-2-2-2zM9 17H7v-7h2v7zm4 0h-2V7h2v10zm4 0h-2v-4h2v4z\"/>\n",
              "    </g>\n",
              "</svg>\n",
              "  </button>\n",
              "\n",
              "<style>\n",
              "  .colab-df-quickchart {\n",
              "      --bg-color: #E8F0FE;\n",
              "      --fill-color: #1967D2;\n",
              "      --hover-bg-color: #E2EBFA;\n",
              "      --hover-fill-color: #174EA6;\n",
              "      --disabled-fill-color: #AAA;\n",
              "      --disabled-bg-color: #DDD;\n",
              "  }\n",
              "\n",
              "  [theme=dark] .colab-df-quickchart {\n",
              "      --bg-color: #3B4455;\n",
              "      --fill-color: #D2E3FC;\n",
              "      --hover-bg-color: #434B5C;\n",
              "      --hover-fill-color: #FFFFFF;\n",
              "      --disabled-bg-color: #3B4455;\n",
              "      --disabled-fill-color: #666;\n",
              "  }\n",
              "\n",
              "  .colab-df-quickchart {\n",
              "    background-color: var(--bg-color);\n",
              "    border: none;\n",
              "    border-radius: 50%;\n",
              "    cursor: pointer;\n",
              "    display: none;\n",
              "    fill: var(--fill-color);\n",
              "    height: 32px;\n",
              "    padding: 0;\n",
              "    width: 32px;\n",
              "  }\n",
              "\n",
              "  .colab-df-quickchart:hover {\n",
              "    background-color: var(--hover-bg-color);\n",
              "    box-shadow: 0 1px 2px rgba(60, 64, 67, 0.3), 0 1px 3px 1px rgba(60, 64, 67, 0.15);\n",
              "    fill: var(--button-hover-fill-color);\n",
              "  }\n",
              "\n",
              "  .colab-df-quickchart-complete:disabled,\n",
              "  .colab-df-quickchart-complete:disabled:hover {\n",
              "    background-color: var(--disabled-bg-color);\n",
              "    fill: var(--disabled-fill-color);\n",
              "    box-shadow: none;\n",
              "  }\n",
              "\n",
              "  .colab-df-spinner {\n",
              "    border: 2px solid var(--fill-color);\n",
              "    border-color: transparent;\n",
              "    border-bottom-color: var(--fill-color);\n",
              "    animation:\n",
              "      spin 1s steps(1) infinite;\n",
              "  }\n",
              "\n",
              "  @keyframes spin {\n",
              "    0% {\n",
              "      border-color: transparent;\n",
              "      border-bottom-color: var(--fill-color);\n",
              "      border-left-color: var(--fill-color);\n",
              "    }\n",
              "    20% {\n",
              "      border-color: transparent;\n",
              "      border-left-color: var(--fill-color);\n",
              "      border-top-color: var(--fill-color);\n",
              "    }\n",
              "    30% {\n",
              "      border-color: transparent;\n",
              "      border-left-color: var(--fill-color);\n",
              "      border-top-color: var(--fill-color);\n",
              "      border-right-color: var(--fill-color);\n",
              "    }\n",
              "    40% {\n",
              "      border-color: transparent;\n",
              "      border-right-color: var(--fill-color);\n",
              "      border-top-color: var(--fill-color);\n",
              "    }\n",
              "    60% {\n",
              "      border-color: transparent;\n",
              "      border-right-color: var(--fill-color);\n",
              "    }\n",
              "    80% {\n",
              "      border-color: transparent;\n",
              "      border-right-color: var(--fill-color);\n",
              "      border-bottom-color: var(--fill-color);\n",
              "    }\n",
              "    90% {\n",
              "      border-color: transparent;\n",
              "      border-bottom-color: var(--fill-color);\n",
              "    }\n",
              "  }\n",
              "</style>\n",
              "\n",
              "  <script>\n",
              "    async function quickchart(key) {\n",
              "      const quickchartButtonEl =\n",
              "        document.querySelector('#' + key + ' button');\n",
              "      quickchartButtonEl.disabled = true;  // To prevent multiple clicks.\n",
              "      quickchartButtonEl.classList.add('colab-df-spinner');\n",
              "      try {\n",
              "        const charts = await google.colab.kernel.invokeFunction(\n",
              "            'suggestCharts', [key], {});\n",
              "      } catch (error) {\n",
              "        console.error('Error during call to suggestCharts:', error);\n",
              "      }\n",
              "      quickchartButtonEl.classList.remove('colab-df-spinner');\n",
              "      quickchartButtonEl.classList.add('colab-df-quickchart-complete');\n",
              "    }\n",
              "    (() => {\n",
              "      let quickchartButtonEl =\n",
              "        document.querySelector('#df-33acad2f-a70d-404c-9501-1f4c7c1f78e1 button');\n",
              "      quickchartButtonEl.style.display =\n",
              "        google.colab.kernel.accessAllowed ? 'block' : 'none';\n",
              "    })();\n",
              "  </script>\n",
              "</div>\n",
              "    </div>\n",
              "  </div>\n"
            ]
          },
          "metadata": {},
          "execution_count": 38
        }
      ]
    },
    {
      "cell_type": "markdown",
      "source": [
        "# Querying with Faiss"
      ],
      "metadata": {
        "id": "yyRmoSNcH598"
      }
    },
    {
      "cell_type": "code",
      "source": [
        "!pip install faiss-cpu"
      ],
      "metadata": {
        "colab": {
          "base_uri": "https://localhost:8080/"
        },
        "id": "iAEmXTQjLHSM",
        "outputId": "8c79964b-e1be-4c2c-9a9d-7dee619c4d74"
      },
      "execution_count": 28,
      "outputs": [
        {
          "output_type": "stream",
          "name": "stdout",
          "text": [
            "Collecting faiss-cpu\n",
            "  Downloading faiss_cpu-1.7.4-cp310-cp310-manylinux_2_17_x86_64.manylinux2014_x86_64.whl (17.6 MB)\n",
            "\u001b[2K     \u001b[90m━━━━━━━━━━━━━━━━━━━━━━━━━━━━━━━━━━━━━━━━\u001b[0m \u001b[32m17.6/17.6 MB\u001b[0m \u001b[31m64.2 MB/s\u001b[0m eta \u001b[36m0:00:00\u001b[0m\n",
            "\u001b[?25hInstalling collected packages: faiss-cpu\n",
            "Successfully installed faiss-cpu-1.7.4\n"
          ]
        }
      ]
    },
    {
      "cell_type": "markdown",
      "source": [
        "Now load our tensor file and initiate a list of labels:"
      ],
      "metadata": {
        "id": "ItxIhg2OQJhb"
      }
    },
    {
      "cell_type": "code",
      "source": [
        "knn_vectors = torch.load(\"description_embeddings_openai_ada-002.pt\")\n",
        "knn_labels = wine.id.astype(str).tolist()"
      ],
      "metadata": {
        "id": "AnblS7SmI9Dy"
      },
      "execution_count": 26,
      "outputs": []
    },
    {
      "cell_type": "markdown",
      "source": [
        "Now we can create a Faiss index using our tensor file:"
      ],
      "metadata": {
        "id": "KHMQM1K8QYYc"
      }
    },
    {
      "cell_type": "code",
      "source": [
        "import faiss\n",
        "\n",
        "# Convert the data to NumPy arrays for use with faiss\n",
        "vectors_np = knn_vectors.numpy()\n",
        "\n",
        "# Determine the dimension of the vectors\n",
        "dimension = vectors_np.shape[1]  # This represents the dimension of the vectors\n",
        "\n",
        "# Build the Faiss index with cosine similarity\n",
        "faiss_index = faiss.IndexFlatIP(dimension)  # Create a Faiss index with cosine similarity\n",
        "faiss_index.add(vectors_np)  # Add the data vectors to the index\n"
      ],
      "metadata": {
        "id": "aVZHD3MxK-mV"
      },
      "execution_count": 39,
      "outputs": []
    },
    {
      "cell_type": "markdown",
      "source": [
        "And we can query the indexed data like this:"
      ],
      "metadata": {
        "id": "WfBv5nLJQdSu"
      }
    },
    {
      "cell_type": "code",
      "source": [
        "import numpy as np\n",
        "\n",
        "# Define the text query\n",
        "query_text = \"Fruity rich wine\"\n",
        "\n",
        "# Embed the text query to obtain a vector using the embedding model\n",
        "query_vector = embed_model.embed_query(query_text)\n",
        "\n",
        "# Specify the number of neighbors to return\n",
        "k = 5\n",
        "\n",
        "# Perform a nearest neighbor search to find the closest neighbors to the query vector(s).\n",
        "# D will contain cosine similarities between the query vector and its neighbors.\n",
        "# I will contain the indices of the nearest neighbors in the dataset.\n",
        "D, I = faiss_index.search(np.array([query_vector]), k)\n",
        "\n",
        "# Get labels of the neighbors\n",
        "neighbor_labels = [knn_labels[i] for i in I[0]]\n",
        "\n",
        "# Extract rows from the wine DataFrame based on the indices of the nearest neighbors\n",
        "faiss_result = wine.iloc[I[0]]"
      ],
      "metadata": {
        "id": "53LKL6YcLYBM"
      },
      "execution_count": 40,
      "outputs": []
    },
    {
      "cell_type": "markdown",
      "source": [
        "The result is exactly the same as with Pinecone (without filtering) if you check (which is expected)."
      ],
      "metadata": {
        "id": "nWohhOSpRtQV"
      }
    },
    {
      "cell_type": "code",
      "source": [
        "faiss_result"
      ],
      "metadata": {
        "colab": {
          "base_uri": "https://localhost:8080/",
          "height": 345
        },
        "id": "DuOhdODNM-lJ",
        "outputId": "732b2787-1f27-47f9-95f5-039de7ef6ad7"
      },
      "execution_count": 41,
      "outputs": [
        {
          "output_type": "execute_result",
          "data": {
            "text/plain": [
              "           id country                                        description  \\\n",
              "81734  125349  France  Rich, fruity and soft, this wine has a tang of...   \n",
              "15970   22632   Spain  Fruity is the best way to describe this young ...   \n",
              "41779   61437  France  A rich, fat wine, with the weight of concentra...   \n",
              "28352   40854      US  Fruity like grape jam and blackberry syrup, th...   \n",
              "74371  113195  France  Rich, fruity wine that is full of black plum j...   \n",
              "\n",
              "                designation  points    price        province  \\\n",
              "81734     Domaine D'E Croce    88.0     28.0    France Other   \n",
              "15970                  Seis    88.0     16.0  Northern Spain   \n",
              "41779      Château de Selle    90.0     43.0        Provence   \n",
              "28352                  Dark    87.0     10.0      California   \n",
              "74371  Domaine de Michelons    88.0  unknown      Beaujolais   \n",
              "\n",
              "                                                   title      variety  \\\n",
              "81734  Yves Leccia 2015 Domaine D'E Croce Rosé (Patri...         Rosé   \n",
              "15970                     Paco Garcia 2011 Seis  (Rioja)  Tempranillo   \n",
              "41779  Domaines Ott 2010 Château de Selle Rosé (Côtes...         Rosé   \n",
              "28352          Belle Ambiance 2015 Dark Red (California)    Red Blend   \n",
              "74371  Georges Duboeuf 2009 Domaine de Michelons  (Mo...        Gamay   \n",
              "\n",
              "                winery     region_cleaned                        style1  \\\n",
              "81734      Yves Leccia         Patrimonio           Rosé - France Other   \n",
              "15970      Paco Garcia              Rioja  Tempranillo - Northern Spain   \n",
              "41779     Domaines Ott  Côtes de Provence               Rosé - Provence   \n",
              "28352   Belle Ambiance         California        Red Blend - California   \n",
              "74371  Georges Duboeuf      Moulin-à-Vent            Gamay - Beaujolais   \n",
              "\n",
              "                             style2  \n",
              "81734           Rosé - France Other  \n",
              "15970  Tempranillo - Northern Spain  \n",
              "41779               Rosé - Provence  \n",
              "28352        Red Blend - California  \n",
              "74371            Gamay - Beaujolais  "
            ],
            "text/html": [
              "\n",
              "  <div id=\"df-5a8dd0b4-8b60-489f-846f-4bb19a62bb51\" class=\"colab-df-container\">\n",
              "    <div>\n",
              "<style scoped>\n",
              "    .dataframe tbody tr th:only-of-type {\n",
              "        vertical-align: middle;\n",
              "    }\n",
              "\n",
              "    .dataframe tbody tr th {\n",
              "        vertical-align: top;\n",
              "    }\n",
              "\n",
              "    .dataframe thead th {\n",
              "        text-align: right;\n",
              "    }\n",
              "</style>\n",
              "<table border=\"1\" class=\"dataframe\">\n",
              "  <thead>\n",
              "    <tr style=\"text-align: right;\">\n",
              "      <th></th>\n",
              "      <th>id</th>\n",
              "      <th>country</th>\n",
              "      <th>description</th>\n",
              "      <th>designation</th>\n",
              "      <th>points</th>\n",
              "      <th>price</th>\n",
              "      <th>province</th>\n",
              "      <th>title</th>\n",
              "      <th>variety</th>\n",
              "      <th>winery</th>\n",
              "      <th>region_cleaned</th>\n",
              "      <th>style1</th>\n",
              "      <th>style2</th>\n",
              "    </tr>\n",
              "  </thead>\n",
              "  <tbody>\n",
              "    <tr>\n",
              "      <th>81734</th>\n",
              "      <td>125349</td>\n",
              "      <td>France</td>\n",
              "      <td>Rich, fruity and soft, this wine has a tang of...</td>\n",
              "      <td>Domaine D'E Croce</td>\n",
              "      <td>88.0</td>\n",
              "      <td>28.0</td>\n",
              "      <td>France Other</td>\n",
              "      <td>Yves Leccia 2015 Domaine D'E Croce Rosé (Patri...</td>\n",
              "      <td>Rosé</td>\n",
              "      <td>Yves Leccia</td>\n",
              "      <td>Patrimonio</td>\n",
              "      <td>Rosé - France Other</td>\n",
              "      <td>Rosé - France Other</td>\n",
              "    </tr>\n",
              "    <tr>\n",
              "      <th>15970</th>\n",
              "      <td>22632</td>\n",
              "      <td>Spain</td>\n",
              "      <td>Fruity is the best way to describe this young ...</td>\n",
              "      <td>Seis</td>\n",
              "      <td>88.0</td>\n",
              "      <td>16.0</td>\n",
              "      <td>Northern Spain</td>\n",
              "      <td>Paco Garcia 2011 Seis  (Rioja)</td>\n",
              "      <td>Tempranillo</td>\n",
              "      <td>Paco Garcia</td>\n",
              "      <td>Rioja</td>\n",
              "      <td>Tempranillo - Northern Spain</td>\n",
              "      <td>Tempranillo - Northern Spain</td>\n",
              "    </tr>\n",
              "    <tr>\n",
              "      <th>41779</th>\n",
              "      <td>61437</td>\n",
              "      <td>France</td>\n",
              "      <td>A rich, fat wine, with the weight of concentra...</td>\n",
              "      <td>Château de Selle</td>\n",
              "      <td>90.0</td>\n",
              "      <td>43.0</td>\n",
              "      <td>Provence</td>\n",
              "      <td>Domaines Ott 2010 Château de Selle Rosé (Côtes...</td>\n",
              "      <td>Rosé</td>\n",
              "      <td>Domaines Ott</td>\n",
              "      <td>Côtes de Provence</td>\n",
              "      <td>Rosé - Provence</td>\n",
              "      <td>Rosé - Provence</td>\n",
              "    </tr>\n",
              "    <tr>\n",
              "      <th>28352</th>\n",
              "      <td>40854</td>\n",
              "      <td>US</td>\n",
              "      <td>Fruity like grape jam and blackberry syrup, th...</td>\n",
              "      <td>Dark</td>\n",
              "      <td>87.0</td>\n",
              "      <td>10.0</td>\n",
              "      <td>California</td>\n",
              "      <td>Belle Ambiance 2015 Dark Red (California)</td>\n",
              "      <td>Red Blend</td>\n",
              "      <td>Belle Ambiance</td>\n",
              "      <td>California</td>\n",
              "      <td>Red Blend - California</td>\n",
              "      <td>Red Blend - California</td>\n",
              "    </tr>\n",
              "    <tr>\n",
              "      <th>74371</th>\n",
              "      <td>113195</td>\n",
              "      <td>France</td>\n",
              "      <td>Rich, fruity wine that is full of black plum j...</td>\n",
              "      <td>Domaine de Michelons</td>\n",
              "      <td>88.0</td>\n",
              "      <td>unknown</td>\n",
              "      <td>Beaujolais</td>\n",
              "      <td>Georges Duboeuf 2009 Domaine de Michelons  (Mo...</td>\n",
              "      <td>Gamay</td>\n",
              "      <td>Georges Duboeuf</td>\n",
              "      <td>Moulin-à-Vent</td>\n",
              "      <td>Gamay - Beaujolais</td>\n",
              "      <td>Gamay - Beaujolais</td>\n",
              "    </tr>\n",
              "  </tbody>\n",
              "</table>\n",
              "</div>\n",
              "    <div class=\"colab-df-buttons\">\n",
              "\n",
              "  <div class=\"colab-df-container\">\n",
              "    <button class=\"colab-df-convert\" onclick=\"convertToInteractive('df-5a8dd0b4-8b60-489f-846f-4bb19a62bb51')\"\n",
              "            title=\"Convert this dataframe to an interactive table.\"\n",
              "            style=\"display:none;\">\n",
              "\n",
              "  <svg xmlns=\"http://www.w3.org/2000/svg\" height=\"24px\" viewBox=\"0 -960 960 960\">\n",
              "    <path d=\"M120-120v-720h720v720H120Zm60-500h600v-160H180v160Zm220 220h160v-160H400v160Zm0 220h160v-160H400v160ZM180-400h160v-160H180v160Zm440 0h160v-160H620v160ZM180-180h160v-160H180v160Zm440 0h160v-160H620v160Z\"/>\n",
              "  </svg>\n",
              "    </button>\n",
              "\n",
              "  <style>\n",
              "    .colab-df-container {\n",
              "      display:flex;\n",
              "      gap: 12px;\n",
              "    }\n",
              "\n",
              "    .colab-df-convert {\n",
              "      background-color: #E8F0FE;\n",
              "      border: none;\n",
              "      border-radius: 50%;\n",
              "      cursor: pointer;\n",
              "      display: none;\n",
              "      fill: #1967D2;\n",
              "      height: 32px;\n",
              "      padding: 0 0 0 0;\n",
              "      width: 32px;\n",
              "    }\n",
              "\n",
              "    .colab-df-convert:hover {\n",
              "      background-color: #E2EBFA;\n",
              "      box-shadow: 0px 1px 2px rgba(60, 64, 67, 0.3), 0px 1px 3px 1px rgba(60, 64, 67, 0.15);\n",
              "      fill: #174EA6;\n",
              "    }\n",
              "\n",
              "    .colab-df-buttons div {\n",
              "      margin-bottom: 4px;\n",
              "    }\n",
              "\n",
              "    [theme=dark] .colab-df-convert {\n",
              "      background-color: #3B4455;\n",
              "      fill: #D2E3FC;\n",
              "    }\n",
              "\n",
              "    [theme=dark] .colab-df-convert:hover {\n",
              "      background-color: #434B5C;\n",
              "      box-shadow: 0px 1px 3px 1px rgba(0, 0, 0, 0.15);\n",
              "      filter: drop-shadow(0px 1px 2px rgba(0, 0, 0, 0.3));\n",
              "      fill: #FFFFFF;\n",
              "    }\n",
              "  </style>\n",
              "\n",
              "    <script>\n",
              "      const buttonEl =\n",
              "        document.querySelector('#df-5a8dd0b4-8b60-489f-846f-4bb19a62bb51 button.colab-df-convert');\n",
              "      buttonEl.style.display =\n",
              "        google.colab.kernel.accessAllowed ? 'block' : 'none';\n",
              "\n",
              "      async function convertToInteractive(key) {\n",
              "        const element = document.querySelector('#df-5a8dd0b4-8b60-489f-846f-4bb19a62bb51');\n",
              "        const dataTable =\n",
              "          await google.colab.kernel.invokeFunction('convertToInteractive',\n",
              "                                                    [key], {});\n",
              "        if (!dataTable) return;\n",
              "\n",
              "        const docLinkHtml = 'Like what you see? Visit the ' +\n",
              "          '<a target=\"_blank\" href=https://colab.research.google.com/notebooks/data_table.ipynb>data table notebook</a>'\n",
              "          + ' to learn more about interactive tables.';\n",
              "        element.innerHTML = '';\n",
              "        dataTable['output_type'] = 'display_data';\n",
              "        await google.colab.output.renderOutput(dataTable, element);\n",
              "        const docLink = document.createElement('div');\n",
              "        docLink.innerHTML = docLinkHtml;\n",
              "        element.appendChild(docLink);\n",
              "      }\n",
              "    </script>\n",
              "  </div>\n",
              "\n",
              "\n",
              "<div id=\"df-9131393a-b422-401a-a732-e9fc87083305\">\n",
              "  <button class=\"colab-df-quickchart\" onclick=\"quickchart('df-9131393a-b422-401a-a732-e9fc87083305')\"\n",
              "            title=\"Suggest charts\"\n",
              "            style=\"display:none;\">\n",
              "\n",
              "<svg xmlns=\"http://www.w3.org/2000/svg\" height=\"24px\"viewBox=\"0 0 24 24\"\n",
              "     width=\"24px\">\n",
              "    <g>\n",
              "        <path d=\"M19 3H5c-1.1 0-2 .9-2 2v14c0 1.1.9 2 2 2h14c1.1 0 2-.9 2-2V5c0-1.1-.9-2-2-2zM9 17H7v-7h2v7zm4 0h-2V7h2v10zm4 0h-2v-4h2v4z\"/>\n",
              "    </g>\n",
              "</svg>\n",
              "  </button>\n",
              "\n",
              "<style>\n",
              "  .colab-df-quickchart {\n",
              "      --bg-color: #E8F0FE;\n",
              "      --fill-color: #1967D2;\n",
              "      --hover-bg-color: #E2EBFA;\n",
              "      --hover-fill-color: #174EA6;\n",
              "      --disabled-fill-color: #AAA;\n",
              "      --disabled-bg-color: #DDD;\n",
              "  }\n",
              "\n",
              "  [theme=dark] .colab-df-quickchart {\n",
              "      --bg-color: #3B4455;\n",
              "      --fill-color: #D2E3FC;\n",
              "      --hover-bg-color: #434B5C;\n",
              "      --hover-fill-color: #FFFFFF;\n",
              "      --disabled-bg-color: #3B4455;\n",
              "      --disabled-fill-color: #666;\n",
              "  }\n",
              "\n",
              "  .colab-df-quickchart {\n",
              "    background-color: var(--bg-color);\n",
              "    border: none;\n",
              "    border-radius: 50%;\n",
              "    cursor: pointer;\n",
              "    display: none;\n",
              "    fill: var(--fill-color);\n",
              "    height: 32px;\n",
              "    padding: 0;\n",
              "    width: 32px;\n",
              "  }\n",
              "\n",
              "  .colab-df-quickchart:hover {\n",
              "    background-color: var(--hover-bg-color);\n",
              "    box-shadow: 0 1px 2px rgba(60, 64, 67, 0.3), 0 1px 3px 1px rgba(60, 64, 67, 0.15);\n",
              "    fill: var(--button-hover-fill-color);\n",
              "  }\n",
              "\n",
              "  .colab-df-quickchart-complete:disabled,\n",
              "  .colab-df-quickchart-complete:disabled:hover {\n",
              "    background-color: var(--disabled-bg-color);\n",
              "    fill: var(--disabled-fill-color);\n",
              "    box-shadow: none;\n",
              "  }\n",
              "\n",
              "  .colab-df-spinner {\n",
              "    border: 2px solid var(--fill-color);\n",
              "    border-color: transparent;\n",
              "    border-bottom-color: var(--fill-color);\n",
              "    animation:\n",
              "      spin 1s steps(1) infinite;\n",
              "  }\n",
              "\n",
              "  @keyframes spin {\n",
              "    0% {\n",
              "      border-color: transparent;\n",
              "      border-bottom-color: var(--fill-color);\n",
              "      border-left-color: var(--fill-color);\n",
              "    }\n",
              "    20% {\n",
              "      border-color: transparent;\n",
              "      border-left-color: var(--fill-color);\n",
              "      border-top-color: var(--fill-color);\n",
              "    }\n",
              "    30% {\n",
              "      border-color: transparent;\n",
              "      border-left-color: var(--fill-color);\n",
              "      border-top-color: var(--fill-color);\n",
              "      border-right-color: var(--fill-color);\n",
              "    }\n",
              "    40% {\n",
              "      border-color: transparent;\n",
              "      border-right-color: var(--fill-color);\n",
              "      border-top-color: var(--fill-color);\n",
              "    }\n",
              "    60% {\n",
              "      border-color: transparent;\n",
              "      border-right-color: var(--fill-color);\n",
              "    }\n",
              "    80% {\n",
              "      border-color: transparent;\n",
              "      border-right-color: var(--fill-color);\n",
              "      border-bottom-color: var(--fill-color);\n",
              "    }\n",
              "    90% {\n",
              "      border-color: transparent;\n",
              "      border-bottom-color: var(--fill-color);\n",
              "    }\n",
              "  }\n",
              "</style>\n",
              "\n",
              "  <script>\n",
              "    async function quickchart(key) {\n",
              "      const quickchartButtonEl =\n",
              "        document.querySelector('#' + key + ' button');\n",
              "      quickchartButtonEl.disabled = true;  // To prevent multiple clicks.\n",
              "      quickchartButtonEl.classList.add('colab-df-spinner');\n",
              "      try {\n",
              "        const charts = await google.colab.kernel.invokeFunction(\n",
              "            'suggestCharts', [key], {});\n",
              "      } catch (error) {\n",
              "        console.error('Error during call to suggestCharts:', error);\n",
              "      }\n",
              "      quickchartButtonEl.classList.remove('colab-df-spinner');\n",
              "      quickchartButtonEl.classList.add('colab-df-quickchart-complete');\n",
              "    }\n",
              "    (() => {\n",
              "      let quickchartButtonEl =\n",
              "        document.querySelector('#df-9131393a-b422-401a-a732-e9fc87083305 button');\n",
              "      quickchartButtonEl.style.display =\n",
              "        google.colab.kernel.accessAllowed ? 'block' : 'none';\n",
              "    })();\n",
              "  </script>\n",
              "</div>\n",
              "    </div>\n",
              "  </div>\n"
            ]
          },
          "metadata": {},
          "execution_count": 41
        }
      ]
    }
  ]
}