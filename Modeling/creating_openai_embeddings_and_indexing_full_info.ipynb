{
  "cells": [
    {
      "cell_type": "code",
      "execution_count": null,
      "metadata": {
        "id": "UCC5L5cSc3uy"
      },
      "outputs": [],
      "source": [
        "!pip install -qU \\\n",
        "  transformers==4.31.0 \\\n",
        "  pinecone-client==2.2.3 \\\n",
        "  openai==1.3.2 \\\n",
        "  tiktoken==0.5.1 \\\n",
        "  langchain==0.0.336"
      ]
    },
    {
      "cell_type": "markdown",
      "metadata": {
        "id": "tfqAqST3Gkl3"
      },
      "source": [
        "# Creating Embeddings with an OpenAI Model"
      ]
    },
    {
      "cell_type": "markdown",
      "metadata": {
        "id": "TBmzDsROWOMS"
      },
      "source": [
        "Load our dataset:"
      ]
    },
    {
      "cell_type": "code",
      "execution_count": null,
      "metadata": {
        "id": "AxzX5LmRdCHt"
      },
      "outputs": [],
      "source": [
        "import pandas as pd\n",
        "\n",
        "wine = pd.read_csv('wine_cleaned_rev_concat.csv')\n",
        "\n",
        "# Also fill NaN values, because Pinecone cannot handle NaNs in the metadata\n",
        "wine.fillna(\"unknown\", inplace=True)\n",
        "\n",
        "# Rename the 'region_cleaned' column to 'region'\n",
        "wine.rename(columns={'region_cleaned': 'region'}, inplace=True)\n"
      ]
    },
    {
      "cell_type": "markdown",
      "metadata": {
        "id": "QYj6y50MnR7H"
      },
      "source": [
        "Add a new column that contains the information in all columns, for every wine:"
      ]
    },
    {
      "cell_type": "code",
      "execution_count": null,
      "metadata": {
        "id": "EUcVYLMmnXTo"
      },
      "outputs": [],
      "source": [
        "# Create a copy of the DataFrame to avoid modifying the original\n",
        "wine_info = wine.copy()\n",
        "\n",
        "# Define a function to concatenate information from all columns\n",
        "def concatenate_info(row):\n",
        "    # Exclude the \"id\" column\n",
        "    info_columns = [col for col in wine.columns if col != \"id\"]\n",
        "\n",
        "    # Create a string with the desired format\n",
        "    info_string = \", \".join([f\"{col.capitalize()}: {row[col]}\" for col in info_columns])\n",
        "\n",
        "    return info_string\n",
        "\n",
        "# Apply the function to create the new column\n",
        "wine_info[\"info\"] = wine_info.apply(concatenate_info, axis=1)"
      ]
    },
    {
      "cell_type": "markdown",
      "metadata": {
        "id": "dkJJkr1low_m"
      },
      "source": [
        "Here's what a single concatenated info entry looks like:"
      ]
    },
    {
      "cell_type": "code",
      "execution_count": null,
      "metadata": {
        "colab": {
          "base_uri": "https://localhost:8080/",
          "height": 122
        },
        "id": "fGBZyQDOoNEf",
        "outputId": "3dd1f1bf-3619-46ed-a490-28134784b016"
      },
      "outputs": [
        {
          "data": {
            "application/vnd.google.colaboratory.intrinsic+json": {
              "type": "string"
            },
            "text/plain": [
              "\"Country: US, Description: Creamy, lush and somewhat robust, this dry sparkler offers a thick mousse and touch of richness in its mix of nutty bread dough, green apple, pear and lime. Made predominantly from Pinot Noir, this is an easygoing, approachable sparkling wine, offering dry creamy layers of green apple, pear and strawberry. It also has a rich inviting mousse embedded with vanilla and marzipan. A wonderfully drinkable sparkling wine that appeals immediately for its balanced texture and rich flavors. Easy to like for its array of raspberries, limes, vanilla, toast and yeast. The sour lees note is nicely balanced with the sweet liqueur of dosage. Made from mostly Pinot Noir grapes, with an addition of 8.8% Chardonnay, this Méthode Champenoise wine is sultry in raspberry cream and crème brûlée, with enough acidity to keep it fresh in the glass. The finish offers a taste of toast with ginger jam. This wine shows lots of finesse for the price. The mousse is exceptionally refined, carrying complex flavors of limes, strawberries, brioche, vanilla and honey. The blend is mostly Pinot Noir, with about 9% Chardonnay. A bit rough and scouring in texture, this tastes too sweet. Its orange and strawberry notes have a sugary edge. It's an easy bubbly to drink at parties. A good, dry and elegant bubbly. Shows crisp flavors of yeasty bread dough, limes, tangerines, raspberries and vanilla. This is a great price for a sparkling wine of this finesse. From almost 92% Pinot Noir with the remainder Chardonnay, this is a dry, elegant, fairly priced sparkling wine tasting of ripe stone fruit. The finish ends sweet, begging for spicy food to complement. This bubbly is rich in cherry and raspberry fruit, in addition to the usual sparkling wine notes of bread dough and smoke. It's a little sweet and scoury on the palate, but a fairly polished sparkler for this price., Designation: Sonoma Brut, Points: 88.55555555555556, Price: 21.33333333333333, Province: California, Title: Gloria Ferrer NV Sonoma Brut Sparkling (Sonoma County), Variety: Sparkling Blend, Winery: Gloria Ferrer, Region: Sonoma, Style1: Sparkling Blend - California, Style2: Sparkling Blend - Sonoma, Style3: Sparkling Blend - Sonoma\""
            ]
          },
          "execution_count": 26,
          "metadata": {},
          "output_type": "execute_result"
        }
      ],
      "source": [
        "wine_info.iloc[2236]['info']"
      ]
    },
    {
      "cell_type": "markdown",
      "metadata": {
        "id": "UE_surj9WPhx"
      },
      "source": [
        "We will use the `text-embedding-ada-002` embedding model from OpenAI. The maximum number of tokens that it can handle is 8192. Let's check if any of our descriptions has more than 8192 tokens. If not, then no chunking will be necessary."
      ]
    },
    {
      "cell_type": "code",
      "execution_count": null,
      "metadata": {
        "colab": {
          "base_uri": "https://localhost:8080/"
        },
        "id": "S6rtxBWt65Is",
        "outputId": "3afa0a11-b41f-410d-983b-21fd9fec408f"
      },
      "outputs": [
        {
          "name": "stdout",
          "output_type": "stream",
          "text": [
            "2215\n"
          ]
        }
      ],
      "source": [
        "# Find the index of the row with the longest 'info' column\n",
        "max_info_index = wine_info['info'].apply(len).idxmax()\n",
        "\n",
        "# Get the row with the longest 'info'\n",
        "row_with_longest_info = wine_info.loc[max_info_index]\n",
        "\n",
        "# Print or use the row as needed\n",
        "print(len(row_with_longest_info['info']))\n"
      ]
    },
    {
      "cell_type": "markdown",
      "metadata": {
        "id": "Sa9JoPqEWtGQ"
      },
      "source": [
        "The longest description in terms of characters is 2215. It's more or less clear that there will be many fewer tokens than that in the longest description, but let's still check this."
      ]
    },
    {
      "cell_type": "code",
      "execution_count": null,
      "metadata": {
        "id": "vQ2AryTF2Hxr"
      },
      "outputs": [],
      "source": [
        "import os\n",
        "import openai\n",
        "\n",
        "# get API key from OpenAI website\n",
        "OPENAI_API_KEY = \"OPENAI_API_KEY\"\n",
        "\n",
        "openai.api_key = os.getenv(\"OPENAI_API_KEY\") or OPENAI_API_KEY"
      ]
    },
    {
      "cell_type": "markdown",
      "metadata": {
        "id": "EsU1R1L8YZiK"
      },
      "source": [
        "Import the tiktoken tokenizer:"
      ]
    },
    {
      "cell_type": "code",
      "execution_count": null,
      "metadata": {
        "colab": {
          "base_uri": "https://localhost:8080/"
        },
        "id": "mAdScc6lCdFf",
        "outputId": "454d94bc-3983-4b68-dda6-6e41878ad32a"
      },
      "outputs": [
        {
          "data": {
            "text/plain": [
              "<Encoding 'cl100k_base'>"
            ]
          },
          "execution_count": 77,
          "metadata": {},
          "output_type": "execute_result"
        }
      ],
      "source": [
        "import tiktoken\n",
        "\n",
        "tiktoken.encoding_for_model('gpt-4-1106-preview')"
      ]
    },
    {
      "cell_type": "markdown",
      "metadata": {
        "id": "ddsr_6cnYgap"
      },
      "source": [
        "Define the function that outputs the token length of a given string:"
      ]
    },
    {
      "cell_type": "code",
      "execution_count": null,
      "metadata": {
        "colab": {
          "base_uri": "https://localhost:8080/"
        },
        "id": "KslK09aZC1AA",
        "outputId": "d6fb0d20-61eb-44f9-ae08-635e6cdd6b43"
      },
      "outputs": [
        {
          "data": {
            "text/plain": [
              "9"
            ]
          },
          "execution_count": 78,
          "metadata": {},
          "output_type": "execute_result"
        }
      ],
      "source": [
        "tokenizer = tiktoken.get_encoding('cl100k_base')\n",
        "\n",
        "def tiktoken_len(text):\n",
        "    tokens = tokenizer.encode(\n",
        "        text,\n",
        "        disallowed_special=()\n",
        "    )\n",
        "    return len(tokens)\n",
        "\n",
        "tiktoken_len(\"Hi, I'm a piece of text.\")"
      ]
    },
    {
      "cell_type": "markdown",
      "metadata": {
        "id": "TIX-EQXpY91o"
      },
      "source": [
        "See what the token length of our longest description is:"
      ]
    },
    {
      "cell_type": "code",
      "execution_count": null,
      "metadata": {
        "colab": {
          "base_uri": "https://localhost:8080/"
        },
        "id": "gpOFmh_pDKKT",
        "outputId": "8e4b0a9f-cb53-4279-c454-b0fa6c8516ae"
      },
      "outputs": [
        {
          "data": {
            "text/plain": [
              "527"
            ]
          },
          "execution_count": 31,
          "metadata": {},
          "output_type": "execute_result"
        }
      ],
      "source": [
        "tiktoken_len(row_with_longest_info['info'])"
      ]
    },
    {
      "cell_type": "markdown",
      "metadata": {
        "id": "o578CvqzZFDP"
      },
      "source": [
        "This is much smaller than 8192, so we don't need to split our descriptions into chunks. Now let's create embeddings for every description and save them to a tensor file. First, define the embedding model:"
      ]
    },
    {
      "cell_type": "code",
      "execution_count": null,
      "metadata": {
        "id": "-5jSeZ195kuV"
      },
      "outputs": [],
      "source": [
        "from langchain.embeddings.openai import OpenAIEmbeddings\n",
        "\n",
        "model_name = 'text-embedding-ada-002'\n",
        "\n",
        "embed_model = OpenAIEmbeddings(\n",
        "    model=model_name,\n",
        "    openai_api_key=OPENAI_API_KEY\n",
        ")"
      ]
    },
    {
      "cell_type": "markdown",
      "metadata": {
        "id": "gLjBXyT3Hm6S"
      },
      "source": [
        "See how it works:"
      ]
    },
    {
      "cell_type": "code",
      "execution_count": null,
      "metadata": {
        "colab": {
          "base_uri": "https://localhost:8080/"
        },
        "id": "Lrlzf6Mi5ow5",
        "outputId": "5413ba92-ed23-48d0-9c64-85d9ebd6ef8b"
      },
      "outputs": [
        {
          "name": "stdout",
          "output_type": "stream",
          "text": [
            "We have 2 doc embeddings, each with a dimensionality of 1536.\n"
          ]
        }
      ],
      "source": [
        "docs = [\n",
        "    \"this is one document\",\n",
        "    \"and another document\"\n",
        "]\n",
        "\n",
        "embeddings = embed_model.embed_documents(docs)\n",
        "\n",
        "print(f\"We have {len(embeddings)} doc embeddings, each with \"\n",
        "      f\"a dimensionality of {len(embeddings[0])}.\")"
      ]
    },
    {
      "cell_type": "markdown",
      "metadata": {
        "id": "l0sGdpEg4rl4"
      },
      "source": [
        "Now we're ready to create a tensor file:"
      ]
    },
    {
      "cell_type": "code",
      "execution_count": null,
      "metadata": {
        "colab": {
          "base_uri": "https://localhost:8080/"
        },
        "id": "UJsO4SwaEyWj",
        "outputId": "760bb46b-a3a9-4138-ee5a-e898f3dc0b3f"
      },
      "outputs": [
        {
          "name": "stderr",
          "output_type": "stream",
          "text": [
            "Processing Batches: 100%|██████████| 846/846 [20:56<00:00,  1.49s/it]\n"
          ]
        }
      ],
      "source": [
        "import math\n",
        "import torch\n",
        "from tqdm import tqdm\n",
        "\n",
        "# Extract the \"info\" column as a list from wine_info\n",
        "infos = wine_info['info'].tolist()\n",
        "\n",
        "# Set batch size\n",
        "batch_size = 100\n",
        "\n",
        "# Calculate the number of batches needed\n",
        "num_batches = math.ceil(len(infos) / batch_size)\n",
        "\n",
        "# Initialize a list to store embeddings\n",
        "info_embeddings = []\n",
        "\n",
        "# Process data in batches with tqdm\n",
        "for i in tqdm(range(num_batches), desc=\"Processing Batches\"):\n",
        "    start_idx = i * batch_size\n",
        "    end_idx = min((i + 1) * batch_size, len(infos))\n",
        "    batch_infos = infos[start_idx:end_idx]\n",
        "\n",
        "    # Encode the batch of infos using the model\n",
        "    batch_embeddings = embed_model.embed_documents(batch_infos)\n",
        "\n",
        "    # Append the batch embeddings to the list\n",
        "    info_embeddings.extend(batch_embeddings)\n",
        "\n",
        "# Convert the list of embeddings to a PyTorch tensor\n",
        "info_tensor = torch.tensor(info_embeddings)\n",
        "\n",
        "# Save the tensor to a file\n",
        "torch.save(info_tensor, 'info_embeddings_openai_ada-002_updated.pt')"
      ]
    },
    {
      "cell_type": "markdown",
      "metadata": {
        "id": "jd4rrdOvZtnC"
      },
      "source": [
        "# Sending Embeddings and Metadata to Pinecone"
      ]
    },
    {
      "cell_type": "markdown",
      "metadata": {
        "id": "xIUKY9c4HqmO"
      },
      "source": [
        "We can now send these embeddings, along with the corresponding metadata, to Pinecone. First, initialize access to Pinecone:"
      ]
    },
    {
      "cell_type": "code",
      "execution_count": null,
      "metadata": {
        "colab": {
          "base_uri": "https://localhost:8080/"
        },
        "id": "nWJpivpDgeQ3",
        "outputId": "6405ffc4-bae5-41ef-8709-51a9ff2a12ea"
      },
      "outputs": [
        {
          "name": "stderr",
          "output_type": "stream",
          "text": [
            "/usr/local/lib/python3.10/dist-packages/pinecone/index.py:4: TqdmExperimentalWarning: Using `tqdm.autonotebook.tqdm` in notebook mode. Use `tqdm.tqdm` instead to force console mode (e.g. in jupyter console)\n",
            "  from tqdm.autonotebook import tqdm\n"
          ]
        }
      ],
      "source": [
        "import os\n",
        "import pinecone\n",
        "from tqdm import tqdm\n",
        "\n",
        "# get API key from app.pinecone.io and environment from console\n",
        "pinecone.init(\n",
        "    api_key=os.environ.get('PINECONE_API_KEY') or 'PINECONE_API_KEY',\n",
        "    environment=os.environ.get('PINECONE_ENVIRONMENT') or 'PINECONE_ENVIRONMENT'\n",
        ")"
      ]
    },
    {
      "cell_type": "markdown",
      "metadata": {
        "id": "QwUyglSkHtMi"
      },
      "source": [
        "See what indexes exist already:"
      ]
    },
    {
      "cell_type": "code",
      "execution_count": null,
      "metadata": {
        "colab": {
          "base_uri": "https://localhost:8080/"
        },
        "id": "ZPCjSEeF44CU",
        "outputId": "dfd14973-0b04-4efb-9134-d1c9fdd709a3"
      },
      "outputs": [
        {
          "data": {
            "text/plain": [
              "[]"
            ]
          },
          "execution_count": 44,
          "metadata": {},
          "output_type": "execute_result"
        }
      ],
      "source": [
        "pinecone.list_indexes()"
      ]
    },
    {
      "cell_type": "markdown",
      "metadata": {
        "id": "2hkAPcmeHxTJ"
      },
      "source": [
        "Create a new index (if not already):"
      ]
    },
    {
      "cell_type": "code",
      "execution_count": null,
      "metadata": {
        "id": "P5zixRBc5TEG"
      },
      "outputs": [],
      "source": [
        "import time\n",
        "\n",
        "index_name = 'rag-openai-combined-updated'\n",
        "\n",
        "if index_name not in pinecone.list_indexes():\n",
        "    pinecone.create_index(\n",
        "        index_name,\n",
        "        dimension=len(embeddings[0]),\n",
        "        metric='cosine'\n",
        "    )\n",
        "    # wait for index to finish initialization\n",
        "    while not pinecone.describe_index(index_name).status['ready']:\n",
        "        time.sleep(1)"
      ]
    },
    {
      "cell_type": "markdown",
      "metadata": {
        "id": "Q5jAJAuT5y7Y"
      },
      "source": [
        "Now connect to the index:"
      ]
    },
    {
      "cell_type": "code",
      "execution_count": null,
      "metadata": {
        "colab": {
          "base_uri": "https://localhost:8080/"
        },
        "id": "cMehlOo65VyN",
        "outputId": "598666db-8618-499c-ec05-55acea60c80d"
      },
      "outputs": [
        {
          "data": {
            "text/plain": [
              "{'dimension': 1536,\n",
              " 'index_fullness': 0.0,\n",
              " 'namespaces': {},\n",
              " 'total_vector_count': 0}"
            ]
          },
          "execution_count": 46,
          "metadata": {},
          "output_type": "execute_result"
        }
      ],
      "source": [
        "# Get an instance of the Pinecone Index with the specified index name\n",
        "index = pinecone.Index(index_name)\n",
        "\n",
        "# Retrieve and display statistics about the Pinecone index\n",
        "index.describe_index_stats()\n"
      ]
    },
    {
      "cell_type": "markdown",
      "metadata": {
        "id": "GZcHqD5i59jX"
      },
      "source": [
        "Use the tensor file to send embeddings for 'description' to Pinecone. Also include the corresponding pieces of metadata:"
      ]
    },
    {
      "cell_type": "code",
      "execution_count": null,
      "metadata": {
        "colab": {
          "base_uri": "https://localhost:8080/"
        },
        "id": "Z2Qyal4g59FQ",
        "outputId": "c626bdfc-78b2-475b-debf-e3b46b37dd05"
      },
      "outputs": [
        {
          "name": "stderr",
          "output_type": "stream",
          "text": [
            "100%|██████████| 2641/2641 [14:52<00:00,  2.96it/s]\n"
          ]
        }
      ],
      "source": [
        "import torch\n",
        "from tqdm import tqdm\n",
        "\n",
        "# Load the PyTorch tensor from the tensor file\n",
        "info_embeddings_tensor = torch.load('info_embeddings_openai_ada-002_updated.pt')\n",
        "\n",
        "# Define the batch size\n",
        "batch_size = 32\n",
        "\n",
        "# Create a loop to process data in batches\n",
        "for i in tqdm(range(0, len(info_embeddings_tensor), batch_size)):\n",
        "    i_end = min(len(info_embeddings_tensor), i + batch_size)\n",
        "    batch = info_embeddings_tensor[i:i_end]\n",
        "\n",
        "    # Extract data from the 'wine_info' DataFrame for metadata\n",
        "    metadata_batch = wine_info.iloc[i:i_end].reset_index(drop=True)\n",
        "\n",
        "    # Extract data from the batch\n",
        "    # Using 'id' column as the ID\n",
        "    metadata_batch['id'] = metadata_batch['id'].astype(str)  # Convert 'id' to string for serialization\n",
        "    ids = metadata_batch['id'].tolist()\n",
        "\n",
        "    # Include all columns as metadata\n",
        "    metadata = [\n",
        "        {col: metadata_batch.at[idx, col] for col in wine_info.columns}\n",
        "        for idx in range(len(metadata_batch))\n",
        "    ]\n",
        "\n",
        "    # Extract the embeddings directly from the loaded tensor and convert to Python list\n",
        "    embeds = batch.numpy().tolist()\n",
        "\n",
        "    # Prepare the vectors as a list of tuples\n",
        "    vectors = [(id, embed, meta) for id, embed, meta in zip(ids, embeds, metadata)]\n",
        "\n",
        "    # Add the vectors to Pinecone using index.upsert()\n",
        "    index.upsert(vectors=vectors)\n"
      ]
    },
    {
      "cell_type": "markdown",
      "metadata": {
        "id": "bmOqJxViadsx"
      },
      "source": [
        "Check the index stats:"
      ]
    },
    {
      "cell_type": "code",
      "execution_count": null,
      "metadata": {
        "colab": {
          "base_uri": "https://localhost:8080/"
        },
        "id": "DY_Y7kvaagn7",
        "outputId": "8f9cc0bf-568d-471f-f3ac-d32b64ef3b74"
      },
      "outputs": [
        {
          "data": {
            "text/plain": [
              "{'dimension': 1536,\n",
              " 'index_fullness': 0.9,\n",
              " 'namespaces': {'': {'vector_count': 84502}},\n",
              " 'total_vector_count': 84502}"
            ]
          },
          "execution_count": 53,
          "metadata": {},
          "output_type": "execute_result"
        }
      ],
      "source": [
        "index.describe_index_stats()"
      ]
    },
    {
      "cell_type": "markdown",
      "metadata": {
        "id": "x2nAxjSbec_j"
      },
      "source": [
        "# Querying with Pinecone"
      ]
    },
    {
      "cell_type": "markdown",
      "metadata": {
        "id": "2pRtgcAOFn5U"
      },
      "source": [
        "We can now query the indexed data like this. Here, we used the filter `\"country\": 'France'`, so only wines from France will appear.\n",
        "\n"
      ]
    },
    {
      "cell_type": "code",
      "execution_count": null,
      "metadata": {
        "id": "f749n42q6ge3"
      },
      "outputs": [],
      "source": [
        "query = \"Oaky dry wine\"\n",
        "\n",
        "embedding = embed_model.embed_query(query)\n",
        "\n",
        "result = index.query(\n",
        "    vector=embedding,\n",
        "    filter={\n",
        "        \"country\": 'France'\n",
        "    },\n",
        "    top_k=5,\n",
        "    include_metadata=True\n",
        ")"
      ]
    },
    {
      "cell_type": "markdown",
      "metadata": {
        "id": "fDJhTCNvFr-C"
      },
      "source": [
        "The plain result looks like this:"
      ]
    },
    {
      "cell_type": "code",
      "execution_count": null,
      "metadata": {
        "colab": {
          "base_uri": "https://localhost:8080/"
        },
        "id": "pnWWdqNZUoha",
        "outputId": "1837b354-dbc8-4ca2-c0e6-a920f377fc94"
      },
      "outputs": [
        {
          "data": {
            "text/plain": [
              "{'matches': [{'id': '18993',\n",
              "              'metadata': {'country': 'France',\n",
              "                           'description': 'Dry, firm and tough, this wine '\n",
              "                                          'lacks the fruit fruit to come '\n",
              "                                          \"through the structure. It's a wine \"\n",
              "                                          'for those who like plenty of wood.',\n",
              "                           'designation': 'Excellence',\n",
              "                           'id': '18993',\n",
              "                           'info': 'Country: France, Description: Dry, firm '\n",
              "                                   'and tough, this wine lacks the fruit fruit '\n",
              "                                   \"to come through the structure. It's a wine \"\n",
              "                                   'for those who like plenty of wood., '\n",
              "                                   'Designation: Excellence, Points: 84.0, '\n",
              "                                   'Price: 16.0, Province: Bordeaux, Title: '\n",
              "                                   'Les Vignerons de Tutiac 2015 Excellence  '\n",
              "                                   '(Blaye Côtes de Bordeaux), Variety: '\n",
              "                                   'Bordeaux-style Red Blend, Winery: Les '\n",
              "                                   'Vignerons de Tutiac, Region: Blaye Côtes '\n",
              "                                   'de Bordeaux, Style1: Bordeaux-style Red '\n",
              "                                   'Blend - Bordeaux, Style2: Bordeaux-style '\n",
              "                                   'Red Blend - Bordeaux, Style3: '\n",
              "                                   'Bordeaux-style Red Blend - France',\n",
              "                           'points': 84.0,\n",
              "                           'price': 16.0,\n",
              "                           'province': 'Bordeaux',\n",
              "                           'region': 'Blaye Côtes de Bordeaux',\n",
              "                           'style1': 'Bordeaux-style Red Blend - Bordeaux',\n",
              "                           'style2': 'Bordeaux-style Red Blend - Bordeaux',\n",
              "                           'style3': 'Bordeaux-style Red Blend - France',\n",
              "                           'title': 'Les Vignerons de Tutiac 2015 Excellence  '\n",
              "                                    '(Blaye Côtes de Bordeaux)',\n",
              "                           'variety': 'Bordeaux-style Red Blend',\n",
              "                           'winery': 'Les Vignerons de Tutiac'},\n",
              "              'score': 0.857618213,\n",
              "              'values': []},\n",
              "             {'id': '43607',\n",
              "              'metadata': {'country': 'France',\n",
              "                           'description': 'Oaky notes of buttered toast, dried '\n",
              "                                          'apple slices and baked peach are '\n",
              "                                          'upfront in the bouquet of this '\n",
              "                                          'wine. The palate is similarly rich '\n",
              "                                          'and round, but with ample acidity '\n",
              "                                          'to keep it from falling completely '\n",
              "                                          'flat. Flavors of orange creamsicle '\n",
              "                                          'and spiced apple linger on the '\n",
              "                                          'close.',\n",
              "                           'designation': 'Reserve',\n",
              "                           'id': '43607',\n",
              "                           'info': 'Country: France, Description: Oaky notes '\n",
              "                                   'of buttered toast, dried apple slices and '\n",
              "                                   'baked peach are upfront in the bouquet of '\n",
              "                                   'this wine. The palate is similarly rich '\n",
              "                                   'and round, but with ample acidity to keep '\n",
              "                                   'it from falling completely flat. Flavors '\n",
              "                                   'of orange creamsicle and spiced apple '\n",
              "                                   'linger on the close., Designation: '\n",
              "                                   'Reserve, Points: 84.0, Price: 10.0, '\n",
              "                                   'Province: France Other, Title: Phantom Bay '\n",
              "                                   '2014 Reserve Chardonnay (Vin de France), '\n",
              "                                   'Variety: Chardonnay, Winery: Phantom Bay, '\n",
              "                                   'Region: Vin de France, Style1: Chardonnay '\n",
              "                                   '- France Other, Style2: Chardonnay - '\n",
              "                                   'France Other, Style3: Chardonnay - France',\n",
              "                           'points': 84.0,\n",
              "                           'price': 10.0,\n",
              "                           'province': 'France Other',\n",
              "                           'region': 'Vin de France',\n",
              "                           'style1': 'Chardonnay - France Other',\n",
              "                           'style2': 'Chardonnay - France Other',\n",
              "                           'style3': 'Chardonnay - France',\n",
              "                           'title': 'Phantom Bay 2014 Reserve Chardonnay (Vin '\n",
              "                                    'de France)',\n",
              "                           'variety': 'Chardonnay',\n",
              "                           'winery': 'Phantom Bay'},\n",
              "              'score': 0.853897095,\n",
              "              'values': []},\n",
              "             {'id': '58845',\n",
              "              'metadata': {'country': 'France',\n",
              "                           'description': 'This wine is bone-dry, although '\n",
              "                                          'with some age the shock of the '\n",
              "                                          'acidity has been rounded out by a '\n",
              "                                          \"hint of toast. It's linear, fresh \"\n",
              "                                          'and intensely crisp, with citrus '\n",
              "                                          'and almond tones. Drink this wine '\n",
              "                                          'from a good vintage now.',\n",
              "                           'designation': \"Le Nombre d'Or Brut Nature\",\n",
              "                           'id': '58845',\n",
              "                           'info': 'Country: France, Description: This wine is '\n",
              "                                   'bone-dry, although with some age the shock '\n",
              "                                   'of the acidity has been rounded out by a '\n",
              "                                   \"hint of toast. It's linear, fresh and \"\n",
              "                                   'intensely crisp, with citrus and almond '\n",
              "                                   'tones. Drink this wine from a good vintage '\n",
              "                                   \"now., Designation: Le Nombre d'Or Brut \"\n",
              "                                   'Nature, Points: 91.0, Price: 85.0, '\n",
              "                                   'Province: Champagne, Title: Aubry 2009 Le '\n",
              "                                   \"Nombre d'Or Brut Nature Chardonnay \"\n",
              "                                   '(Champagne), Variety: Chardonnay, Winery: '\n",
              "                                   'Aubry, Region: Champagne, Style1: '\n",
              "                                   'Chardonnay - Champagne, Style2: Chardonnay '\n",
              "                                   '- Champagne, Style3: Chardonnay - France',\n",
              "                           'points': 91.0,\n",
              "                           'price': 85.0,\n",
              "                           'province': 'Champagne',\n",
              "                           'region': 'Champagne',\n",
              "                           'style1': 'Chardonnay - Champagne',\n",
              "                           'style2': 'Chardonnay - Champagne',\n",
              "                           'style3': 'Chardonnay - France',\n",
              "                           'title': \"Aubry 2009 Le Nombre d'Or Brut Nature \"\n",
              "                                    'Chardonnay (Champagne)',\n",
              "                           'variety': 'Chardonnay',\n",
              "                           'winery': 'Aubry'},\n",
              "              'score': 0.853260517,\n",
              "              'values': []},\n",
              "             {'id': '88331',\n",
              "              'metadata': {'country': 'France',\n",
              "                           'description': \"Yes, it's dry, very dry. However, \"\n",
              "                                          'this well-made wine with its steely '\n",
              "                                          'texture and tight character just '\n",
              "                                          'needs some bottle age to give it '\n",
              "                                          'the richness that is missing at the '\n",
              "                                          'moment. It would be good with food '\n",
              "                                          'now; give it at least a year in '\n",
              "                                          'bottle after purchase to be even '\n",
              "                                          'better.',\n",
              "                           'designation': 'Zéro Dosage Brut Nature',\n",
              "                           'id': '88331',\n",
              "                           'info': \"Country: France, Description: Yes, it's \"\n",
              "                                   'dry, very dry. However, this well-made '\n",
              "                                   'wine with its steely texture and tight '\n",
              "                                   'character just needs some bottle age to '\n",
              "                                   'give it the richness that is missing at '\n",
              "                                   'the moment. It would be good with food '\n",
              "                                   'now; give it at least a year in bottle '\n",
              "                                   'after purchase to be even better., '\n",
              "                                   'Designation: Zéro Dosage Brut Nature, '\n",
              "                                   'Points: 90.0, Price: unknown, Province: '\n",
              "                                   'Champagne, Title: Nicolas Maillart NV Zéro '\n",
              "                                   'Dosage Brut Nature  (Champagne), Variety: '\n",
              "                                   'Champagne Blend, Winery: Nicolas Maillart, '\n",
              "                                   'Region: Champagne, Style1: Champagne Blend '\n",
              "                                   '- Champagne, Style2: Champagne Blend - '\n",
              "                                   'Champagne, Style3: Champagne Blend - '\n",
              "                                   'France',\n",
              "                           'points': 90.0,\n",
              "                           'price': 'unknown',\n",
              "                           'province': 'Champagne',\n",
              "                           'region': 'Champagne',\n",
              "                           'style1': 'Champagne Blend - Champagne',\n",
              "                           'style2': 'Champagne Blend - Champagne',\n",
              "                           'style3': 'Champagne Blend - France',\n",
              "                           'title': 'Nicolas Maillart NV Zéro Dosage Brut '\n",
              "                                    'Nature  (Champagne)',\n",
              "                           'variety': 'Champagne Blend',\n",
              "                           'winery': 'Nicolas Maillart'},\n",
              "              'score': 0.852645278,\n",
              "              'values': []},\n",
              "             {'id': '21394',\n",
              "              'metadata': {'country': 'France',\n",
              "                           'description': '90—92 Barrel sample. Dry botrytis '\n",
              "                                          'is the theme here, with richness '\n",
              "                                          'rather than sweetness. Somewhere '\n",
              "                                          'under all that dryness is acidity '\n",
              "                                          'and flavors of sweet pears, but '\n",
              "                                          'these are a long way off.',\n",
              "                           'designation': 'Barrel sample',\n",
              "                           'id': '21394',\n",
              "                           'info': 'Country: France, Description: 90—92 Barrel '\n",
              "                                   'sample. Dry botrytis is the theme here, '\n",
              "                                   'with richness rather than sweetness. '\n",
              "                                   'Somewhere under all that dryness is '\n",
              "                                   'acidity and flavors of sweet pears, but '\n",
              "                                   'these are a long way off., Designation: '\n",
              "                                   'Barrel sample, Points: 91.0, Price: '\n",
              "                                   'unknown, Province: Bordeaux, Title: '\n",
              "                                   'Château Suau 2006 Barrel sample  (Barsac), '\n",
              "                                   'Variety: Bordeaux-style White Blend, '\n",
              "                                   'Winery: Château Suau, Region: Barsac, '\n",
              "                                   'Style1: Bordeaux-style White Blend - '\n",
              "                                   'Bordeaux, Style2: Bordeaux-style White '\n",
              "                                   'Blend - Bordeaux, Style3: Bordeaux-style '\n",
              "                                   'White Blend - France',\n",
              "                           'points': 91.0,\n",
              "                           'price': 'unknown',\n",
              "                           'province': 'Bordeaux',\n",
              "                           'region': 'Barsac',\n",
              "                           'style1': 'Bordeaux-style White Blend - Bordeaux',\n",
              "                           'style2': 'Bordeaux-style White Blend - Bordeaux',\n",
              "                           'style3': 'Bordeaux-style White Blend - France',\n",
              "                           'title': 'Château Suau 2006 Barrel sample  (Barsac)',\n",
              "                           'variety': 'Bordeaux-style White Blend',\n",
              "                           'winery': 'Château Suau'},\n",
              "              'score': 0.851170242,\n",
              "              'values': []}],\n",
              " 'namespace': ''}"
            ]
          },
          "execution_count": 75,
          "metadata": {},
          "output_type": "execute_result"
        }
      ],
      "source": [
        "result"
      ]
    },
    {
      "cell_type": "markdown",
      "metadata": {
        "id": "whyh75rWF-4m"
      },
      "source": [
        "We can also make it look more presentable:"
      ]
    },
    {
      "cell_type": "code",
      "execution_count": null,
      "metadata": {
        "colab": {
          "base_uri": "https://localhost:8080/",
          "height": 553
        },
        "id": "E1SVBEmw1PWy",
        "outputId": "1c6b080f-705e-4dbd-d29b-90fc26277e0b"
      },
      "outputs": [
        {
          "data": {
            "text/html": [
              "\n",
              "  <div id=\"df-405aac9a-e2dd-4b08-a0e6-fc1d78f1e590\" class=\"colab-df-container\">\n",
              "    <div>\n",
              "<style scoped>\n",
              "    .dataframe tbody tr th:only-of-type {\n",
              "        vertical-align: middle;\n",
              "    }\n",
              "\n",
              "    .dataframe tbody tr th {\n",
              "        vertical-align: top;\n",
              "    }\n",
              "\n",
              "    .dataframe thead th {\n",
              "        text-align: right;\n",
              "    }\n",
              "</style>\n",
              "<table border=\"1\" class=\"dataframe\">\n",
              "  <thead>\n",
              "    <tr style=\"text-align: right;\">\n",
              "      <th></th>\n",
              "      <th>id</th>\n",
              "      <th>score</th>\n",
              "      <th>country</th>\n",
              "      <th>description</th>\n",
              "      <th>designation</th>\n",
              "      <th>info</th>\n",
              "      <th>points</th>\n",
              "      <th>price</th>\n",
              "      <th>province</th>\n",
              "      <th>region</th>\n",
              "      <th>style1</th>\n",
              "      <th>style2</th>\n",
              "      <th>style3</th>\n",
              "      <th>title</th>\n",
              "      <th>variety</th>\n",
              "      <th>winery</th>\n",
              "    </tr>\n",
              "  </thead>\n",
              "  <tbody>\n",
              "    <tr>\n",
              "      <th>0</th>\n",
              "      <td>18993</td>\n",
              "      <td>0.857618</td>\n",
              "      <td>France</td>\n",
              "      <td>Dry, firm and tough, this wine lacks the fruit...</td>\n",
              "      <td>Excellence</td>\n",
              "      <td>Country: France, Description: Dry, firm and to...</td>\n",
              "      <td>84.0</td>\n",
              "      <td>16.0</td>\n",
              "      <td>Bordeaux</td>\n",
              "      <td>Blaye Côtes de Bordeaux</td>\n",
              "      <td>Bordeaux-style Red Blend - Bordeaux</td>\n",
              "      <td>Bordeaux-style Red Blend - Bordeaux</td>\n",
              "      <td>Bordeaux-style Red Blend - France</td>\n",
              "      <td>Les Vignerons de Tutiac 2015 Excellence  (Blay...</td>\n",
              "      <td>Bordeaux-style Red Blend</td>\n",
              "      <td>Les Vignerons de Tutiac</td>\n",
              "    </tr>\n",
              "    <tr>\n",
              "      <th>1</th>\n",
              "      <td>43607</td>\n",
              "      <td>0.853897</td>\n",
              "      <td>France</td>\n",
              "      <td>Oaky notes of buttered toast, dried apple slic...</td>\n",
              "      <td>Reserve</td>\n",
              "      <td>Country: France, Description: Oaky notes of bu...</td>\n",
              "      <td>84.0</td>\n",
              "      <td>10.0</td>\n",
              "      <td>France Other</td>\n",
              "      <td>Vin de France</td>\n",
              "      <td>Chardonnay - France Other</td>\n",
              "      <td>Chardonnay - France Other</td>\n",
              "      <td>Chardonnay - France</td>\n",
              "      <td>Phantom Bay 2014 Reserve Chardonnay (Vin de Fr...</td>\n",
              "      <td>Chardonnay</td>\n",
              "      <td>Phantom Bay</td>\n",
              "    </tr>\n",
              "    <tr>\n",
              "      <th>2</th>\n",
              "      <td>58845</td>\n",
              "      <td>0.853261</td>\n",
              "      <td>France</td>\n",
              "      <td>This wine is bone-dry, although with some age ...</td>\n",
              "      <td>Le Nombre d'Or Brut Nature</td>\n",
              "      <td>Country: France, Description: This wine is bon...</td>\n",
              "      <td>91.0</td>\n",
              "      <td>85.0</td>\n",
              "      <td>Champagne</td>\n",
              "      <td>Champagne</td>\n",
              "      <td>Chardonnay - Champagne</td>\n",
              "      <td>Chardonnay - Champagne</td>\n",
              "      <td>Chardonnay - France</td>\n",
              "      <td>Aubry 2009 Le Nombre d'Or Brut Nature Chardonn...</td>\n",
              "      <td>Chardonnay</td>\n",
              "      <td>Aubry</td>\n",
              "    </tr>\n",
              "    <tr>\n",
              "      <th>3</th>\n",
              "      <td>88331</td>\n",
              "      <td>0.852645</td>\n",
              "      <td>France</td>\n",
              "      <td>Yes, it's dry, very dry. However, this well-ma...</td>\n",
              "      <td>Zéro Dosage Brut Nature</td>\n",
              "      <td>Country: France, Description: Yes, it's dry, v...</td>\n",
              "      <td>90.0</td>\n",
              "      <td>unknown</td>\n",
              "      <td>Champagne</td>\n",
              "      <td>Champagne</td>\n",
              "      <td>Champagne Blend - Champagne</td>\n",
              "      <td>Champagne Blend - Champagne</td>\n",
              "      <td>Champagne Blend - France</td>\n",
              "      <td>Nicolas Maillart NV Zéro Dosage Brut Nature  (...</td>\n",
              "      <td>Champagne Blend</td>\n",
              "      <td>Nicolas Maillart</td>\n",
              "    </tr>\n",
              "    <tr>\n",
              "      <th>4</th>\n",
              "      <td>21394</td>\n",
              "      <td>0.851170</td>\n",
              "      <td>France</td>\n",
              "      <td>90—92 Barrel sample. Dry botrytis is the theme...</td>\n",
              "      <td>Barrel sample</td>\n",
              "      <td>Country: France, Description: 90—92 Barrel sam...</td>\n",
              "      <td>91.0</td>\n",
              "      <td>unknown</td>\n",
              "      <td>Bordeaux</td>\n",
              "      <td>Barsac</td>\n",
              "      <td>Bordeaux-style White Blend - Bordeaux</td>\n",
              "      <td>Bordeaux-style White Blend - Bordeaux</td>\n",
              "      <td>Bordeaux-style White Blend - France</td>\n",
              "      <td>Château Suau 2006 Barrel sample  (Barsac)</td>\n",
              "      <td>Bordeaux-style White Blend</td>\n",
              "      <td>Château Suau</td>\n",
              "    </tr>\n",
              "  </tbody>\n",
              "</table>\n",
              "</div>\n",
              "    <div class=\"colab-df-buttons\">\n",
              "\n",
              "  <div class=\"colab-df-container\">\n",
              "    <button class=\"colab-df-convert\" onclick=\"convertToInteractive('df-405aac9a-e2dd-4b08-a0e6-fc1d78f1e590')\"\n",
              "            title=\"Convert this dataframe to an interactive table.\"\n",
              "            style=\"display:none;\">\n",
              "\n",
              "  <svg xmlns=\"http://www.w3.org/2000/svg\" height=\"24px\" viewBox=\"0 -960 960 960\">\n",
              "    <path d=\"M120-120v-720h720v720H120Zm60-500h600v-160H180v160Zm220 220h160v-160H400v160Zm0 220h160v-160H400v160ZM180-400h160v-160H180v160Zm440 0h160v-160H620v160ZM180-180h160v-160H180v160Zm440 0h160v-160H620v160Z\"/>\n",
              "  </svg>\n",
              "    </button>\n",
              "\n",
              "  <style>\n",
              "    .colab-df-container {\n",
              "      display:flex;\n",
              "      gap: 12px;\n",
              "    }\n",
              "\n",
              "    .colab-df-convert {\n",
              "      background-color: #E8F0FE;\n",
              "      border: none;\n",
              "      border-radius: 50%;\n",
              "      cursor: pointer;\n",
              "      display: none;\n",
              "      fill: #1967D2;\n",
              "      height: 32px;\n",
              "      padding: 0 0 0 0;\n",
              "      width: 32px;\n",
              "    }\n",
              "\n",
              "    .colab-df-convert:hover {\n",
              "      background-color: #E2EBFA;\n",
              "      box-shadow: 0px 1px 2px rgba(60, 64, 67, 0.3), 0px 1px 3px 1px rgba(60, 64, 67, 0.15);\n",
              "      fill: #174EA6;\n",
              "    }\n",
              "\n",
              "    .colab-df-buttons div {\n",
              "      margin-bottom: 4px;\n",
              "    }\n",
              "\n",
              "    [theme=dark] .colab-df-convert {\n",
              "      background-color: #3B4455;\n",
              "      fill: #D2E3FC;\n",
              "    }\n",
              "\n",
              "    [theme=dark] .colab-df-convert:hover {\n",
              "      background-color: #434B5C;\n",
              "      box-shadow: 0px 1px 3px 1px rgba(0, 0, 0, 0.15);\n",
              "      filter: drop-shadow(0px 1px 2px rgba(0, 0, 0, 0.3));\n",
              "      fill: #FFFFFF;\n",
              "    }\n",
              "  </style>\n",
              "\n",
              "    <script>\n",
              "      const buttonEl =\n",
              "        document.querySelector('#df-405aac9a-e2dd-4b08-a0e6-fc1d78f1e590 button.colab-df-convert');\n",
              "      buttonEl.style.display =\n",
              "        google.colab.kernel.accessAllowed ? 'block' : 'none';\n",
              "\n",
              "      async function convertToInteractive(key) {\n",
              "        const element = document.querySelector('#df-405aac9a-e2dd-4b08-a0e6-fc1d78f1e590');\n",
              "        const dataTable =\n",
              "          await google.colab.kernel.invokeFunction('convertToInteractive',\n",
              "                                                    [key], {});\n",
              "        if (!dataTable) return;\n",
              "\n",
              "        const docLinkHtml = 'Like what you see? Visit the ' +\n",
              "          '<a target=\"_blank\" href=https://colab.research.google.com/notebooks/data_table.ipynb>data table notebook</a>'\n",
              "          + ' to learn more about interactive tables.';\n",
              "        element.innerHTML = '';\n",
              "        dataTable['output_type'] = 'display_data';\n",
              "        await google.colab.output.renderOutput(dataTable, element);\n",
              "        const docLink = document.createElement('div');\n",
              "        docLink.innerHTML = docLinkHtml;\n",
              "        element.appendChild(docLink);\n",
              "      }\n",
              "    </script>\n",
              "  </div>\n",
              "\n",
              "\n",
              "<div id=\"df-8dbcd0b0-8390-4e25-a25d-0aad11cc9504\">\n",
              "  <button class=\"colab-df-quickchart\" onclick=\"quickchart('df-8dbcd0b0-8390-4e25-a25d-0aad11cc9504')\"\n",
              "            title=\"Suggest charts\"\n",
              "            style=\"display:none;\">\n",
              "\n",
              "<svg xmlns=\"http://www.w3.org/2000/svg\" height=\"24px\"viewBox=\"0 0 24 24\"\n",
              "     width=\"24px\">\n",
              "    <g>\n",
              "        <path d=\"M19 3H5c-1.1 0-2 .9-2 2v14c0 1.1.9 2 2 2h14c1.1 0 2-.9 2-2V5c0-1.1-.9-2-2-2zM9 17H7v-7h2v7zm4 0h-2V7h2v10zm4 0h-2v-4h2v4z\"/>\n",
              "    </g>\n",
              "</svg>\n",
              "  </button>\n",
              "\n",
              "<style>\n",
              "  .colab-df-quickchart {\n",
              "      --bg-color: #E8F0FE;\n",
              "      --fill-color: #1967D2;\n",
              "      --hover-bg-color: #E2EBFA;\n",
              "      --hover-fill-color: #174EA6;\n",
              "      --disabled-fill-color: #AAA;\n",
              "      --disabled-bg-color: #DDD;\n",
              "  }\n",
              "\n",
              "  [theme=dark] .colab-df-quickchart {\n",
              "      --bg-color: #3B4455;\n",
              "      --fill-color: #D2E3FC;\n",
              "      --hover-bg-color: #434B5C;\n",
              "      --hover-fill-color: #FFFFFF;\n",
              "      --disabled-bg-color: #3B4455;\n",
              "      --disabled-fill-color: #666;\n",
              "  }\n",
              "\n",
              "  .colab-df-quickchart {\n",
              "    background-color: var(--bg-color);\n",
              "    border: none;\n",
              "    border-radius: 50%;\n",
              "    cursor: pointer;\n",
              "    display: none;\n",
              "    fill: var(--fill-color);\n",
              "    height: 32px;\n",
              "    padding: 0;\n",
              "    width: 32px;\n",
              "  }\n",
              "\n",
              "  .colab-df-quickchart:hover {\n",
              "    background-color: var(--hover-bg-color);\n",
              "    box-shadow: 0 1px 2px rgba(60, 64, 67, 0.3), 0 1px 3px 1px rgba(60, 64, 67, 0.15);\n",
              "    fill: var(--button-hover-fill-color);\n",
              "  }\n",
              "\n",
              "  .colab-df-quickchart-complete:disabled,\n",
              "  .colab-df-quickchart-complete:disabled:hover {\n",
              "    background-color: var(--disabled-bg-color);\n",
              "    fill: var(--disabled-fill-color);\n",
              "    box-shadow: none;\n",
              "  }\n",
              "\n",
              "  .colab-df-spinner {\n",
              "    border: 2px solid var(--fill-color);\n",
              "    border-color: transparent;\n",
              "    border-bottom-color: var(--fill-color);\n",
              "    animation:\n",
              "      spin 1s steps(1) infinite;\n",
              "  }\n",
              "\n",
              "  @keyframes spin {\n",
              "    0% {\n",
              "      border-color: transparent;\n",
              "      border-bottom-color: var(--fill-color);\n",
              "      border-left-color: var(--fill-color);\n",
              "    }\n",
              "    20% {\n",
              "      border-color: transparent;\n",
              "      border-left-color: var(--fill-color);\n",
              "      border-top-color: var(--fill-color);\n",
              "    }\n",
              "    30% {\n",
              "      border-color: transparent;\n",
              "      border-left-color: var(--fill-color);\n",
              "      border-top-color: var(--fill-color);\n",
              "      border-right-color: var(--fill-color);\n",
              "    }\n",
              "    40% {\n",
              "      border-color: transparent;\n",
              "      border-right-color: var(--fill-color);\n",
              "      border-top-color: var(--fill-color);\n",
              "    }\n",
              "    60% {\n",
              "      border-color: transparent;\n",
              "      border-right-color: var(--fill-color);\n",
              "    }\n",
              "    80% {\n",
              "      border-color: transparent;\n",
              "      border-right-color: var(--fill-color);\n",
              "      border-bottom-color: var(--fill-color);\n",
              "    }\n",
              "    90% {\n",
              "      border-color: transparent;\n",
              "      border-bottom-color: var(--fill-color);\n",
              "    }\n",
              "  }\n",
              "</style>\n",
              "\n",
              "  <script>\n",
              "    async function quickchart(key) {\n",
              "      const quickchartButtonEl =\n",
              "        document.querySelector('#' + key + ' button');\n",
              "      quickchartButtonEl.disabled = true;  // To prevent multiple clicks.\n",
              "      quickchartButtonEl.classList.add('colab-df-spinner');\n",
              "      try {\n",
              "        const charts = await google.colab.kernel.invokeFunction(\n",
              "            'suggestCharts', [key], {});\n",
              "      } catch (error) {\n",
              "        console.error('Error during call to suggestCharts:', error);\n",
              "      }\n",
              "      quickchartButtonEl.classList.remove('colab-df-spinner');\n",
              "      quickchartButtonEl.classList.add('colab-df-quickchart-complete');\n",
              "    }\n",
              "    (() => {\n",
              "      let quickchartButtonEl =\n",
              "        document.querySelector('#df-8dbcd0b0-8390-4e25-a25d-0aad11cc9504 button');\n",
              "      quickchartButtonEl.style.display =\n",
              "        google.colab.kernel.accessAllowed ? 'block' : 'none';\n",
              "    })();\n",
              "  </script>\n",
              "</div>\n",
              "    </div>\n",
              "  </div>\n"
            ],
            "text/plain": [
              "      id     score country                                        description  \\\n",
              "0  18993  0.857618  France  Dry, firm and tough, this wine lacks the fruit...   \n",
              "1  43607  0.853897  France  Oaky notes of buttered toast, dried apple slic...   \n",
              "2  58845  0.853261  France  This wine is bone-dry, although with some age ...   \n",
              "3  88331  0.852645  France  Yes, it's dry, very dry. However, this well-ma...   \n",
              "4  21394  0.851170  France  90—92 Barrel sample. Dry botrytis is the theme...   \n",
              "\n",
              "                  designation  \\\n",
              "0                  Excellence   \n",
              "1                     Reserve   \n",
              "2  Le Nombre d'Or Brut Nature   \n",
              "3     Zéro Dosage Brut Nature   \n",
              "4               Barrel sample   \n",
              "\n",
              "                                                info  points    price  \\\n",
              "0  Country: France, Description: Dry, firm and to...    84.0     16.0   \n",
              "1  Country: France, Description: Oaky notes of bu...    84.0     10.0   \n",
              "2  Country: France, Description: This wine is bon...    91.0     85.0   \n",
              "3  Country: France, Description: Yes, it's dry, v...    90.0  unknown   \n",
              "4  Country: France, Description: 90—92 Barrel sam...    91.0  unknown   \n",
              "\n",
              "       province                   region  \\\n",
              "0      Bordeaux  Blaye Côtes de Bordeaux   \n",
              "1  France Other            Vin de France   \n",
              "2     Champagne                Champagne   \n",
              "3     Champagne                Champagne   \n",
              "4      Bordeaux                   Barsac   \n",
              "\n",
              "                                  style1  \\\n",
              "0    Bordeaux-style Red Blend - Bordeaux   \n",
              "1              Chardonnay - France Other   \n",
              "2                 Chardonnay - Champagne   \n",
              "3            Champagne Blend - Champagne   \n",
              "4  Bordeaux-style White Blend - Bordeaux   \n",
              "\n",
              "                                  style2                               style3  \\\n",
              "0    Bordeaux-style Red Blend - Bordeaux    Bordeaux-style Red Blend - France   \n",
              "1              Chardonnay - France Other                  Chardonnay - France   \n",
              "2                 Chardonnay - Champagne                  Chardonnay - France   \n",
              "3            Champagne Blend - Champagne             Champagne Blend - France   \n",
              "4  Bordeaux-style White Blend - Bordeaux  Bordeaux-style White Blend - France   \n",
              "\n",
              "                                               title  \\\n",
              "0  Les Vignerons de Tutiac 2015 Excellence  (Blay...   \n",
              "1  Phantom Bay 2014 Reserve Chardonnay (Vin de Fr...   \n",
              "2  Aubry 2009 Le Nombre d'Or Brut Nature Chardonn...   \n",
              "3  Nicolas Maillart NV Zéro Dosage Brut Nature  (...   \n",
              "4          Château Suau 2006 Barrel sample  (Barsac)   \n",
              "\n",
              "                      variety                   winery  \n",
              "0    Bordeaux-style Red Blend  Les Vignerons de Tutiac  \n",
              "1                  Chardonnay              Phantom Bay  \n",
              "2                  Chardonnay                    Aubry  \n",
              "3             Champagne Blend         Nicolas Maillart  \n",
              "4  Bordeaux-style White Blend             Château Suau  "
            ]
          },
          "execution_count": 76,
          "metadata": {},
          "output_type": "execute_result"
        }
      ],
      "source": [
        "# Extract relevant information\n",
        "data = [\n",
        "    {\n",
        "        'id': match['id'],\n",
        "        'score': match['score'],\n",
        "        **match['metadata']  # Unpack metadata into the dictionary\n",
        "    }\n",
        "    for match in result['matches']\n",
        "]\n",
        "\n",
        "# Create a DataFrame\n",
        "result_df = pd.DataFrame(data)\n",
        "\n",
        "# Display the DataFrame\n",
        "result_df"
      ]
    },
    {
      "cell_type": "markdown",
      "metadata": {
        "id": "yyRmoSNcH598"
      },
      "source": [
        "# Querying with Faiss"
      ]
    },
    {
      "cell_type": "code",
      "execution_count": null,
      "metadata": {
        "colab": {
          "base_uri": "https://localhost:8080/"
        },
        "id": "iAEmXTQjLHSM",
        "outputId": "b17ea58f-cdda-48a3-86e7-79fce4aa3218"
      },
      "outputs": [
        {
          "name": "stdout",
          "output_type": "stream",
          "text": [
            "Collecting faiss-cpu\n",
            "  Downloading faiss_cpu-1.7.4-cp310-cp310-manylinux_2_17_x86_64.manylinux2014_x86_64.whl (17.6 MB)\n",
            "\u001b[2K     \u001b[90m━━━━━━━━━━━━━━━━━━━━━━━━━━━━━━━━━━━━━━━━\u001b[0m \u001b[32m17.6/17.6 MB\u001b[0m \u001b[31m32.4 MB/s\u001b[0m eta \u001b[36m0:00:00\u001b[0m\n",
            "\u001b[?25hInstalling collected packages: faiss-cpu\n",
            "Successfully installed faiss-cpu-1.7.4\n"
          ]
        }
      ],
      "source": [
        "!pip install faiss-cpu"
      ]
    },
    {
      "cell_type": "markdown",
      "metadata": {
        "id": "ItxIhg2OQJhb"
      },
      "source": [
        "Now load our tensor file and initiate a list of labels:"
      ]
    },
    {
      "cell_type": "code",
      "execution_count": null,
      "metadata": {
        "id": "AnblS7SmI9Dy"
      },
      "outputs": [],
      "source": [
        "# Load the KNN vectors\n",
        "knn_vectors = torch.load(\"info_embeddings_openai_ada-002_updated.pt\")\n",
        "\n",
        "# Use the 'id' column as labels in KNN\n",
        "knn_labels = wine_info['id'].tolist()"
      ]
    },
    {
      "cell_type": "markdown",
      "metadata": {
        "id": "KHMQM1K8QYYc"
      },
      "source": [
        "Now we can create a Faiss index using our tensor file:"
      ]
    },
    {
      "cell_type": "code",
      "execution_count": null,
      "metadata": {
        "id": "aVZHD3MxK-mV"
      },
      "outputs": [],
      "source": [
        "import faiss\n",
        "\n",
        "# Convert the data to NumPy arrays for use with faiss\n",
        "vectors_np = knn_vectors.numpy()\n",
        "\n",
        "# Determine the dimension of the vectors\n",
        "dimension = vectors_np.shape[1]  # This represents the dimension of the vectors\n",
        "\n",
        "# Build the Faiss index with cosine similarity\n",
        "faiss_index = faiss.IndexFlatIP(dimension)  # Create a Faiss index with cosine similarity\n",
        "faiss_index.add(vectors_np)  # Add the data vectors to the index\n"
      ]
    },
    {
      "cell_type": "markdown",
      "metadata": {
        "id": "WfBv5nLJQdSu"
      },
      "source": [
        "And we can query the indexed data like this:"
      ]
    },
    {
      "cell_type": "code",
      "execution_count": null,
      "metadata": {
        "id": "53LKL6YcLYBM"
      },
      "outputs": [],
      "source": [
        "import numpy as np\n",
        "\n",
        "# Define the text query\n",
        "query_text = \"Oaky dry wine\"\n",
        "\n",
        "# Embed the text query to obtain a vector using the embedding model\n",
        "query_vector = embed_model.embed_query(query_text)\n",
        "\n",
        "# Specify the number of neighbors to return\n",
        "k = 5\n",
        "\n",
        "# Perform a nearest neighbor search to find the closest neighbors to the query vector(s).\n",
        "# D will contain cosine similarities between the query vector and its neighbors.\n",
        "# I will contain the indices of the nearest neighbors in the dataset.\n",
        "D, I = faiss_index.search(np.array([query_vector]), k)\n",
        "\n",
        "# Get labels of the neighbors\n",
        "neighbor_labels = [knn_labels[i] for i in I[0]]\n",
        "\n",
        "# Extract rows from the wine DataFrame based on the indices of the nearest neighbors\n",
        "faiss_result = wine.iloc[I[0]]"
      ]
    },
    {
      "cell_type": "markdown",
      "metadata": {
        "id": "nWohhOSpRtQV"
      },
      "source": [
        "Here's the result:"
      ]
    },
    {
      "cell_type": "code",
      "execution_count": null,
      "metadata": {
        "colab": {
          "base_uri": "https://localhost:8080/",
          "height": 380
        },
        "id": "DuOhdODNM-lJ",
        "outputId": "4c6408a7-58cf-4da1-aa88-a8424e5dab30"
      },
      "outputs": [
        {
          "data": {
            "text/html": [
              "\n",
              "  <div id=\"df-28bc242f-cb2d-474e-9dd0-070919e2392e\" class=\"colab-df-container\">\n",
              "    <div>\n",
              "<style scoped>\n",
              "    .dataframe tbody tr th:only-of-type {\n",
              "        vertical-align: middle;\n",
              "    }\n",
              "\n",
              "    .dataframe tbody tr th {\n",
              "        vertical-align: top;\n",
              "    }\n",
              "\n",
              "    .dataframe thead th {\n",
              "        text-align: right;\n",
              "    }\n",
              "</style>\n",
              "<table border=\"1\" class=\"dataframe\">\n",
              "  <thead>\n",
              "    <tr style=\"text-align: right;\">\n",
              "      <th></th>\n",
              "      <th>id</th>\n",
              "      <th>country</th>\n",
              "      <th>description</th>\n",
              "      <th>designation</th>\n",
              "      <th>points</th>\n",
              "      <th>price</th>\n",
              "      <th>province</th>\n",
              "      <th>title</th>\n",
              "      <th>variety</th>\n",
              "      <th>winery</th>\n",
              "      <th>region</th>\n",
              "      <th>style1</th>\n",
              "      <th>style2</th>\n",
              "      <th>style3</th>\n",
              "    </tr>\n",
              "  </thead>\n",
              "  <tbody>\n",
              "    <tr>\n",
              "      <th>25402</th>\n",
              "      <td>36480</td>\n",
              "      <td>US</td>\n",
              "      <td>Oaky bacon and barbecue smoke make for a burly...</td>\n",
              "      <td>Estate Grown</td>\n",
              "      <td>85.0</td>\n",
              "      <td>25.0</td>\n",
              "      <td>California</td>\n",
              "      <td>Fritz 2013 Estate Grown Zinfandel (Dry Creek V...</td>\n",
              "      <td>Zinfandel</td>\n",
              "      <td>Fritz</td>\n",
              "      <td>Dry Creek Valley</td>\n",
              "      <td>Zinfandel - California</td>\n",
              "      <td>Zinfandel - Dry Creek Valley</td>\n",
              "      <td>Zinfandel - Dry Creek Valley</td>\n",
              "    </tr>\n",
              "    <tr>\n",
              "      <th>29515</th>\n",
              "      <td>42685</td>\n",
              "      <td>US</td>\n",
              "      <td>Dry indeed; this is so dry as to be outright s...</td>\n",
              "      <td>Dry</td>\n",
              "      <td>84.0</td>\n",
              "      <td>14.0</td>\n",
              "      <td>Oregon</td>\n",
              "      <td>Willamette Valley Vineyards 2008 Dry Riesling ...</td>\n",
              "      <td>Riesling</td>\n",
              "      <td>Willamette Valley Vineyards</td>\n",
              "      <td>Willamette Valley</td>\n",
              "      <td>Riesling - Oregon</td>\n",
              "      <td>Riesling - Willamette Valley</td>\n",
              "      <td>Riesling - Willamette Valley</td>\n",
              "    </tr>\n",
              "    <tr>\n",
              "      <th>33851</th>\n",
              "      <td>49136</td>\n",
              "      <td>US</td>\n",
              "      <td>Absolutely dry and tingly in acidity, this cit...</td>\n",
              "      <td>Reserve</td>\n",
              "      <td>84.0</td>\n",
              "      <td>8.0</td>\n",
              "      <td>California</td>\n",
              "      <td>Oak Grove 2009 Reserve Pinot Grigio (California)</td>\n",
              "      <td>Pinot Grigio</td>\n",
              "      <td>Oak Grove</td>\n",
              "      <td>California</td>\n",
              "      <td>Pinot Grigio - California</td>\n",
              "      <td>Pinot Grigio - California</td>\n",
              "      <td>Pinot Grigio - California</td>\n",
              "    </tr>\n",
              "    <tr>\n",
              "      <th>25210</th>\n",
              "      <td>36191</td>\n",
              "      <td>US</td>\n",
              "      <td>Light and crisp, it offers layers of lemon chi...</td>\n",
              "      <td>Foggy Oaks</td>\n",
              "      <td>88.0</td>\n",
              "      <td>20.0</td>\n",
              "      <td>California</td>\n",
              "      <td>Dry Creek Vineyard 2011 Foggy Oaks Chardonnay ...</td>\n",
              "      <td>Chardonnay</td>\n",
              "      <td>Dry Creek Vineyard</td>\n",
              "      <td>Russian River Valley</td>\n",
              "      <td>Chardonnay - California</td>\n",
              "      <td>Chardonnay - Russian River Valley</td>\n",
              "      <td>Chardonnay - Russian River Valley</td>\n",
              "    </tr>\n",
              "    <tr>\n",
              "      <th>32975</th>\n",
              "      <td>47814</td>\n",
              "      <td>US</td>\n",
              "      <td>Like the label says, this is a bone-dry wine. ...</td>\n",
              "      <td>Dry</td>\n",
              "      <td>89.0</td>\n",
              "      <td>20.0</td>\n",
              "      <td>California</td>\n",
              "      <td>Robert Mondavi 2011 Dry Fumé Blanc (Napa Valley)</td>\n",
              "      <td>Fumé Blanc</td>\n",
              "      <td>Robert Mondavi</td>\n",
              "      <td>Napa Valley</td>\n",
              "      <td>Fumé Blanc - California</td>\n",
              "      <td>Fumé Blanc - Napa Valley</td>\n",
              "      <td>Fumé Blanc - Napa Valley</td>\n",
              "    </tr>\n",
              "  </tbody>\n",
              "</table>\n",
              "</div>\n",
              "    <div class=\"colab-df-buttons\">\n",
              "\n",
              "  <div class=\"colab-df-container\">\n",
              "    <button class=\"colab-df-convert\" onclick=\"convertToInteractive('df-28bc242f-cb2d-474e-9dd0-070919e2392e')\"\n",
              "            title=\"Convert this dataframe to an interactive table.\"\n",
              "            style=\"display:none;\">\n",
              "\n",
              "  <svg xmlns=\"http://www.w3.org/2000/svg\" height=\"24px\" viewBox=\"0 -960 960 960\">\n",
              "    <path d=\"M120-120v-720h720v720H120Zm60-500h600v-160H180v160Zm220 220h160v-160H400v160Zm0 220h160v-160H400v160ZM180-400h160v-160H180v160Zm440 0h160v-160H620v160ZM180-180h160v-160H180v160Zm440 0h160v-160H620v160Z\"/>\n",
              "  </svg>\n",
              "    </button>\n",
              "\n",
              "  <style>\n",
              "    .colab-df-container {\n",
              "      display:flex;\n",
              "      gap: 12px;\n",
              "    }\n",
              "\n",
              "    .colab-df-convert {\n",
              "      background-color: #E8F0FE;\n",
              "      border: none;\n",
              "      border-radius: 50%;\n",
              "      cursor: pointer;\n",
              "      display: none;\n",
              "      fill: #1967D2;\n",
              "      height: 32px;\n",
              "      padding: 0 0 0 0;\n",
              "      width: 32px;\n",
              "    }\n",
              "\n",
              "    .colab-df-convert:hover {\n",
              "      background-color: #E2EBFA;\n",
              "      box-shadow: 0px 1px 2px rgba(60, 64, 67, 0.3), 0px 1px 3px 1px rgba(60, 64, 67, 0.15);\n",
              "      fill: #174EA6;\n",
              "    }\n",
              "\n",
              "    .colab-df-buttons div {\n",
              "      margin-bottom: 4px;\n",
              "    }\n",
              "\n",
              "    [theme=dark] .colab-df-convert {\n",
              "      background-color: #3B4455;\n",
              "      fill: #D2E3FC;\n",
              "    }\n",
              "\n",
              "    [theme=dark] .colab-df-convert:hover {\n",
              "      background-color: #434B5C;\n",
              "      box-shadow: 0px 1px 3px 1px rgba(0, 0, 0, 0.15);\n",
              "      filter: drop-shadow(0px 1px 2px rgba(0, 0, 0, 0.3));\n",
              "      fill: #FFFFFF;\n",
              "    }\n",
              "  </style>\n",
              "\n",
              "    <script>\n",
              "      const buttonEl =\n",
              "        document.querySelector('#df-28bc242f-cb2d-474e-9dd0-070919e2392e button.colab-df-convert');\n",
              "      buttonEl.style.display =\n",
              "        google.colab.kernel.accessAllowed ? 'block' : 'none';\n",
              "\n",
              "      async function convertToInteractive(key) {\n",
              "        const element = document.querySelector('#df-28bc242f-cb2d-474e-9dd0-070919e2392e');\n",
              "        const dataTable =\n",
              "          await google.colab.kernel.invokeFunction('convertToInteractive',\n",
              "                                                    [key], {});\n",
              "        if (!dataTable) return;\n",
              "\n",
              "        const docLinkHtml = 'Like what you see? Visit the ' +\n",
              "          '<a target=\"_blank\" href=https://colab.research.google.com/notebooks/data_table.ipynb>data table notebook</a>'\n",
              "          + ' to learn more about interactive tables.';\n",
              "        element.innerHTML = '';\n",
              "        dataTable['output_type'] = 'display_data';\n",
              "        await google.colab.output.renderOutput(dataTable, element);\n",
              "        const docLink = document.createElement('div');\n",
              "        docLink.innerHTML = docLinkHtml;\n",
              "        element.appendChild(docLink);\n",
              "      }\n",
              "    </script>\n",
              "  </div>\n",
              "\n",
              "\n",
              "<div id=\"df-7f8b5c39-812b-4d0e-9526-22d552a5b757\">\n",
              "  <button class=\"colab-df-quickchart\" onclick=\"quickchart('df-7f8b5c39-812b-4d0e-9526-22d552a5b757')\"\n",
              "            title=\"Suggest charts\"\n",
              "            style=\"display:none;\">\n",
              "\n",
              "<svg xmlns=\"http://www.w3.org/2000/svg\" height=\"24px\"viewBox=\"0 0 24 24\"\n",
              "     width=\"24px\">\n",
              "    <g>\n",
              "        <path d=\"M19 3H5c-1.1 0-2 .9-2 2v14c0 1.1.9 2 2 2h14c1.1 0 2-.9 2-2V5c0-1.1-.9-2-2-2zM9 17H7v-7h2v7zm4 0h-2V7h2v10zm4 0h-2v-4h2v4z\"/>\n",
              "    </g>\n",
              "</svg>\n",
              "  </button>\n",
              "\n",
              "<style>\n",
              "  .colab-df-quickchart {\n",
              "      --bg-color: #E8F0FE;\n",
              "      --fill-color: #1967D2;\n",
              "      --hover-bg-color: #E2EBFA;\n",
              "      --hover-fill-color: #174EA6;\n",
              "      --disabled-fill-color: #AAA;\n",
              "      --disabled-bg-color: #DDD;\n",
              "  }\n",
              "\n",
              "  [theme=dark] .colab-df-quickchart {\n",
              "      --bg-color: #3B4455;\n",
              "      --fill-color: #D2E3FC;\n",
              "      --hover-bg-color: #434B5C;\n",
              "      --hover-fill-color: #FFFFFF;\n",
              "      --disabled-bg-color: #3B4455;\n",
              "      --disabled-fill-color: #666;\n",
              "  }\n",
              "\n",
              "  .colab-df-quickchart {\n",
              "    background-color: var(--bg-color);\n",
              "    border: none;\n",
              "    border-radius: 50%;\n",
              "    cursor: pointer;\n",
              "    display: none;\n",
              "    fill: var(--fill-color);\n",
              "    height: 32px;\n",
              "    padding: 0;\n",
              "    width: 32px;\n",
              "  }\n",
              "\n",
              "  .colab-df-quickchart:hover {\n",
              "    background-color: var(--hover-bg-color);\n",
              "    box-shadow: 0 1px 2px rgba(60, 64, 67, 0.3), 0 1px 3px 1px rgba(60, 64, 67, 0.15);\n",
              "    fill: var(--button-hover-fill-color);\n",
              "  }\n",
              "\n",
              "  .colab-df-quickchart-complete:disabled,\n",
              "  .colab-df-quickchart-complete:disabled:hover {\n",
              "    background-color: var(--disabled-bg-color);\n",
              "    fill: var(--disabled-fill-color);\n",
              "    box-shadow: none;\n",
              "  }\n",
              "\n",
              "  .colab-df-spinner {\n",
              "    border: 2px solid var(--fill-color);\n",
              "    border-color: transparent;\n",
              "    border-bottom-color: var(--fill-color);\n",
              "    animation:\n",
              "      spin 1s steps(1) infinite;\n",
              "  }\n",
              "\n",
              "  @keyframes spin {\n",
              "    0% {\n",
              "      border-color: transparent;\n",
              "      border-bottom-color: var(--fill-color);\n",
              "      border-left-color: var(--fill-color);\n",
              "    }\n",
              "    20% {\n",
              "      border-color: transparent;\n",
              "      border-left-color: var(--fill-color);\n",
              "      border-top-color: var(--fill-color);\n",
              "    }\n",
              "    30% {\n",
              "      border-color: transparent;\n",
              "      border-left-color: var(--fill-color);\n",
              "      border-top-color: var(--fill-color);\n",
              "      border-right-color: var(--fill-color);\n",
              "    }\n",
              "    40% {\n",
              "      border-color: transparent;\n",
              "      border-right-color: var(--fill-color);\n",
              "      border-top-color: var(--fill-color);\n",
              "    }\n",
              "    60% {\n",
              "      border-color: transparent;\n",
              "      border-right-color: var(--fill-color);\n",
              "    }\n",
              "    80% {\n",
              "      border-color: transparent;\n",
              "      border-right-color: var(--fill-color);\n",
              "      border-bottom-color: var(--fill-color);\n",
              "    }\n",
              "    90% {\n",
              "      border-color: transparent;\n",
              "      border-bottom-color: var(--fill-color);\n",
              "    }\n",
              "  }\n",
              "</style>\n",
              "\n",
              "  <script>\n",
              "    async function quickchart(key) {\n",
              "      const quickchartButtonEl =\n",
              "        document.querySelector('#' + key + ' button');\n",
              "      quickchartButtonEl.disabled = true;  // To prevent multiple clicks.\n",
              "      quickchartButtonEl.classList.add('colab-df-spinner');\n",
              "      try {\n",
              "        const charts = await google.colab.kernel.invokeFunction(\n",
              "            'suggestCharts', [key], {});\n",
              "      } catch (error) {\n",
              "        console.error('Error during call to suggestCharts:', error);\n",
              "      }\n",
              "      quickchartButtonEl.classList.remove('colab-df-spinner');\n",
              "      quickchartButtonEl.classList.add('colab-df-quickchart-complete');\n",
              "    }\n",
              "    (() => {\n",
              "      let quickchartButtonEl =\n",
              "        document.querySelector('#df-7f8b5c39-812b-4d0e-9526-22d552a5b757 button');\n",
              "      quickchartButtonEl.style.display =\n",
              "        google.colab.kernel.accessAllowed ? 'block' : 'none';\n",
              "    })();\n",
              "  </script>\n",
              "</div>\n",
              "    </div>\n",
              "  </div>\n"
            ],
            "text/plain": [
              "          id country                                        description  \\\n",
              "25402  36480      US  Oaky bacon and barbecue smoke make for a burly...   \n",
              "29515  42685      US  Dry indeed; this is so dry as to be outright s...   \n",
              "33851  49136      US  Absolutely dry and tingly in acidity, this cit...   \n",
              "25210  36191      US  Light and crisp, it offers layers of lemon chi...   \n",
              "32975  47814      US  Like the label says, this is a bone-dry wine. ...   \n",
              "\n",
              "        designation  points price    province  \\\n",
              "25402  Estate Grown    85.0  25.0  California   \n",
              "29515           Dry    84.0  14.0      Oregon   \n",
              "33851       Reserve    84.0   8.0  California   \n",
              "25210    Foggy Oaks    88.0  20.0  California   \n",
              "32975           Dry    89.0  20.0  California   \n",
              "\n",
              "                                                   title       variety  \\\n",
              "25402  Fritz 2013 Estate Grown Zinfandel (Dry Creek V...     Zinfandel   \n",
              "29515  Willamette Valley Vineyards 2008 Dry Riesling ...      Riesling   \n",
              "33851   Oak Grove 2009 Reserve Pinot Grigio (California)  Pinot Grigio   \n",
              "25210  Dry Creek Vineyard 2011 Foggy Oaks Chardonnay ...    Chardonnay   \n",
              "32975   Robert Mondavi 2011 Dry Fumé Blanc (Napa Valley)    Fumé Blanc   \n",
              "\n",
              "                            winery                region  \\\n",
              "25402                        Fritz      Dry Creek Valley   \n",
              "29515  Willamette Valley Vineyards     Willamette Valley   \n",
              "33851                    Oak Grove            California   \n",
              "25210           Dry Creek Vineyard  Russian River Valley   \n",
              "32975               Robert Mondavi           Napa Valley   \n",
              "\n",
              "                          style1                             style2  \\\n",
              "25402     Zinfandel - California       Zinfandel - Dry Creek Valley   \n",
              "29515          Riesling - Oregon       Riesling - Willamette Valley   \n",
              "33851  Pinot Grigio - California          Pinot Grigio - California   \n",
              "25210    Chardonnay - California  Chardonnay - Russian River Valley   \n",
              "32975    Fumé Blanc - California           Fumé Blanc - Napa Valley   \n",
              "\n",
              "                                  style3  \n",
              "25402       Zinfandel - Dry Creek Valley  \n",
              "29515       Riesling - Willamette Valley  \n",
              "33851          Pinot Grigio - California  \n",
              "25210  Chardonnay - Russian River Valley  \n",
              "32975           Fumé Blanc - Napa Valley  "
            ]
          },
          "execution_count": 73,
          "metadata": {},
          "output_type": "execute_result"
        }
      ],
      "source": [
        "faiss_result"
      ]
    }
  ],
  "metadata": {
    "accelerator": "GPU",
    "colab": {
      "gpuType": "T4",
      "provenance": []
    },
    "kernelspec": {
      "display_name": "Python 3",
      "name": "python3"
    },
    "language_info": {
      "name": "python"
    }
  },
  "nbformat": 4,
  "nbformat_minor": 0
}
