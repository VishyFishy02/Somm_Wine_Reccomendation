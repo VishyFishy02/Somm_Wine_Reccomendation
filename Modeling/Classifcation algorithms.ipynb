{
 "cells": [
  {
   "cell_type": "markdown",
   "id": "34eab55c-7457-4e7f-8cb9-f763fbc3daa0",
   "metadata": {},
   "source": [
    "One deliverable of our web app is to predict wine styles that fit the user's tastes. This is useful in case a store does not carry the specific wines that the recommender suggests. To this end, we explore classification algorithms to predict wine styles.\n",
    "\n",
    "We define a style as a combination between grape variety and a geographic location. However, since most wines in our datasest come from the US, in particular California and Oregon, we define style as follows:\n",
    "\n",
    "    - grape variety x country for wines from outside the US\n",
    "    - grape variety x province (state) for wines from the US, except for California and Oregon\n",
    "    - grape variety x region for wines from California and Oregon\n",
    "    \n",
    "This style definition reduces imbalance between classes. Additionally, we keep only styles with at least 200 reviews (~60% of original dataset) to ensure that we have substantial samples for each style. This yields 86 styles with a mean review count of 580 reviews per style. \n",
    "\n",
    "We try 4 classification algorithms: \n",
    "- Multinomial Logistic Regression\n",
    "- Linear Support Vector Classification\n",
    "- Random Forest\n",
    "- XGBoost\n",
    "\n",
    "Using the fitted models, we predict the probabilities that the user's query belongs to a style and return the top 3 styles with highest probabilities. After that, we also shortlist top 5 wines (by cosine similarity) among the narrowed-down top 3 styles above (see diagram below). We will compare both style recommendation and wine recommendation from this Classification approach with their counterparts from other modelling approaches (KNN Search and RAG)."
   ]
  },
  {
   "cell_type": "markdown",
   "id": "88f58d81-3225-4732-ba0f-c68515ba2a36",
   "metadata": {},
   "source": [
    "<img src='misc/Classification.png' width=\"800\" >"
   ]
  },
  {
   "cell_type": "markdown",
   "id": "49d91c6f-a604-4968-bb33-611cf7eb4c57",
   "metadata": {},
   "source": [
    "To evaluate the Classification models, we use top-k acccuracy because users not necessarily want only one correct result but are interested in a few good suggestions from a recommendation engine. As long as the correct style is among this list, then that is a good enough suggestion. Using this metrics, Multinomial Logistic Regression is the best to predict styles among 4 Classification algorithms, as shown by the top-1 and top-3 test accuracy in the table below. \n",
    "\n",
    "| Model | Top-1 test accuracy | Top-3 test accuracy |\n",
    "| ----- | :------------------:| :-----------------: |\n",
    "| Mutinomial Logistic | 0.630399 | 0.848003 |\n",
    "| Linear SVC | 0.597800 | 0.725143 |\n",
    "| Random Forest |  0.498981 | 0.717604 |\n",
    "| XGBoost | 0.593521 | 0.809698  |"
   ]
  },
  {
   "cell_type": "markdown",
   "id": "5756309b-89d6-4d2d-94c7-43a0fe787158",
   "metadata": {},
   "source": [
    "However, when testing out some user queries, we find that Logistic Regression and Linear SVC sometimes make some obvious errors - in these instances, XGBoost and Random Forest performs better. For example, testing this query: *\"I want a white wine that is sweet and not floral.\"* Logistic Regression and Linear SVC suggest some Red Blends and Pinot Noir!\n",
    "\n",
    "| Model | Suggested styles |\n",
    "| ----- | ------------------| \n",
    "| Mutinomial Logistic | Chenin Blanc - France, Portuguese White - Portugal, Red Blend - California |\n",
    "| Linear SVC | Red Blend - California, Sparkling Blend - France, Pinot Noir - Anderson Valley | \n",
    "| Random Forest | White Blend - Italy, Pinot Grigio - Italy, Grüner Veltliner - Austria | \n",
    "| XGBoost | White Blend - Italy, Portuguese White - Portugal, Sauvignon Blanc - Chile | "
   ]
  },
  {
   "cell_type": "markdown",
   "id": "c952a3b5-9988-461b-ba2e-5cd61652f4c7",
   "metadata": {},
   "source": [
    "For this reason, we use XGBoost as the candidate for the Classification approach when testing it against other modelling arthitectures, namely KNN Search and RAG."
   ]
  },
  {
   "cell_type": "markdown",
   "id": "0e97e07d-4536-4816-a7c2-68426349c27f",
   "metadata": {},
   "source": [
    "Additionally, for top 5 wine recommendations, all 4 Classification algorithms cannot handle negations very well. For the same query which asks for non-floral wines, wines with floral notes still pop up in the wine suggestions. The same problem exists in our KNN Search approach! This makes sense because in this last step to filter for best-fit wines, we are using KNN search among the narrowed down styles. "
   ]
  },
  {
   "cell_type": "code",
   "execution_count": 8,
   "id": "29b16f57-5dfb-47c5-b40c-3d588f51d1e4",
   "metadata": {},
   "outputs": [],
   "source": [
    "import pandas as pd\n",
    "import torch\n",
    "from tqdm import tqdm\n",
    "import math\n",
    "import numpy as np\n",
    "from numpy import dot\n",
    "from numpy.linalg import norm\n",
    "\n",
    "\n",
    "import matplotlib.pyplot as plt\n",
    "import seaborn as sns\n",
    "import os\n",
    "\n",
    "from sklearn.decomposition import PCA\n",
    "from sklearn.model_selection import train_test_split, GridSearchCV\n",
    "from sklearn.preprocessing import LabelEncoder, LabelBinarizer, StandardScaler\n",
    "from sklearn.metrics import accuracy_score, RocCurveDisplay, log_loss\n",
    "from sklearn.metrics.pairwise import cosine_similarity\n",
    "\n",
    "import xgboost\n",
    "\n",
    "import pickle"
   ]
  },
  {
   "cell_type": "code",
   "execution_count": 9,
   "id": "e6ff389f-c861-47c0-9c57-573fa9c688fc",
   "metadata": {},
   "outputs": [],
   "source": [
    "# Maket path to save models\n",
    "os.makedirs('models/classification', exist_ok=True)\n",
    "model_path = 'models/classification'\n",
    "\n",
    "# Maket path to save results to compare types of model\n",
    "os.makedirs('results_to_eval/top_3_accuracy', exist_ok=True)\n",
    "top3acc_path = 'results_to_eval/top_3_accuracy'\n",
    "\n",
    "os.makedirs('results_to_eval/top_5_wines', exist_ok=True)\n",
    "top5wines_path = 'results_to_eval/top_5_wines'\n",
    "\n",
    "os.makedirs('results_to_eval/top_3_styles', exist_ok=True)\n",
    "top3styles_path = 'results_to_eval/top_3_styles'"
   ]
  },
  {
   "cell_type": "markdown",
   "id": "524c4423-dde0-47ef-bb8b-e501d11ff448",
   "metadata": {},
   "source": [
    "# Intialize embedding model"
   ]
  },
  {
   "cell_type": "code",
   "execution_count": 10,
   "id": "1c7adb06-12fc-4757-9835-305319488433",
   "metadata": {},
   "outputs": [],
   "source": [
    "from langchain.embeddings.openai import OpenAIEmbeddings\n",
    "import openai\n",
    "import tiktoken\n",
    "\n",
    "# get API key from OpenAI website\n",
    "OPENAI_API_KEY = \"OPENAI_API_KEY\"\n",
    "\n",
    "openai.api_key = os.getenv(\"OPENAI_API_KEY\") or OPENAI_API_KEY\n",
    "\n",
    "# Initialize the SentenceTransformer model\n",
    "model_name = 'text-embedding-ada-002'\n",
    "\n",
    "embed_model = OpenAIEmbeddings(\n",
    "    model=model_name,\n",
    "    openai_api_key=OPENAI_API_KEY\n",
    ")"
   ]
  },
  {
   "cell_type": "markdown",
   "id": "84684566-3b6a-40ca-ab39-8f3c6842c634",
   "metadata": {},
   "source": [
    "# Load embedding data"
   ]
  },
  {
   "cell_type": "code",
   "execution_count": 11,
   "id": "028843c4-abcd-4b59-812a-a76e10cabbf6",
   "metadata": {},
   "outputs": [
    {
     "name": "stdout",
     "output_type": "stream",
     "text": [
      "(84502, 14)\n",
      "Index(['id', 'country', 'description', 'designation', 'points', 'price',\n",
      "       'province', 'title', 'variety', 'winery', 'region_cleaned', 'style1',\n",
      "       'style2', 'style3'],\n",
      "      dtype='object')\n"
     ]
    }
   ],
   "source": [
    "# Load original dataset\n",
    "wine = pd.read_csv('../Data/Cleaned Data/wine_cleaned_rev_concat.csv', encoding='utf-8')\n",
    "print(wine.shape)\n",
    "print(wine.columns)"
   ]
  },
  {
   "cell_type": "code",
   "execution_count": 12,
   "id": "471763cf-0388-4cde-9cb0-80c78d014c8a",
   "metadata": {},
   "outputs": [
    {
     "ename": "FileNotFoundError",
     "evalue": "[Errno 2] No such file or directory: '../Data/description_embeddings_openai_ada-002.pt'",
     "output_type": "error",
     "traceback": [
      "\u001b[1;31m---------------------------------------------------------------------------\u001b[0m",
      "\u001b[1;31mFileNotFoundError\u001b[0m                         Traceback (most recent call last)",
      "Cell \u001b[1;32mIn[5], line 2\u001b[0m\n\u001b[0;32m      1\u001b[0m \u001b[38;5;66;03m# Load embeddings\u001b[39;00m\n\u001b[1;32m----> 2\u001b[0m embeddings \u001b[38;5;241m=\u001b[39m \u001b[41mtorch\u001b[49m\u001b[38;5;241;41m.\u001b[39;49m\u001b[41mload\u001b[49m\u001b[41m(\u001b[49m\u001b[38;5;124;41m\"\u001b[39;49m\u001b[38;5;124;41m../Data/description_embeddings_openai_ada-002.pt\u001b[39;49m\u001b[38;5;124;41m\"\u001b[39;49m\u001b[41m)\u001b[49m \n\u001b[0;32m      3\u001b[0m \u001b[38;5;28mprint\u001b[39m(embeddings\u001b[38;5;241m.\u001b[39mshape)\n\u001b[0;32m      4\u001b[0m n_emb_cols \u001b[38;5;241m=\u001b[39m embeddings\u001b[38;5;241m.\u001b[39mshape[\u001b[38;5;241m1\u001b[39m]\n",
      "File \u001b[1;32m~\\My Real Documents\\Projects\\Somm_Wine_Reccomendation\\.venv\\Lib\\site-packages\\torch\\serialization.py:986\u001b[0m, in \u001b[0;36mload\u001b[1;34m(f, map_location, pickle_module, weights_only, mmap, **pickle_load_args)\u001b[0m\n\u001b[0;32m    983\u001b[0m \u001b[38;5;28;01mif\u001b[39;00m \u001b[38;5;124m'\u001b[39m\u001b[38;5;124mencoding\u001b[39m\u001b[38;5;124m'\u001b[39m \u001b[38;5;129;01mnot\u001b[39;00m \u001b[38;5;129;01min\u001b[39;00m pickle_load_args\u001b[38;5;241m.\u001b[39mkeys():\n\u001b[0;32m    984\u001b[0m     pickle_load_args[\u001b[38;5;124m'\u001b[39m\u001b[38;5;124mencoding\u001b[39m\u001b[38;5;124m'\u001b[39m] \u001b[38;5;241m=\u001b[39m \u001b[38;5;124m'\u001b[39m\u001b[38;5;124mutf-8\u001b[39m\u001b[38;5;124m'\u001b[39m\n\u001b[1;32m--> 986\u001b[0m \u001b[38;5;28;01mwith\u001b[39;00m \u001b[41m_open_file_like\u001b[49m\u001b[41m(\u001b[49m\u001b[41mf\u001b[49m\u001b[41m,\u001b[49m\u001b[41m \u001b[49m\u001b[38;5;124;41m'\u001b[39;49m\u001b[38;5;124;41mrb\u001b[39;49m\u001b[38;5;124;41m'\u001b[39;49m\u001b[41m)\u001b[49m \u001b[38;5;28;01mas\u001b[39;00m opened_file:\n\u001b[0;32m    987\u001b[0m     \u001b[38;5;28;01mif\u001b[39;00m _is_zipfile(opened_file):\n\u001b[0;32m    988\u001b[0m         \u001b[38;5;66;03m# The zipfile reader is going to advance the current file position.\u001b[39;00m\n\u001b[0;32m    989\u001b[0m         \u001b[38;5;66;03m# If we want to actually tail call to torch.jit.load, we need to\u001b[39;00m\n\u001b[0;32m    990\u001b[0m         \u001b[38;5;66;03m# reset back to the original position.\u001b[39;00m\n\u001b[0;32m    991\u001b[0m         orig_position \u001b[38;5;241m=\u001b[39m opened_file\u001b[38;5;241m.\u001b[39mtell()\n",
      "File \u001b[1;32m~\\My Real Documents\\Projects\\Somm_Wine_Reccomendation\\.venv\\Lib\\site-packages\\torch\\serialization.py:435\u001b[0m, in \u001b[0;36m_open_file_like\u001b[1;34m(name_or_buffer, mode)\u001b[0m\n\u001b[0;32m    433\u001b[0m \u001b[38;5;28;01mdef\u001b[39;00m \u001b[38;5;21m_open_file_like\u001b[39m(name_or_buffer, mode):\n\u001b[0;32m    434\u001b[0m     \u001b[38;5;28;01mif\u001b[39;00m _is_path(name_or_buffer):\n\u001b[1;32m--> 435\u001b[0m         \u001b[38;5;28;01mreturn\u001b[39;00m \u001b[41m_open_file\u001b[49m\u001b[41m(\u001b[49m\u001b[41mname_or_buffer\u001b[49m\u001b[41m,\u001b[49m\u001b[41m \u001b[49m\u001b[41mmode\u001b[49m\u001b[41m)\u001b[49m\n\u001b[0;32m    436\u001b[0m     \u001b[38;5;28;01melse\u001b[39;00m:\n\u001b[0;32m    437\u001b[0m         \u001b[38;5;28;01mif\u001b[39;00m \u001b[38;5;124m'\u001b[39m\u001b[38;5;124mw\u001b[39m\u001b[38;5;124m'\u001b[39m \u001b[38;5;129;01min\u001b[39;00m mode:\n",
      "File \u001b[1;32m~\\My Real Documents\\Projects\\Somm_Wine_Reccomendation\\.venv\\Lib\\site-packages\\torch\\serialization.py:416\u001b[0m, in \u001b[0;36m_open_file.__init__\u001b[1;34m(self, name, mode)\u001b[0m\n\u001b[0;32m    415\u001b[0m \u001b[38;5;28;01mdef\u001b[39;00m \u001b[38;5;21m__init__\u001b[39m(\u001b[38;5;28mself\u001b[39m, name, mode):\n\u001b[1;32m--> 416\u001b[0m     \u001b[38;5;28msuper\u001b[39m()\u001b[38;5;241m.\u001b[39m\u001b[38;5;21m__init__\u001b[39m(\u001b[38;5;28;41mopen\u001b[39;49m\u001b[41m(\u001b[49m\u001b[41mname\u001b[49m\u001b[41m,\u001b[49m\u001b[41m \u001b[49m\u001b[41mmode\u001b[49m\u001b[41m)\u001b[49m)\n",
      "\u001b[1;31mFileNotFoundError\u001b[0m: [Errno 2] No such file or directory: '../Data/description_embeddings_openai_ada-002.pt'"
     ]
    }
   ],
   "source": [
    "# Load embeddings\n",
    "embeddings = torch.load(\"../Data/description_embeddings_openai_ada-002.pt\") \n",
    "print(embeddings.shape)\n",
    "n_emb_cols = embeddings.shape[1]"
   ]
  },
  {
   "cell_type": "code",
   "execution_count": 13,
   "id": "d76d206e-0be4-44f1-8466-8ecf4978900a",
   "metadata": {},
   "outputs": [],
   "source": [
    "# Join the wine dataset with embeddings\n",
    "df_embeddings = pd.DataFrame(embeddings.numpy())\n",
    "wine_emb = pd.concat([wine, df_embeddings], axis=1)"
   ]
  },
  {
   "cell_type": "markdown",
   "id": "29309916-4d1c-4a8c-a4bf-fa54743d0bc0",
   "metadata": {},
   "source": [
    "# Drop if a style has <200 reviews"
   ]
  },
  {
   "cell_type": "code",
   "execution_count": 14,
   "id": "e874514e-c15f-4d44-be9b-5109e198719f",
   "metadata": {},
   "outputs": [],
   "source": [
    "# Combine wine df and embeddings df\n",
    "df_embeddings = pd.DataFrame(embeddings.numpy())\n",
    "wine_emb = pd.concat([wine, df_embeddings], axis=1)"
   ]
  },
  {
   "cell_type": "code",
   "execution_count": 15,
   "id": "001364fe-bdfd-4f19-8c29-e1b676332d1d",
   "metadata": {},
   "outputs": [],
   "source": [
    "# Drop if a style has <200 reviews \n",
    "tab_by_style = wine_emb.groupby('style3')['id'].count().reset_index()\n",
    "tab_by_style.rename(columns={'id':'count'}, inplace=True)\n",
    "\n",
    "styles_to_drop = tab_by_style[tab_by_style['count']>=200]['style3'].to_list()\n",
    "\n",
    "wine_emb = wine_emb[wine_emb['style3'].isin(styles_to_drop)].reset_index(drop=True)"
   ]
  },
  {
   "cell_type": "markdown",
   "id": "82e1126a-841a-45ca-9b85-bc05479a40cb",
   "metadata": {},
   "source": [
    "# Train-test split"
   ]
  },
  {
   "cell_type": "code",
   "execution_count": 16,
   "id": "68c9818b-e195-49c9-9cfb-616fe6d5cf4a",
   "metadata": {},
   "outputs": [],
   "source": [
    "# Split - stratify by 'style3'\n",
    "X_train, X_test, y_train, y_test, idx_train, idx_test = train_test_split(wine_emb[wine_emb.columns[-n_emb_cols:]], \n",
    "                                                                          wine_emb['style3'], \n",
    "                                                                          wine_emb.index,\n",
    "                                                                          test_size = 0.1,\n",
    "                                                                          random_state = 524, \n",
    "                                                                          stratify = wine_emb['style3'])"
   ]
  },
  {
   "cell_type": "code",
   "execution_count": 17,
   "id": "5dedcd6f-17df-4c11-b497-8341909935bb",
   "metadata": {},
   "outputs": [],
   "source": [
    "# Scaling\n",
    "scaler = StandardScaler()\n",
    "scaler.fit(X_train) \n",
    "X_train_scale = scaler.transform(X_train) \n",
    "X_test_scale =  scaler.transform(X_test)"
   ]
  },
  {
   "cell_type": "code",
   "execution_count": 18,
   "id": "fe2b25c2-f4d4-4c6c-89b2-d73d8be021e7",
   "metadata": {},
   "outputs": [],
   "source": [
    "# Encode the styles\n",
    "lb = LabelEncoder()\n",
    "y_train_code = lb.fit_transform(y_train)\n",
    "y_test_code = lb.transform(y_test)"
   ]
  },
  {
   "cell_type": "markdown",
   "id": "914567dc-27ee-40c4-a1e5-a45fb93501f8",
   "metadata": {},
   "source": [
    "# Define helper functions"
   ]
  },
  {
   "cell_type": "code",
   "execution_count": 19,
   "id": "7f01e4b5-48d0-42f8-bb17-09c0402e1902",
   "metadata": {},
   "outputs": [],
   "source": [
    "# Define topk_accuracy function\n",
    "def topk_accuracy(N, pred_probs_matrix, y_code_vector):\n",
    "    \"\"\"Compute top-k accuracy score, given predicted probabilities (matrix) and the target column (vector).\"\"\"\n",
    "    accuracy=[]\n",
    "    idx_sort_matrix = np.argsort(pred_probs_matrix)\n",
    "    \n",
    "    for n in range(1,N+1):\n",
    "        # Sort desc and only extract the top-N\n",
    "        top_n_matrix = idx_sort_matrix[:,:-n-1:-1]\n",
    "    \n",
    "        # Calculate accuracy\n",
    "        true_preds = 0\n",
    "        for i in range(len(y_code_vector)):\n",
    "            if y_code_vector[i] in top_n_matrix[i]:\n",
    "                true_preds += 1\n",
    "        \n",
    "        accuracy_n= true_preds/len(y_code_vector)\n",
    "        accuracy.append(accuracy_n)\n",
    "    return accuracy"
   ]
  },
  {
   "cell_type": "code",
   "execution_count": 20,
   "id": "5cc080db-a320-4251-9d19-86efb2e84a3c",
   "metadata": {},
   "outputs": [],
   "source": [
    "# Define Softmax function\n",
    "def softmax(x):\n",
    "    \"\"\"Compute softmax values for each sets of scores in x.\"\"\"\n",
    "    e_x = np.exp(x - np.max(x))\n",
    "    return e_x / e_x.sum(axis=0)"
   ]
  },
  {
   "cell_type": "code",
   "execution_count": 21,
   "id": "6b7c05ed-eded-4eb4-b57b-6f0038f1fa2b",
   "metadata": {},
   "outputs": [],
   "source": [
    "# Define find_topk_styles function\n",
    "def find_topk_styles(N, pred_probs_vector):\n",
    "    \"\"\"Find k styles of wine with the highest predicted probabilities.\"\"\"\n",
    "    idx_sort_vector = np.argsort(pred_probs_vector)    \n",
    "    top_n_vector = idx_sort_vector[:,:-N-1:-1]\n",
    "    return lb.inverse_transform(top_n_vector[0])"
   ]
  },
  {
   "cell_type": "code",
   "execution_count": 22,
   "id": "15ec4a6f-fa10-4675-901d-c014dce05a3c",
   "metadata": {},
   "outputs": [],
   "source": [
    "# Define find_topk_wines function\n",
    "def find_topk_wines(N, wine_data, score_vector):\n",
    "    \"\"\"Find k wines from a wine database with the highest similarity score to the user's input.\"\"\"\n",
    "    idx_sort_vector = np.argsort(score_vector.reshape(-1))    \n",
    "    top_n_vector = idx_sort_vector[:-N-1:-1]\n",
    "    top_n_df = wine_data.iloc[top_n_vector, :][['title', 'description']].copy()\n",
    "    top_n_df['score'] = score_vector[top_n_vector]\n",
    "    top_n_df.columns = ['Title', 'Description', 'Similarity Score']\n",
    "    return top_n_df"
   ]
  },
  {
   "cell_type": "code",
   "execution_count": 23,
   "id": "beab357d-04a9-4e1b-a75f-75c3d09deffd",
   "metadata": {},
   "outputs": [],
   "source": [
    "# Define function to plot top-20 accuracy for train and test sets\n",
    "def plot_top20_accuracies(acc_train, acc_test):\n",
    "    plt.plot(range(1,21), acc_train) \n",
    "    plt.plot(range(1,21), acc_test) \n",
    "    plt.xlabel(\"Top k predicted probabilities\")\n",
    "    plt.ylabel(\"Accuracy\")\n",
    "    plt.title(\"Top-k Accuracy\")\n",
    "    plt.legend(['Train', 'Test'])\n",
    "    plt.show()"
   ]
  },
  {
   "cell_type": "markdown",
   "id": "03d6e7a8-edb4-4737-86d1-0da2572b81c1",
   "metadata": {},
   "source": [
    "# Logistic Regression"
   ]
  },
  {
   "cell_type": "code",
   "execution_count": 17,
   "id": "9f7a4a1d-5406-4976-9d03-a81a1cbfc636",
   "metadata": {},
   "outputs": [],
   "source": [
    "from sklearn.linear_model import LogisticRegression"
   ]
  },
  {
   "cell_type": "code",
   "execution_count": 18,
   "id": "755b21f5-5c72-4223-878f-3feab89f5770",
   "metadata": {},
   "outputs": [
    {
     "name": "stderr",
     "output_type": "stream",
     "text": [
      "C:\\Users\\Noah\\My Real Documents\\Projects\\Somm_Wine_Reccomendation\\.venv\\Lib\\site-packages\\sklearn\\linear_model\\_logistic.py:460: ConvergenceWarning: lbfgs failed to converge (status=1):\n",
      "STOP: TOTAL NO. of ITERATIONS REACHED LIMIT.\n",
      "\n",
      "Increase the number of iterations (max_iter) or scale the data as shown in:\n",
      "    https://scikit-learn.org/stable/modules/preprocessing.html\n",
      "Please also refer to the documentation for alternative solver options:\n",
      "    https://scikit-learn.org/stable/modules/linear_model.html#logistic-regression\n",
      "  n_iter_i = _check_optimize_result(\n"
     ]
    },
    {
     "data": {
      "text/html": [
       "<style>#sk-container-id-1 {color: black;}#sk-container-id-1 pre{padding: 0;}#sk-container-id-1 div.sk-toggleable {background-color: white;}#sk-container-id-1 label.sk-toggleable__label {cursor: pointer;display: block;width: 100%;margin-bottom: 0;padding: 0.3em;box-sizing: border-box;text-align: center;}#sk-container-id-1 label.sk-toggleable__label-arrow:before {content: \"▸\";float: left;margin-right: 0.25em;color: #696969;}#sk-container-id-1 label.sk-toggleable__label-arrow:hover:before {color: black;}#sk-container-id-1 div.sk-estimator:hover label.sk-toggleable__label-arrow:before {color: black;}#sk-container-id-1 div.sk-toggleable__content {max-height: 0;max-width: 0;overflow: hidden;text-align: left;background-color: #f0f8ff;}#sk-container-id-1 div.sk-toggleable__content pre {margin: 0.2em;color: black;border-radius: 0.25em;background-color: #f0f8ff;}#sk-container-id-1 input.sk-toggleable__control:checked~div.sk-toggleable__content {max-height: 200px;max-width: 100%;overflow: auto;}#sk-container-id-1 input.sk-toggleable__control:checked~label.sk-toggleable__label-arrow:before {content: \"▾\";}#sk-container-id-1 div.sk-estimator input.sk-toggleable__control:checked~label.sk-toggleable__label {background-color: #d4ebff;}#sk-container-id-1 div.sk-label input.sk-toggleable__control:checked~label.sk-toggleable__label {background-color: #d4ebff;}#sk-container-id-1 input.sk-hidden--visually {border: 0;clip: rect(1px 1px 1px 1px);clip: rect(1px, 1px, 1px, 1px);height: 1px;margin: -1px;overflow: hidden;padding: 0;position: absolute;width: 1px;}#sk-container-id-1 div.sk-estimator {font-family: monospace;background-color: #f0f8ff;border: 1px dotted black;border-radius: 0.25em;box-sizing: border-box;margin-bottom: 0.5em;}#sk-container-id-1 div.sk-estimator:hover {background-color: #d4ebff;}#sk-container-id-1 div.sk-parallel-item::after {content: \"\";width: 100%;border-bottom: 1px solid gray;flex-grow: 1;}#sk-container-id-1 div.sk-label:hover label.sk-toggleable__label {background-color: #d4ebff;}#sk-container-id-1 div.sk-serial::before {content: \"\";position: absolute;border-left: 1px solid gray;box-sizing: border-box;top: 0;bottom: 0;left: 50%;z-index: 0;}#sk-container-id-1 div.sk-serial {display: flex;flex-direction: column;align-items: center;background-color: white;padding-right: 0.2em;padding-left: 0.2em;position: relative;}#sk-container-id-1 div.sk-item {position: relative;z-index: 1;}#sk-container-id-1 div.sk-parallel {display: flex;align-items: stretch;justify-content: center;background-color: white;position: relative;}#sk-container-id-1 div.sk-item::before, #sk-container-id-1 div.sk-parallel-item::before {content: \"\";position: absolute;border-left: 1px solid gray;box-sizing: border-box;top: 0;bottom: 0;left: 50%;z-index: -1;}#sk-container-id-1 div.sk-parallel-item {display: flex;flex-direction: column;z-index: 1;position: relative;background-color: white;}#sk-container-id-1 div.sk-parallel-item:first-child::after {align-self: flex-end;width: 50%;}#sk-container-id-1 div.sk-parallel-item:last-child::after {align-self: flex-start;width: 50%;}#sk-container-id-1 div.sk-parallel-item:only-child::after {width: 0;}#sk-container-id-1 div.sk-dashed-wrapped {border: 1px dashed gray;margin: 0 0.4em 0.5em 0.4em;box-sizing: border-box;padding-bottom: 0.4em;background-color: white;}#sk-container-id-1 div.sk-label label {font-family: monospace;font-weight: bold;display: inline-block;line-height: 1.2em;}#sk-container-id-1 div.sk-label-container {text-align: center;}#sk-container-id-1 div.sk-container {/* jupyter's `normalize.less` sets `[hidden] { display: none; }` but bootstrap.min.css set `[hidden] { display: none !important; }` so we also need the `!important` here to be able to override the default hidden behavior on the sphinx rendered scikit-learn.org. See: https://github.com/scikit-learn/scikit-learn/issues/21755 */display: inline-block !important;position: relative;}#sk-container-id-1 div.sk-text-repr-fallback {display: none;}</style><div id=\"sk-container-id-1\" class=\"sk-top-container\"><div class=\"sk-text-repr-fallback\"><pre>GridSearchCV(cv=5,\n",
       "             estimator=LogisticRegression(max_iter=500,\n",
       "                                          multi_class=&#x27;multinomial&#x27;),\n",
       "             n_jobs=16, param_grid={&#x27;C&#x27;: [0.01, 0.1, 1, 10]},\n",
       "             scoring=&#x27;neg_log_loss&#x27;)</pre><b>In a Jupyter environment, please rerun this cell to show the HTML representation or trust the notebook. <br />On GitHub, the HTML representation is unable to render, please try loading this page with nbviewer.org.</b></div><div class=\"sk-container\" hidden><div class=\"sk-item sk-dashed-wrapped\"><div class=\"sk-label-container\"><div class=\"sk-label sk-toggleable\"><input class=\"sk-toggleable__control sk-hidden--visually\" id=\"sk-estimator-id-1\" type=\"checkbox\" ><label for=\"sk-estimator-id-1\" class=\"sk-toggleable__label sk-toggleable__label-arrow\">GridSearchCV</label><div class=\"sk-toggleable__content\"><pre>GridSearchCV(cv=5,\n",
       "             estimator=LogisticRegression(max_iter=500,\n",
       "                                          multi_class=&#x27;multinomial&#x27;),\n",
       "             n_jobs=16, param_grid={&#x27;C&#x27;: [0.01, 0.1, 1, 10]},\n",
       "             scoring=&#x27;neg_log_loss&#x27;)</pre></div></div></div><div class=\"sk-parallel\"><div class=\"sk-parallel-item\"><div class=\"sk-item\"><div class=\"sk-label-container\"><div class=\"sk-label sk-toggleable\"><input class=\"sk-toggleable__control sk-hidden--visually\" id=\"sk-estimator-id-2\" type=\"checkbox\" ><label for=\"sk-estimator-id-2\" class=\"sk-toggleable__label sk-toggleable__label-arrow\">estimator: LogisticRegression</label><div class=\"sk-toggleable__content\"><pre>LogisticRegression(max_iter=500, multi_class=&#x27;multinomial&#x27;)</pre></div></div></div><div class=\"sk-serial\"><div class=\"sk-item\"><div class=\"sk-estimator sk-toggleable\"><input class=\"sk-toggleable__control sk-hidden--visually\" id=\"sk-estimator-id-3\" type=\"checkbox\" ><label for=\"sk-estimator-id-3\" class=\"sk-toggleable__label sk-toggleable__label-arrow\">LogisticRegression</label><div class=\"sk-toggleable__content\"><pre>LogisticRegression(max_iter=500, multi_class=&#x27;multinomial&#x27;)</pre></div></div></div></div></div></div></div></div></div></div>"
      ],
      "text/plain": [
       "GridSearchCV(cv=5,\n",
       "             estimator=LogisticRegression(max_iter=500,\n",
       "                                          multi_class='multinomial'),\n",
       "             n_jobs=16, param_grid={'C': [0.01, 0.1, 1, 10]},\n",
       "             scoring='neg_log_loss')"
      ]
     },
     "execution_count": 18,
     "metadata": {},
     "output_type": "execute_result"
    }
   ],
   "source": [
    "# Fit - use the default solver with L2-penalty - tune the extent of regularization with C\n",
    "classifier = LogisticRegression(multi_class='multinomial', max_iter=500)\n",
    "hyper_param = {'C':[0.01, 0.1, 1, 10]}\n",
    "\n",
    "# GridSearchCV - stratifiedKFold is used by default\n",
    "# score (on CV sets) to compare between models: 'neg_log_loss' (cross entropy)\n",
    "grid_cv = GridSearchCV(classifier,\n",
    "                       param_grid = hyper_param,\n",
    "                       scoring = 'neg_log_loss', \n",
    "                       n_jobs = 16,\n",
    "                       cv = 5)\n",
    "\n",
    "grid_cv.fit(X_train_scale, y_train_code)"
   ]
  },
  {
   "cell_type": "code",
   "execution_count": 19,
   "id": "b67aefb7-10b2-4423-8665-136df5f43097",
   "metadata": {},
   "outputs": [
    {
     "data": {
      "text/plain": [
       "{'C': 0.01}"
      ]
     },
     "execution_count": 19,
     "metadata": {},
     "output_type": "execute_result"
    }
   ],
   "source": [
    "# Show best hyper parameters\n",
    "grid_cv.best_params_"
   ]
  },
  {
   "cell_type": "code",
   "execution_count": 20,
   "id": "713587a5-602e-4bfe-ae27-82e70a1d0683",
   "metadata": {},
   "outputs": [
    {
     "data": {
      "text/plain": [
       "{'mean_fit_time': array([527.86284094, 523.646841  , 525.28740926, 308.8099412 ]),\n",
       " 'std_fit_time': array([  1.27101415,   3.65934132,   3.13859784, 108.65426316]),\n",
       " 'mean_score_time': array([0.20429735, 0.25686364, 0.23747621, 0.13749099]),\n",
       " 'std_score_time': array([0.0672162 , 0.06131138, 0.07521825, 0.06230261]),\n",
       " 'param_C': masked_array(data=[0.01, 0.1, 1, 10],\n",
       "              mask=[False, False, False, False],\n",
       "        fill_value='?',\n",
       "             dtype=object),\n",
       " 'params': [{'C': 0.01}, {'C': 0.1}, {'C': 1}, {'C': 10}],\n",
       " 'split0_test_score': array([-1.22039107, -1.66317685, -2.64933953, -3.9941854 ]),\n",
       " 'split1_test_score': array([-1.23768996, -1.70589137, -2.73614897, -4.10271012]),\n",
       " 'split2_test_score': array([-1.2353755 , -1.67808874, -2.67474194, -4.02665638]),\n",
       " 'split3_test_score': array([-1.24630072, -1.71063609, -2.73730475, -4.15708468]),\n",
       " 'split4_test_score': array([-1.25767796, -1.71649169, -2.72617024, -4.12996203]),\n",
       " 'mean_test_score': array([-1.23948704, -1.69485695, -2.70474109, -4.08211972]),\n",
       " 'std_test_score': array([0.01234606, 0.02060875, 0.03598704, 0.06187281]),\n",
       " 'rank_test_score': array([1, 2, 3, 4])}"
      ]
     },
     "execution_count": 20,
     "metadata": {},
     "output_type": "execute_result"
    }
   ],
   "source": [
    "# See CV results\n",
    "grid_cv.cv_results_"
   ]
  },
  {
   "cell_type": "code",
   "execution_count": 231,
   "id": "25132ab6-2b6e-49df-8480-296293f09afe",
   "metadata": {},
   "outputs": [],
   "source": [
    "# Save best model using pickle \n",
    "with open(model_path + '/logistic.pkl','wb') as f:\n",
    "    pickle.dump(grid_cv.best_estimator_, f)\n",
    "\n",
    "# load model\n",
    "with open(model_path + '/logistic.pkl', 'rb') as f:\n",
    "    clf = pickle.load(f)"
   ]
  },
  {
   "cell_type": "markdown",
   "id": "9c81235c-ff2c-493e-a80d-d36f13cd66a8",
   "metadata": {},
   "source": [
    "## Evaluate performance"
   ]
  },
  {
   "cell_type": "code",
   "execution_count": 258,
   "id": "0b98fdf9-7261-412d-81db-04884ee3e2cb",
   "metadata": {},
   "outputs": [
    {
     "name": "stdout",
     "output_type": "stream",
     "text": [
      "Train accuracy score: 0.8569520230036\n"
     ]
    }
   ],
   "source": [
    "# Accuracy of train\n",
    "print(\"Train accuracy score:\", clf.score(X_train_scale, y_train_code))\n",
    "\n",
    "# Predict probabilities for train set\n",
    "probs_train = clf.predict_proba(X_train_scale)"
   ]
  },
  {
   "cell_type": "code",
   "execution_count": 259,
   "id": "4895ebad-46a8-469f-ae33-ca0c007880c0",
   "metadata": {},
   "outputs": [
    {
     "name": "stdout",
     "output_type": "stream",
     "text": [
      "Test accuracy score: 0.63039934800326\n"
     ]
    }
   ],
   "source": [
    "# Accuracy test\n",
    "print(\"Test accuracy score:\", clf.score(X_test_scale, y_test_code))\n",
    "\n",
    "# Predict probabilities for test set\n",
    "probs_test = clf.predict_proba(X_test_scale)"
   ]
  },
  {
   "cell_type": "code",
   "execution_count": 262,
   "id": "5696a7b0-679a-452b-b100-cecb40d60975",
   "metadata": {},
   "outputs": [
    {
     "data": {
      "image/png": "[encoded data removed]",
      "text/plain": [
       "<Figure size 640x480 with 1 Axes>"
      ]
     },
     "metadata": {},
     "output_type": "display_data"
    }
   ],
   "source": [
    "# Compute top-20 accuracy for train and test sets\n",
    "top20_acc_train = topk_accuracy(20, probs_train, y_train_code)\n",
    "top20_acc_test = topk_accuracy(20, probs_test, y_test_code)\n",
    "\n",
    "# Plot them\n",
    "plot_top20_accuracies(top20_acc_train, top20_acc_test)"
   ]
  },
  {
   "cell_type": "code",
   "execution_count": 288,
   "id": "c01145e9-3703-4fbc-bd2e-3e37a682c762",
   "metadata": {},
   "outputs": [
    {
     "data": {
      "text/html": [
       "<div>\n",
       "<style scoped>\n",
       "    .dataframe tbody tr th:only-of-type {\n",
       "        vertical-align: middle;\n",
       "    }\n",
       "\n",
       "    .dataframe tbody tr th {\n",
       "        vertical-align: top;\n",
       "    }\n",
       "\n",
       "    .dataframe thead th {\n",
       "        text-align: right;\n",
       "    }\n",
       "</style>\n",
       "<table border=\"1\" class=\"dataframe\">\n",
       "  <thead>\n",
       "    <tr style=\"text-align: right;\">\n",
       "      <th></th>\n",
       "      <th>model</th>\n",
       "      <th>train</th>\n",
       "      <th>test</th>\n",
       "    </tr>\n",
       "  </thead>\n",
       "  <tbody>\n",
       "    <tr>\n",
       "      <th>0</th>\n",
       "      <td>Multinomial Logistic</td>\n",
       "      <td>0.856952</td>\n",
       "      <td>0.630399</td>\n",
       "    </tr>\n",
       "    <tr>\n",
       "      <th>1</th>\n",
       "      <td>Multinomial Logistic</td>\n",
       "      <td>0.946023</td>\n",
       "      <td>0.781581</td>\n",
       "    </tr>\n",
       "    <tr>\n",
       "      <th>2</th>\n",
       "      <td>Multinomial Logistic</td>\n",
       "      <td>0.973193</td>\n",
       "      <td>0.848003</td>\n",
       "    </tr>\n",
       "  </tbody>\n",
       "</table>\n",
       "</div>"
      ],
      "text/plain": [
       "                  model     train      test\n",
       "0  Multinomial Logistic  0.856952  0.630399\n",
       "1  Multinomial Logistic  0.946023  0.781581\n",
       "2  Multinomial Logistic  0.973193  0.848003"
      ]
     },
     "metadata": {},
     "output_type": "display_data"
    }
   ],
   "source": [
    "# Save top-20 accuracy on train set\n",
    "top20_accuracy_df = pd.DataFrame({'train' : top20_acc_train, 'test' : top20_acc_test})\n",
    "top20_accuracy_df['model'] = 'Multinomial Logistic'\n",
    "top20_accuracy_df = top20_accuracy_df[['model', 'train', 'test']]\n",
    "top20_accuracy_df.to_csv(top3acc_path + '/logistic.csv')\n",
    "\n",
    "# Display top-3 accuracy\n",
    "display(top20_accuracy_df[:3])"
   ]
  },
  {
   "cell_type": "markdown",
   "id": "9dda98a3-24a3-468b-a7cb-e375e44c2092",
   "metadata": {},
   "source": [
    "# Support Vector Machine"
   ]
  },
  {
   "cell_type": "code",
   "execution_count": 29,
   "id": "9546d3ec-20ce-460d-bbdb-504f97a3e7d7",
   "metadata": {},
   "outputs": [],
   "source": [
    "from sklearn.svm import LinearSVC, SVC"
   ]
  },
  {
   "cell_type": "code",
   "execution_count": 30,
   "id": "3ad9f3d6-0e33-4f9b-a142-1ca696183fc9",
   "metadata": {},
   "outputs": [
    {
     "data": {
      "text/html": [
       "<style>#sk-container-id-2 {color: black;}#sk-container-id-2 pre{padding: 0;}#sk-container-id-2 div.sk-toggleable {background-color: white;}#sk-container-id-2 label.sk-toggleable__label {cursor: pointer;display: block;width: 100%;margin-bottom: 0;padding: 0.3em;box-sizing: border-box;text-align: center;}#sk-container-id-2 label.sk-toggleable__label-arrow:before {content: \"▸\";float: left;margin-right: 0.25em;color: #696969;}#sk-container-id-2 label.sk-toggleable__label-arrow:hover:before {color: black;}#sk-container-id-2 div.sk-estimator:hover label.sk-toggleable__label-arrow:before {color: black;}#sk-container-id-2 div.sk-toggleable__content {max-height: 0;max-width: 0;overflow: hidden;text-align: left;background-color: #f0f8ff;}#sk-container-id-2 div.sk-toggleable__content pre {margin: 0.2em;color: black;border-radius: 0.25em;background-color: #f0f8ff;}#sk-container-id-2 input.sk-toggleable__control:checked~div.sk-toggleable__content {max-height: 200px;max-width: 100%;overflow: auto;}#sk-container-id-2 input.sk-toggleable__control:checked~label.sk-toggleable__label-arrow:before {content: \"▾\";}#sk-container-id-2 div.sk-estimator input.sk-toggleable__control:checked~label.sk-toggleable__label {background-color: #d4ebff;}#sk-container-id-2 div.sk-label input.sk-toggleable__control:checked~label.sk-toggleable__label {background-color: #d4ebff;}#sk-container-id-2 input.sk-hidden--visually {border: 0;clip: rect(1px 1px 1px 1px);clip: rect(1px, 1px, 1px, 1px);height: 1px;margin: -1px;overflow: hidden;padding: 0;position: absolute;width: 1px;}#sk-container-id-2 div.sk-estimator {font-family: monospace;background-color: #f0f8ff;border: 1px dotted black;border-radius: 0.25em;box-sizing: border-box;margin-bottom: 0.5em;}#sk-container-id-2 div.sk-estimator:hover {background-color: #d4ebff;}#sk-container-id-2 div.sk-parallel-item::after {content: \"\";width: 100%;border-bottom: 1px solid gray;flex-grow: 1;}#sk-container-id-2 div.sk-label:hover label.sk-toggleable__label {background-color: #d4ebff;}#sk-container-id-2 div.sk-serial::before {content: \"\";position: absolute;border-left: 1px solid gray;box-sizing: border-box;top: 0;bottom: 0;left: 50%;z-index: 0;}#sk-container-id-2 div.sk-serial {display: flex;flex-direction: column;align-items: center;background-color: white;padding-right: 0.2em;padding-left: 0.2em;position: relative;}#sk-container-id-2 div.sk-item {position: relative;z-index: 1;}#sk-container-id-2 div.sk-parallel {display: flex;align-items: stretch;justify-content: center;background-color: white;position: relative;}#sk-container-id-2 div.sk-item::before, #sk-container-id-2 div.sk-parallel-item::before {content: \"\";position: absolute;border-left: 1px solid gray;box-sizing: border-box;top: 0;bottom: 0;left: 50%;z-index: -1;}#sk-container-id-2 div.sk-parallel-item {display: flex;flex-direction: column;z-index: 1;position: relative;background-color: white;}#sk-container-id-2 div.sk-parallel-item:first-child::after {align-self: flex-end;width: 50%;}#sk-container-id-2 div.sk-parallel-item:last-child::after {align-self: flex-start;width: 50%;}#sk-container-id-2 div.sk-parallel-item:only-child::after {width: 0;}#sk-container-id-2 div.sk-dashed-wrapped {border: 1px dashed gray;margin: 0 0.4em 0.5em 0.4em;box-sizing: border-box;padding-bottom: 0.4em;background-color: white;}#sk-container-id-2 div.sk-label label {font-family: monospace;font-weight: bold;display: inline-block;line-height: 1.2em;}#sk-container-id-2 div.sk-label-container {text-align: center;}#sk-container-id-2 div.sk-container {/* jupyter's `normalize.less` sets `[hidden] { display: none; }` but bootstrap.min.css set `[hidden] { display: none !important; }` so we also need the `!important` here to be able to override the default hidden behavior on the sphinx rendered scikit-learn.org. See: https://github.com/scikit-learn/scikit-learn/issues/21755 */display: inline-block !important;position: relative;}#sk-container-id-2 div.sk-text-repr-fallback {display: none;}</style><div id=\"sk-container-id-2\" class=\"sk-top-container\"><div class=\"sk-text-repr-fallback\"><pre>GridSearchCV(cv=5, estimator=LinearSVC(dual=&#x27;auto&#x27;, max_iter=100), n_jobs=16,\n",
       "             param_grid={&#x27;C&#x27;: [0.01, 0.1, 1]}, scoring=&#x27;accuracy&#x27;)</pre><b>In a Jupyter environment, please rerun this cell to show the HTML representation or trust the notebook. <br />On GitHub, the HTML representation is unable to render, please try loading this page with nbviewer.org.</b></div><div class=\"sk-container\" hidden><div class=\"sk-item sk-dashed-wrapped\"><div class=\"sk-label-container\"><div class=\"sk-label sk-toggleable\"><input class=\"sk-toggleable__control sk-hidden--visually\" id=\"sk-estimator-id-4\" type=\"checkbox\" ><label for=\"sk-estimator-id-4\" class=\"sk-toggleable__label sk-toggleable__label-arrow\">GridSearchCV</label><div class=\"sk-toggleable__content\"><pre>GridSearchCV(cv=5, estimator=LinearSVC(dual=&#x27;auto&#x27;, max_iter=100), n_jobs=16,\n",
       "             param_grid={&#x27;C&#x27;: [0.01, 0.1, 1]}, scoring=&#x27;accuracy&#x27;)</pre></div></div></div><div class=\"sk-parallel\"><div class=\"sk-parallel-item\"><div class=\"sk-item\"><div class=\"sk-label-container\"><div class=\"sk-label sk-toggleable\"><input class=\"sk-toggleable__control sk-hidden--visually\" id=\"sk-estimator-id-5\" type=\"checkbox\" ><label for=\"sk-estimator-id-5\" class=\"sk-toggleable__label sk-toggleable__label-arrow\">estimator: LinearSVC</label><div class=\"sk-toggleable__content\"><pre>LinearSVC(dual=&#x27;auto&#x27;, max_iter=100)</pre></div></div></div><div class=\"sk-serial\"><div class=\"sk-item\"><div class=\"sk-estimator sk-toggleable\"><input class=\"sk-toggleable__control sk-hidden--visually\" id=\"sk-estimator-id-6\" type=\"checkbox\" ><label for=\"sk-estimator-id-6\" class=\"sk-toggleable__label sk-toggleable__label-arrow\">LinearSVC</label><div class=\"sk-toggleable__content\"><pre>LinearSVC(dual=&#x27;auto&#x27;, max_iter=100)</pre></div></div></div></div></div></div></div></div></div></div>"
      ],
      "text/plain": [
       "GridSearchCV(cv=5, estimator=LinearSVC(dual='auto', max_iter=100), n_jobs=16,\n",
       "             param_grid={'C': [0.01, 0.1, 1]}, scoring='accuracy')"
      ]
     },
     "execution_count": 30,
     "metadata": {},
     "output_type": "execute_result"
    }
   ],
   "source": [
    "classifier = LinearSVC(  multi_class='ovr', dual='auto', max_iter=100)\n",
    "\n",
    "hyper_param = {'C':[0.01, 0.1, 1]}\n",
    "\n",
    "# GridSearchCV - stratifiedKFold is used by default\n",
    "# score (on CV sets) to compare between models: 'accuracy' instead of 'neg_log_loss'\n",
    "# because LinearSVC does not provide predicted probabilities to compute 'neg_log_loss' \n",
    "grid_cv = GridSearchCV(classifier,\n",
    "                       param_grid = hyper_param,\n",
    "                       scoring = 'accuracy',\n",
    "                       n_jobs = 16,\n",
    "                       cv = 5)\n",
    "\n",
    "grid_cv.fit(X_train_scale, y_train_code)\n"
   ]
  },
  {
   "cell_type": "code",
   "execution_count": 31,
   "id": "940ede37-c839-46b2-9747-2f6cf2c80f20",
   "metadata": {},
   "outputs": [
    {
     "data": {
      "text/plain": [
       "{'C': 0.01}"
      ]
     },
     "execution_count": 31,
     "metadata": {},
     "output_type": "execute_result"
    }
   ],
   "source": [
    "# Show best hyper parameters\n",
    "grid_cv.best_params_"
   ]
  },
  {
   "cell_type": "code",
   "execution_count": 32,
   "id": "eef122e5-5939-4bb6-a802-671e314a1d33",
   "metadata": {},
   "outputs": [
    {
     "data": {
      "text/plain": [
       "{'mean_fit_time': array([4291.37868938, 6222.12897968, 6410.99633355]),\n",
       " 'std_fit_time': array([38.30407597, 28.61077722, 29.77959683]),\n",
       " 'mean_score_time': array([0.29341321, 0.17968311, 0.10111609]),\n",
       " 'std_score_time': array([0.03305454, 0.02247985, 0.01442052]),\n",
       " 'param_C': masked_array(data=[0.01, 0.1, 1],\n",
       "              mask=[False, False, False],\n",
       "        fill_value='?',\n",
       "             dtype=object),\n",
       " 'params': [{'C': 0.01}, {'C': 0.1}, {'C': 1}],\n",
       " 'split0_test_score': array([0.59384197, 0.52750736, 0.50124519]),\n",
       " 'split1_test_score': array([0.59474757, 0.53169572, 0.49909441]),\n",
       " 'split2_test_score': array([0.58677686, 0.51952904, 0.49066002]),\n",
       " 'split3_test_score': array([0.59006   , 0.52235933, 0.49269784]),\n",
       " 'split4_test_score': array([0.58790898, 0.52315182, 0.48624476]),\n",
       " 'mean_test_score': array([0.59066708, 0.52484865, 0.49398844]),\n",
       " 'std_test_score': array([0.00315721, 0.00427376, 0.00550345]),\n",
       " 'rank_test_score': array([1, 2, 3])}"
      ]
     },
     "execution_count": 32,
     "metadata": {},
     "output_type": "execute_result"
    }
   ],
   "source": [
    "# See CV results\n",
    "grid_cv.cv_results_"
   ]
  },
  {
   "cell_type": "code",
   "execution_count": 306,
   "id": "1bc06f45-e34c-47d8-810c-9f74900a1b54",
   "metadata": {},
   "outputs": [],
   "source": [
    "# Save best model using pickle \n",
    "with open(model_path + '/linearsvc.pkl','wb') as f:\n",
    "    pickle.dump(grid_cv.best_estimator_, f)\n",
    "\n",
    "# load model\n",
    "with open(model_path + '/linearsvc.pkl', 'rb') as f:\n",
    "    clf = pickle.load(f)"
   ]
  },
  {
   "cell_type": "markdown",
   "id": "9d0c619e-ef36-41a7-b8f7-e55d3ef3fac3",
   "metadata": {},
   "source": [
    "## Evaluate performance"
   ]
  },
  {
   "cell_type": "markdown",
   "id": "b03a4610-5dbe-4bc7-8db1-ad70bddeabf6",
   "metadata": {},
   "source": [
    "To generate predicted probabilities, we will apply soft-max activation to the confidence scores predicted by Linear SVC."
   ]
  },
  {
   "cell_type": "code",
   "execution_count": 307,
   "id": "e0fde926-ef74-4e0d-81e3-ae0fad1aa6df",
   "metadata": {},
   "outputs": [
    {
     "name": "stdout",
     "output_type": "stream",
     "text": [
      "Train accuracy score: 0.8950800371317952\n"
     ]
    }
   ],
   "source": [
    "# Accuracy of train\n",
    "print(\"Train accuracy score:\", clf.score(X_train_scale, y_train_code))\n",
    "\n",
    "# Predit confidence score --> to be converted to probabilities\n",
    "confidence_score_train = clf.decision_function(X_train_scale)\n",
    "\n",
    "# Compute predicted probabilities after softmax\n",
    "probs_train = np.zeros_like(confidence_score_train)\n",
    "\n",
    "for i, j in enumerate(confidence_score_train): \n",
    "    probs_train[i]= softmax(j)"
   ]
  },
  {
   "cell_type": "code",
   "execution_count": 308,
   "id": "c5078455-04bf-489e-b791-5fb48e46fc83",
   "metadata": {},
   "outputs": [
    {
     "name": "stdout",
     "output_type": "stream",
     "text": [
      "Test accuracy score: 0.597799511002445\n"
     ]
    }
   ],
   "source": [
    "# Accuracy test\n",
    "print(\"Test accuracy score:\", clf.score(X_test_scale, y_test_code))\n",
    "\n",
    "# Predit confidence score --> to be converted to probabilities\n",
    "confidence_score_test = clf.decision_function(X_test_scale)\n",
    "\n",
    "# Compute predicted probabilities after softmax\n",
    "probs_test = np.zeros_like(confidence_score_test)\n",
    "\n",
    "for i, j in enumerate(confidence_score_test): \n",
    "    probs_test[i]= softmax(j)"
   ]
  },
  {
   "cell_type": "code",
   "execution_count": 309,
   "id": "f38e2fbd-c24f-400b-ade8-1326932b81c6",
   "metadata": {},
   "outputs": [
    {
     "data": {
      "image/png": "[encoded data removed]",
      "text/plain": [
       "<Figure size 640x480 with 1 Axes>"
      ]
     },
     "metadata": {},
     "output_type": "display_data"
    }
   ],
   "source": [
    "# Compute top-20 accuracy for train and test sets\n",
    "top20_acc_train = topk_accuracy(20, probs_train, y_train_code)\n",
    "top20_acc_test = topk_accuracy(20, probs_test, y_test_code)\n",
    "\n",
    "# Plot them\n",
    "plot_top20_accuracies(top20_acc_train, top20_acc_test)"
   ]
  },
  {
   "cell_type": "code",
   "execution_count": 310,
   "id": "9af4ccbc-67b4-4d92-b8e0-26ab1903e016",
   "metadata": {},
   "outputs": [
    {
     "data": {
      "text/html": [
       "<div>\n",
       "<style scoped>\n",
       "    .dataframe tbody tr th:only-of-type {\n",
       "        vertical-align: middle;\n",
       "    }\n",
       "\n",
       "    .dataframe tbody tr th {\n",
       "        vertical-align: top;\n",
       "    }\n",
       "\n",
       "    .dataframe thead th {\n",
       "        text-align: right;\n",
       "    }\n",
       "</style>\n",
       "<table border=\"1\" class=\"dataframe\">\n",
       "  <thead>\n",
       "    <tr style=\"text-align: right;\">\n",
       "      <th></th>\n",
       "      <th>model</th>\n",
       "      <th>train</th>\n",
       "      <th>test</th>\n",
       "    </tr>\n",
       "  </thead>\n",
       "  <tbody>\n",
       "    <tr>\n",
       "      <th>0</th>\n",
       "      <td>Linear SVC</td>\n",
       "      <td>0.895080</td>\n",
       "      <td>0.597800</td>\n",
       "    </tr>\n",
       "    <tr>\n",
       "      <th>1</th>\n",
       "      <td>Linear SVC</td>\n",
       "      <td>0.967261</td>\n",
       "      <td>0.725143</td>\n",
       "    </tr>\n",
       "    <tr>\n",
       "      <th>2</th>\n",
       "      <td>Linear SVC</td>\n",
       "      <td>0.983517</td>\n",
       "      <td>0.782804</td>\n",
       "    </tr>\n",
       "  </tbody>\n",
       "</table>\n",
       "</div>"
      ],
      "text/plain": [
       "        model     train      test\n",
       "0  Linear SVC  0.895080  0.597800\n",
       "1  Linear SVC  0.967261  0.725143\n",
       "2  Linear SVC  0.983517  0.782804"
      ]
     },
     "metadata": {},
     "output_type": "display_data"
    }
   ],
   "source": [
    "# Save top-20 accuracy on train set\n",
    "top20_accuracy_df = pd.DataFrame({'train' : top20_acc_train, 'test' : top20_acc_test})\n",
    "top20_accuracy_df['model'] = 'Linear SVC'\n",
    "top20_accuracy_df = top20_accuracy_df[['model', 'train', 'test']]\n",
    "top20_accuracy_df.to_csv(top3acc_path + '/linearsvc.csv')\n",
    "\n",
    "# Display top-3 accuracy\n",
    "display(top20_accuracy_df[:3])"
   ]
  },
  {
   "cell_type": "markdown",
   "id": "587ce264-97f4-4bd6-bdaf-d96f2c113958",
   "metadata": {},
   "source": [
    "# Random Forest"
   ]
  },
  {
   "cell_type": "code",
   "execution_count": 44,
   "id": "c01f6954-dcb1-46ec-922f-c53c8ca2d340",
   "metadata": {},
   "outputs": [],
   "source": [
    "from sklearn.tree import DecisionTreeClassifier\n",
    "from sklearn.ensemble import RandomForestClassifier"
   ]
  },
  {
   "cell_type": "code",
   "execution_count": 45,
   "id": "ce74de15-17de-474d-99e3-5ad8ebd7ae5d",
   "metadata": {},
   "outputs": [
    {
     "data": {
      "text/html": [
       "<style>#sk-container-id-3 {color: black;}#sk-container-id-3 pre{padding: 0;}#sk-container-id-3 div.sk-toggleable {background-color: white;}#sk-container-id-3 label.sk-toggleable__label {cursor: pointer;display: block;width: 100%;margin-bottom: 0;padding: 0.3em;box-sizing: border-box;text-align: center;}#sk-container-id-3 label.sk-toggleable__label-arrow:before {content: \"▸\";float: left;margin-right: 0.25em;color: #696969;}#sk-container-id-3 label.sk-toggleable__label-arrow:hover:before {color: black;}#sk-container-id-3 div.sk-estimator:hover label.sk-toggleable__label-arrow:before {color: black;}#sk-container-id-3 div.sk-toggleable__content {max-height: 0;max-width: 0;overflow: hidden;text-align: left;background-color: #f0f8ff;}#sk-container-id-3 div.sk-toggleable__content pre {margin: 0.2em;color: black;border-radius: 0.25em;background-color: #f0f8ff;}#sk-container-id-3 input.sk-toggleable__control:checked~div.sk-toggleable__content {max-height: 200px;max-width: 100%;overflow: auto;}#sk-container-id-3 input.sk-toggleable__control:checked~label.sk-toggleable__label-arrow:before {content: \"▾\";}#sk-container-id-3 div.sk-estimator input.sk-toggleable__control:checked~label.sk-toggleable__label {background-color: #d4ebff;}#sk-container-id-3 div.sk-label input.sk-toggleable__control:checked~label.sk-toggleable__label {background-color: #d4ebff;}#sk-container-id-3 input.sk-hidden--visually {border: 0;clip: rect(1px 1px 1px 1px);clip: rect(1px, 1px, 1px, 1px);height: 1px;margin: -1px;overflow: hidden;padding: 0;position: absolute;width: 1px;}#sk-container-id-3 div.sk-estimator {font-family: monospace;background-color: #f0f8ff;border: 1px dotted black;border-radius: 0.25em;box-sizing: border-box;margin-bottom: 0.5em;}#sk-container-id-3 div.sk-estimator:hover {background-color: #d4ebff;}#sk-container-id-3 div.sk-parallel-item::after {content: \"\";width: 100%;border-bottom: 1px solid gray;flex-grow: 1;}#sk-container-id-3 div.sk-label:hover label.sk-toggleable__label {background-color: #d4ebff;}#sk-container-id-3 div.sk-serial::before {content: \"\";position: absolute;border-left: 1px solid gray;box-sizing: border-box;top: 0;bottom: 0;left: 50%;z-index: 0;}#sk-container-id-3 div.sk-serial {display: flex;flex-direction: column;align-items: center;background-color: white;padding-right: 0.2em;padding-left: 0.2em;position: relative;}#sk-container-id-3 div.sk-item {position: relative;z-index: 1;}#sk-container-id-3 div.sk-parallel {display: flex;align-items: stretch;justify-content: center;background-color: white;position: relative;}#sk-container-id-3 div.sk-item::before, #sk-container-id-3 div.sk-parallel-item::before {content: \"\";position: absolute;border-left: 1px solid gray;box-sizing: border-box;top: 0;bottom: 0;left: 50%;z-index: -1;}#sk-container-id-3 div.sk-parallel-item {display: flex;flex-direction: column;z-index: 1;position: relative;background-color: white;}#sk-container-id-3 div.sk-parallel-item:first-child::after {align-self: flex-end;width: 50%;}#sk-container-id-3 div.sk-parallel-item:last-child::after {align-self: flex-start;width: 50%;}#sk-container-id-3 div.sk-parallel-item:only-child::after {width: 0;}#sk-container-id-3 div.sk-dashed-wrapped {border: 1px dashed gray;margin: 0 0.4em 0.5em 0.4em;box-sizing: border-box;padding-bottom: 0.4em;background-color: white;}#sk-container-id-3 div.sk-label label {font-family: monospace;font-weight: bold;display: inline-block;line-height: 1.2em;}#sk-container-id-3 div.sk-label-container {text-align: center;}#sk-container-id-3 div.sk-container {/* jupyter's `normalize.less` sets `[hidden] { display: none; }` but bootstrap.min.css set `[hidden] { display: none !important; }` so we also need the `!important` here to be able to override the default hidden behavior on the sphinx rendered scikit-learn.org. See: https://github.com/scikit-learn/scikit-learn/issues/21755 */display: inline-block !important;position: relative;}#sk-container-id-3 div.sk-text-repr-fallback {display: none;}</style><div id=\"sk-container-id-3\" class=\"sk-top-container\"><div class=\"sk-text-repr-fallback\"><pre>GridSearchCV(cv=5,\n",
       "             estimator=RandomForestClassifier(class_weight=&#x27;balanced&#x27;,\n",
       "                                              max_samples=22084, n_jobs=16,\n",
       "                                              random_state=614),\n",
       "             param_grid={&#x27;max_depth&#x27;: [5, 10, 15],\n",
       "                         &#x27;n_estimators&#x27;: [500, 750, 1000]},\n",
       "             scoring=&#x27;neg_log_loss&#x27;)</pre><b>In a Jupyter environment, please rerun this cell to show the HTML representation or trust the notebook. <br />On GitHub, the HTML representation is unable to render, please try loading this page with nbviewer.org.</b></div><div class=\"sk-container\" hidden><div class=\"sk-item sk-dashed-wrapped\"><div class=\"sk-label-container\"><div class=\"sk-label sk-toggleable\"><input class=\"sk-toggleable__control sk-hidden--visually\" id=\"sk-estimator-id-7\" type=\"checkbox\" ><label for=\"sk-estimator-id-7\" class=\"sk-toggleable__label sk-toggleable__label-arrow\">GridSearchCV</label><div class=\"sk-toggleable__content\"><pre>GridSearchCV(cv=5,\n",
       "             estimator=RandomForestClassifier(class_weight=&#x27;balanced&#x27;,\n",
       "                                              max_samples=22084, n_jobs=16,\n",
       "                                              random_state=614),\n",
       "             param_grid={&#x27;max_depth&#x27;: [5, 10, 15],\n",
       "                         &#x27;n_estimators&#x27;: [500, 750, 1000]},\n",
       "             scoring=&#x27;neg_log_loss&#x27;)</pre></div></div></div><div class=\"sk-parallel\"><div class=\"sk-parallel-item\"><div class=\"sk-item\"><div class=\"sk-label-container\"><div class=\"sk-label sk-toggleable\"><input class=\"sk-toggleable__control sk-hidden--visually\" id=\"sk-estimator-id-8\" type=\"checkbox\" ><label for=\"sk-estimator-id-8\" class=\"sk-toggleable__label sk-toggleable__label-arrow\">estimator: RandomForestClassifier</label><div class=\"sk-toggleable__content\"><pre>RandomForestClassifier(class_weight=&#x27;balanced&#x27;, max_samples=22084, n_jobs=16,\n",
       "                       random_state=614)</pre></div></div></div><div class=\"sk-serial\"><div class=\"sk-item\"><div class=\"sk-estimator sk-toggleable\"><input class=\"sk-toggleable__control sk-hidden--visually\" id=\"sk-estimator-id-9\" type=\"checkbox\" ><label for=\"sk-estimator-id-9\" class=\"sk-toggleable__label sk-toggleable__label-arrow\">RandomForestClassifier</label><div class=\"sk-toggleable__content\"><pre>RandomForestClassifier(class_weight=&#x27;balanced&#x27;, max_samples=22084, n_jobs=16,\n",
       "                       random_state=614)</pre></div></div></div></div></div></div></div></div></div></div>"
      ],
      "text/plain": [
       "GridSearchCV(cv=5,\n",
       "             estimator=RandomForestClassifier(class_weight='balanced',\n",
       "                                              max_samples=22084, n_jobs=16,\n",
       "                                              random_state=614),\n",
       "             param_grid={'max_depth': [5, 10, 15],\n",
       "                         'n_estimators': [500, 750, 1000]},\n",
       "             scoring='neg_log_loss')"
      ]
     },
     "execution_count": 45,
     "metadata": {},
     "output_type": "execute_result"
    }
   ],
   "source": [
    "classifier = RandomForestClassifier(random_state = 614, \n",
    "                                    max_samples=round(0.5*len(y_train_code)), \n",
    "                                    class_weight='balanced', \n",
    "                                    n_jobs = 16)\n",
    "\n",
    "\n",
    "\n",
    "hyper_param = {'max_depth':[5, 10, 15], 'n_estimators':[500, 750, 1000]}\n",
    "\n",
    "# GridSearchCV - stratifiedKFold is used by default\n",
    "# score (on CV sets) to compare between models: 'neg_log_loss' (cross entropy)\n",
    "grid_cv = GridSearchCV(classifier,\n",
    "                       param_grid = hyper_param,\n",
    "                       scoring = 'neg_log_loss',\n",
    "                       cv = 5)\n",
    "\n",
    "grid_cv.fit(X_train_scale, y_train_code)\n"
   ]
  },
  {
   "cell_type": "code",
   "execution_count": 46,
   "id": "de05a9e4-6ef0-4e14-8628-ea208d947aba",
   "metadata": {},
   "outputs": [
    {
     "data": {
      "text/plain": [
       "{'max_depth': 15, 'n_estimators': 1000}"
      ]
     },
     "execution_count": 46,
     "metadata": {},
     "output_type": "execute_result"
    }
   ],
   "source": [
    "# Show best hyper parameters\n",
    "grid_cv.best_params_"
   ]
  },
  {
   "cell_type": "code",
   "execution_count": 47,
   "id": "7812c4e1-c16d-4b47-8ca5-dcf8f88bfb3b",
   "metadata": {},
   "outputs": [
    {
     "data": {
      "text/plain": [
       "{'mean_fit_time': array([ 50.08609428,  74.68437462,  98.91510367,  97.74663563,\n",
       "        145.3374258 , 195.45401168, 140.50382943, 209.40648713,\n",
       "        275.92165928]),\n",
       " 'std_fit_time': array([0.32720954, 0.29016859, 0.33375849, 0.83129642, 0.87263074,\n",
       "        2.51812581, 0.3905283 , 1.06676507, 0.5299314 ]),\n",
       " 'mean_score_time': array([0.59712806, 0.89998078, 1.19132476, 0.69294076, 1.03235545,\n",
       "        1.43302279, 0.80233502, 1.15522342, 1.50975304]),\n",
       " 'std_score_time': array([0.01884952, 0.02818834, 0.01208301, 0.02195106, 0.00979698,\n",
       "        0.08877929, 0.03951709, 0.026713  , 0.02677297]),\n",
       " 'param_max_depth': masked_array(data=[5, 5, 5, 10, 10, 10, 15, 15, 15],\n",
       "              mask=[False, False, False, False, False, False, False, False,\n",
       "                    False],\n",
       "        fill_value='?',\n",
       "             dtype=object),\n",
       " 'param_n_estimators': masked_array(data=[500, 750, 1000, 500, 750, 1000, 500, 750, 1000],\n",
       "              mask=[False, False, False, False, False, False, False, False,\n",
       "                    False],\n",
       "        fill_value='?',\n",
       "             dtype=object),\n",
       " 'params': [{'max_depth': 5, 'n_estimators': 500},\n",
       "  {'max_depth': 5, 'n_estimators': 750},\n",
       "  {'max_depth': 5, 'n_estimators': 1000},\n",
       "  {'max_depth': 10, 'n_estimators': 500},\n",
       "  {'max_depth': 10, 'n_estimators': 750},\n",
       "  {'max_depth': 10, 'n_estimators': 1000},\n",
       "  {'max_depth': 15, 'n_estimators': 500},\n",
       "  {'max_depth': 15, 'n_estimators': 750},\n",
       "  {'max_depth': 15, 'n_estimators': 1000}],\n",
       " 'split0_test_score': array([-3.68110468, -3.68051786, -3.68099658, -3.2494227 , -3.24564944,\n",
       "        -3.24529843, -2.97811785, -2.97456053, -2.97333133]),\n",
       " 'split1_test_score': array([-3.68420129, -3.6826871 , -3.68326432, -3.25605491, -3.25370049,\n",
       "        -3.25407859, -2.98771954, -2.98449671, -2.98299885]),\n",
       " 'split2_test_score': array([-3.69164636, -3.69061715, -3.69057559, -3.25865688, -3.25834017,\n",
       "        -3.25749274, -2.98845759, -2.98437945, -2.98411988]),\n",
       " 'split3_test_score': array([-3.69467701, -3.69484236, -3.69430879, -3.26803709, -3.26666313,\n",
       "        -3.26551903, -3.00165885, -2.99924633, -2.99754341]),\n",
       " 'split4_test_score': array([-3.689819  , -3.68923268, -3.68809539, -3.25959147, -3.25677592,\n",
       "        -3.25633921, -2.99372889, -2.9882781 , -2.98717943]),\n",
       " 'mean_test_score': array([-3.68828967, -3.68757943, -3.68744813, -3.25835261, -3.25622583,\n",
       "        -3.2557456 , -2.98993654, -2.98619222, -2.98503458]),\n",
       " 'std_test_score': array([0.00495466, 0.0052633 , 0.00482484, 0.00600732, 0.00681098,\n",
       "        0.0064938 , 0.00772759, 0.00795258, 0.00778483]),\n",
       " 'rank_test_score': array([9, 8, 7, 6, 5, 4, 3, 2, 1])}"
      ]
     },
     "execution_count": 47,
     "metadata": {},
     "output_type": "execute_result"
    }
   ],
   "source": [
    "# See CV results\n",
    "grid_cv.cv_results_"
   ]
  },
  {
   "cell_type": "markdown",
   "id": "3719ee94-3de2-420e-bd21-698d5603e14e",
   "metadata": {},
   "source": [
    "Deeper trees seem to play a larger role in reducing the loss."
   ]
  },
  {
   "cell_type": "code",
   "execution_count": 294,
   "id": "82c32e1d-9a16-487c-b860-df11019bd143",
   "metadata": {},
   "outputs": [],
   "source": [
    "# Save best model using pickle \n",
    "with open(model_path + '/rf.pkl','wb') as f:\n",
    "    pickle.dump(grid_cv.best_estimator_, f)\n",
    "\n",
    "# load model\n",
    "with open(model_path + '/rf.pkl', 'rb') as f:\n",
    "    clf = pickle.load(f)"
   ]
  },
  {
   "cell_type": "markdown",
   "id": "00b26bdd-1c35-4a31-b7d8-2f7e2267327b",
   "metadata": {},
   "source": [
    "## Evaluate performance"
   ]
  },
  {
   "cell_type": "code",
   "execution_count": 295,
   "id": "cd4ab9a8-52fd-4108-b217-ff67d86bad84",
   "metadata": {},
   "outputs": [
    {
     "name": "stdout",
     "output_type": "stream",
     "text": [
      "Train accuracy score: 0.9896755496184935\n"
     ]
    }
   ],
   "source": [
    "# Accuracy of train\n",
    "print(\"Train accuracy score:\", clf.score(X_train_scale, y_train_code))\n",
    "\n",
    "# Predict probabilities for train set\n",
    "probs_train = clf.predict_proba(X_train_scale)"
   ]
  },
  {
   "cell_type": "code",
   "execution_count": 296,
   "id": "4ad8b6c7-2ec9-4abd-b49b-9e8d44e60306",
   "metadata": {},
   "outputs": [
    {
     "name": "stdout",
     "output_type": "stream",
     "text": [
      "Test accuracy score: 0.49898125509372454\n"
     ]
    }
   ],
   "source": [
    "# Accuracy test\n",
    "print(\"Test accuracy score:\", clf.score(X_test_scale, y_test_code))\n",
    "\n",
    "# Predict probabilities for test set\n",
    "probs_test = clf.predict_proba(X_test_scale)"
   ]
  },
  {
   "cell_type": "code",
   "execution_count": 297,
   "id": "2ce00e91-19b1-4aa5-aa5e-cbca66103909",
   "metadata": {},
   "outputs": [
    {
     "data": {
      "image/png": "[encoded data removed]",
      "text/plain": [
       "<Figure size 640x480 with 1 Axes>"
      ]
     },
     "metadata": {},
     "output_type": "display_data"
    }
   ],
   "source": [
    "# Compute top-20 accuracy for train and test sets\n",
    "top20_acc_train = topk_accuracy(20, probs_train, y_train_code)\n",
    "top20_acc_test = topk_accuracy(20, probs_test, y_test_code)\n",
    "\n",
    "# Plot them\n",
    "plot_top20_accuracies(top20_acc_train, top20_acc_test)"
   ]
  },
  {
   "cell_type": "code",
   "execution_count": 299,
   "id": "0e243f50-fddf-493e-9f11-279bc95cf8e1",
   "metadata": {},
   "outputs": [
    {
     "data": {
      "text/html": [
       "<div>\n",
       "<style scoped>\n",
       "    .dataframe tbody tr th:only-of-type {\n",
       "        vertical-align: middle;\n",
       "    }\n",
       "\n",
       "    .dataframe tbody tr th {\n",
       "        vertical-align: top;\n",
       "    }\n",
       "\n",
       "    .dataframe thead th {\n",
       "        text-align: right;\n",
       "    }\n",
       "</style>\n",
       "<table border=\"1\" class=\"dataframe\">\n",
       "  <thead>\n",
       "    <tr style=\"text-align: right;\">\n",
       "      <th></th>\n",
       "      <th>model</th>\n",
       "      <th>train</th>\n",
       "      <th>test</th>\n",
       "    </tr>\n",
       "  </thead>\n",
       "  <tbody>\n",
       "    <tr>\n",
       "      <th>0</th>\n",
       "      <td>Random Forest</td>\n",
       "      <td>0.989676</td>\n",
       "      <td>0.498981</td>\n",
       "    </tr>\n",
       "    <tr>\n",
       "      <th>1</th>\n",
       "      <td>Random Forest</td>\n",
       "      <td>0.996196</td>\n",
       "      <td>0.635289</td>\n",
       "    </tr>\n",
       "    <tr>\n",
       "      <th>2</th>\n",
       "      <td>Random Forest</td>\n",
       "      <td>0.998823</td>\n",
       "      <td>0.717604</td>\n",
       "    </tr>\n",
       "  </tbody>\n",
       "</table>\n",
       "</div>"
      ],
      "text/plain": [
       "           model     train      test\n",
       "0  Random Forest  0.989676  0.498981\n",
       "1  Random Forest  0.996196  0.635289\n",
       "2  Random Forest  0.998823  0.717604"
      ]
     },
     "metadata": {},
     "output_type": "display_data"
    }
   ],
   "source": [
    "# Save top-20 accuracy on train set\n",
    "top20_accuracy_df = pd.DataFrame({'train' : top20_acc_train, 'test' : top20_acc_test})\n",
    "top20_accuracy_df['model'] = 'Random Forest'\n",
    "top20_accuracy_df = top20_accuracy_df[['model', 'train', 'test']]\n",
    "top20_accuracy_df.to_csv(top3acc_path + '/rf.csv')\n",
    "\n",
    "# Display top-3 accuracy\n",
    "display(top20_accuracy_df[:3])"
   ]
  },
  {
   "cell_type": "markdown",
   "id": "9cfed7d7-f172-4e7a-a38f-96684980b235",
   "metadata": {},
   "source": [
    "# XGBoost"
   ]
  },
  {
   "cell_type": "code",
   "execution_count": 24,
   "id": "98f8ef5f-e616-400f-8675-eb78effef47a",
   "metadata": {},
   "outputs": [],
   "source": [
    "from xgboost import XGBClassifier"
   ]
  },
  {
   "cell_type": "code",
   "execution_count": 7,
   "id": "0e379db4-59ec-4ad1-9d83-42cd584275c2",
   "metadata": {},
   "outputs": [
    {
     "ename": "NameError",
     "evalue": "name 'X_train_scale' is not defined",
     "output_type": "error",
     "traceback": [
      "\u001b[1;31m---------------------------------------------------------------------------\u001b[0m",
      "\u001b[1;31mNameError\u001b[0m                                 Traceback (most recent call last)",
      "Cell \u001b[1;32mIn[7], line 10\u001b[0m\n\u001b[0;32m      1\u001b[0m \u001b[38;5;66;03m# Fit model \u001b[39;00m\n\u001b[0;32m      2\u001b[0m \u001b[38;5;66;03m# Eval metric: 'log loss' (cross entropy)\u001b[39;00m\n\u001b[0;32m      3\u001b[0m XGBclf \u001b[38;5;241m=\u001b[39m XGBClassifier(n_estimators\u001b[38;5;241m=\u001b[39m\u001b[38;5;241m400\u001b[39m, \n\u001b[0;32m      4\u001b[0m                        verbosity\u001b[38;5;241m=\u001b[39m\u001b[38;5;241m1\u001b[39m, \n\u001b[0;32m      5\u001b[0m                        nthread \u001b[38;5;241m=\u001b[39m \u001b[38;5;241m16\u001b[39m,\n\u001b[0;32m      6\u001b[0m                        eval_metric \u001b[38;5;241m=\u001b[39m \u001b[38;5;124m'\u001b[39m\u001b[38;5;124mmlogloss\u001b[39m\u001b[38;5;124m'\u001b[39m, \n\u001b[0;32m      7\u001b[0m                        learning_rate \u001b[38;5;241m=\u001b[39m \u001b[38;5;241m0.1\u001b[39m,\n\u001b[0;32m      8\u001b[0m                        early_stopping_rounds \u001b[38;5;241m=\u001b[39m \u001b[38;5;241m10\u001b[39m)\n\u001b[1;32m---> 10\u001b[0m XGBclf\u001b[38;5;241m.\u001b[39mfit(\u001b[41mX_train_scale\u001b[49m, y_train_code,\n\u001b[0;32m     11\u001b[0m            eval_set\u001b[38;5;241m=\u001b[39m[(X_test_scale, y_test_code)] )\n",
      "\u001b[1;31mNameError\u001b[0m: name 'X_train_scale' is not defined"
     ]
    }
   ],
   "source": [
    "# Fit model \n",
    "# Eval metric: 'log loss' (cross entropy)\n",
    "XGBclf = XGBClassifier(n_estimators=1000, \n",
    "                       verbosity=1, \n",
    "                       nthread = 16,\n",
    "                       eval_metric = 'mlogloss', \n",
    "                       learning_rate = 0.1,\n",
    "                       early_stopping_rounds = 10)\n",
    "\n",
    "XGBclf.fit(X_train_scale, y_train_code,\n",
    "           eval_set=[(X_test_scale, y_test_code)] )"
   ]
  },
  {
   "cell_type": "code",
   "execution_count": 301,
   "id": "7c1e7052-0085-4865-9eb4-596fb49e1b77",
   "metadata": {},
   "outputs": [
    {
     "name": "stdout",
     "output_type": "stream",
     "text": [
      "Train accuracy score: 0.9999773586614441\n"
     ]
    }
   ],
   "source": [
    "# Accuracy of train\n",
    "print(\"Train accuracy score:\", clf.score(X_train_scale, y_train_code))\n",
    "\n",
    "# Predict probabilities for train set\n",
    "probs_train = clf.predict_proba(X_train_scale)"
   ]
  },
  {
   "cell_type": "code",
   "execution_count": 302,
   "id": "e248f74f-e500-4a91-9457-823dff3dff39",
   "metadata": {},
   "outputs": [
    {
     "name": "stdout",
     "output_type": "stream",
     "text": [
      "Test accuracy score: 0.593520782396088\n"
     ]
    }
   ],
   "source": [
    "# Accuracy test\n",
    "print(\"Test accuracy score:\", clf.score(X_test_scale, y_test_code))\n",
    "\n",
    "# Predict probabilities for test set\n",
    "probs_test = clf.predict_proba(X_test_scale)"
   ]
  },
  {
   "cell_type": "code",
   "execution_count": 303,
   "id": "cb17b327-8ba2-4131-941d-296cdf4ea4bc",
   "metadata": {},
   "outputs": [
    {
     "data": {
      "image/png": "[encoded data removed]",
      "text/plain": [
       "<Figure size 640x480 with 1 Axes>"
      ]
     },
     "metadata": {},
     "output_type": "display_data"
    }
   ],
   "source": [
    "# Compute top-20 accuracy for train and test sets\n",
    "top20_acc_train = topk_accuracy(20, probs_train, y_train_code)\n",
    "top20_acc_test = topk_accuracy(20, probs_test, y_test_code)\n",
    "\n",
    "# Plot them\n",
    "plot_top20_accuracies(top20_acc_train, top20_acc_test)"
   ]
  },
  {
   "cell_type": "code",
   "execution_count": 59,
   "id": "304c1cc4-a3da-4253-ae69-5e433b4b4c57",
   "metadata": {},
   "outputs": [
    {
     "data": {
      "image/png": "[encoded data removed]",
      "text/plain": [
       "<Figure size 700x500 with 1 Axes>"
      ]
     },
     "metadata": {},
     "output_type": "display_data"
    }
   ],
   "source": [
    "# Plot the Log Loss against the number of learners\n",
    "plt.figure(figsize=(7,5))\n",
    "\n",
    "plt.plot(range(1,len(XGBclf.evals_result()['validation_0']['mlogloss'])+1), \n",
    "         XGBclf.evals_result()['validation_0']['mlogloss'])\n",
    "plt.scatter([range(1,len(XGBclf.evals_result()['validation_0']['mlogloss'])+1)[np.argmin(XGBclf.evals_result()['validation_0']['mlogloss'])]], \n",
    "            [np.min(XGBclf.evals_result()['validation_0']['mlogloss'])], c='k')\n",
    "plt.text(range(1,len(XGBclf.evals_result()['validation_0']['mlogloss'])+1)[np.argmin(XGBclf.evals_result()['validation_0']['mlogloss'])], \n",
    "         np.min(XGBclf.evals_result()['validation_0']['mlogloss'])-.05, \"Min.\", fontsize=10)\n",
    "\n",
    "plt.title(\"Validation Log Loss\", fontsize=14)\n",
    "plt.xlabel(\"Number of Weak Learners\", fontsize=12)\n",
    "plt.ylabel(\"Log Loss\", fontsize=12)\n",
    "\n",
    "plt.yticks(fontsize=10)\n",
    "plt.xticks(fontsize=10)\n",
    "\n",
    "plt.show()"
   ]
  },
  {
   "cell_type": "code",
   "execution_count": 300,
   "id": "b219f98c-6e5a-43da-b728-a69fcab107d2",
   "metadata": {},
   "outputs": [],
   "source": [
    "# Save best model using pickle \n",
    "with open(model_path + '/xgb.pkl','wb') as f:\n",
    "    pickle.dump(XGBclf, f)\n",
    "\n",
    "# load model\n",
    "with open(model_path + '/xgb.pkl', 'rb') as f:\n",
    "    clf = pickle.load(f)"
   ]
  },
  {
   "cell_type": "markdown",
   "id": "1713718c-a7f6-42d5-b65c-d730a2afc5ec",
   "metadata": {},
   "source": [
    "## Evaluate performance"
   ]
  },
  {
   "cell_type": "code",
   "execution_count": 301,
   "id": "158ace21-539f-4b7b-8d79-eed5b8350d07",
   "metadata": {},
   "outputs": [
    {
     "name": "stdout",
     "output_type": "stream",
     "text": [
      "Train accuracy score: 0.9999773586614441\n"
     ]
    }
   ],
   "source": [
    "# Accuracy of train\n",
    "print(\"Train accuracy score:\", clf.score(X_train_scale, y_train_code))\n",
    "\n",
    "# Predict probabilities for train set\n",
    "probs_train = clf.predict_proba(X_train_scale)"
   ]
  },
  {
   "cell_type": "code",
   "execution_count": 302,
   "id": "006d10fe-745b-412c-a151-08e121464069",
   "metadata": {},
   "outputs": [
    {
     "name": "stdout",
     "output_type": "stream",
     "text": [
      "Test accuracy score: 0.593520782396088\n"
     ]
    }
   ],
   "source": [
    "# Accuracy test\n",
    "print(\"Test accuracy score:\", clf.score(X_test_scale, y_test_code))\n",
    "\n",
    "# Predict probabilities for test set\n",
    "probs_test = clf.predict_proba(X_test_scale)"
   ]
  },
  {
   "cell_type": "code",
   "execution_count": 303,
   "id": "7b73ec57-ef04-42d3-a625-0fff3939ec5d",
   "metadata": {},
   "outputs": [
    {
     "data": {
      "image/png": "[encoded data removed]",
      "text/plain": [
       "<Figure size 640x480 with 1 Axes>"
      ]
     },
     "metadata": {},
     "output_type": "display_data"
    }
   ],
   "source": [
    "# Compute top-20 accuracy for train and test sets\n",
    "top20_acc_train = topk_accuracy(20, probs_train, y_train_code)\n",
    "top20_acc_test = topk_accuracy(20, probs_test, y_test_code)\n",
    "\n",
    "# Plot them\n",
    "plot_top20_accuracies(top20_acc_train, top20_acc_test)"
   ]
  },
  {
   "cell_type": "code",
   "execution_count": 305,
   "id": "c6e67bca-3dc1-4ddf-bdb6-ba2f9d8ad43f",
   "metadata": {},
   "outputs": [
    {
     "data": {
      "text/html": [
       "<div>\n",
       "<style scoped>\n",
       "    .dataframe tbody tr th:only-of-type {\n",
       "        vertical-align: middle;\n",
       "    }\n",
       "\n",
       "    .dataframe tbody tr th {\n",
       "        vertical-align: top;\n",
       "    }\n",
       "\n",
       "    .dataframe thead th {\n",
       "        text-align: right;\n",
       "    }\n",
       "</style>\n",
       "<table border=\"1\" class=\"dataframe\">\n",
       "  <thead>\n",
       "    <tr style=\"text-align: right;\">\n",
       "      <th></th>\n",
       "      <th>model</th>\n",
       "      <th>train</th>\n",
       "      <th>test</th>\n",
       "    </tr>\n",
       "  </thead>\n",
       "  <tbody>\n",
       "    <tr>\n",
       "      <th>0</th>\n",
       "      <td>XGBoost</td>\n",
       "      <td>0.999977</td>\n",
       "      <td>0.593521</td>\n",
       "    </tr>\n",
       "    <tr>\n",
       "      <th>1</th>\n",
       "      <td>XGBoost</td>\n",
       "      <td>1.000000</td>\n",
       "      <td>0.738794</td>\n",
       "    </tr>\n",
       "    <tr>\n",
       "      <th>2</th>\n",
       "      <td>XGBoost</td>\n",
       "      <td>1.000000</td>\n",
       "      <td>0.809698</td>\n",
       "    </tr>\n",
       "  </tbody>\n",
       "</table>\n",
       "</div>"
      ],
      "text/plain": [
       "     model     train      test\n",
       "0  XGBoost  0.999977  0.593521\n",
       "1  XGBoost  1.000000  0.738794\n",
       "2  XGBoost  1.000000  0.809698"
      ]
     },
     "metadata": {},
     "output_type": "display_data"
    }
   ],
   "source": [
    "# Save top-20 accuracy on train set\n",
    "top20_accuracy_df = pd.DataFrame({'train' : top20_acc_train, 'test' : top20_acc_test})\n",
    "top20_accuracy_df['model'] = 'XGBoost'\n",
    "top20_accuracy_df = top20_accuracy_df[['model', 'train', 'test']]\n",
    "top20_accuracy_df.to_csv(top3acc_path + '/xgb.csv')\n",
    "\n",
    "# Display top-3 accuracy\n",
    "display(top20_accuracy_df[:3])"
   ]
  },
  {
   "cell_type": "markdown",
   "id": "d88943f2-b6df-4eb5-9021-d13169392114",
   "metadata": {},
   "source": [
    "# Compare across 4 algorithms with user queries"
   ]
  },
  {
   "cell_type": "markdown",
   "id": "6f041260-a9cb-49f8-8e89-944a1e6135af",
   "metadata": {},
   "source": [
    "We now return top-3 best-fit styles, from which we list out top 5 wines that are most similar to the user's input by cosine similiarity.\n",
    "\n",
    "We also compute the mean similarity score among the top 3 suggested styles. \n",
    "\n",
    "The similarity scores for top 3 styles and top 5 wines will help us compare modelling architects."
   ]
  },
  {
   "cell_type": "code",
   "execution_count": 69,
   "id": "81e4401a-4fe9-44b4-b94e-c83676eac918",
   "metadata": {},
   "outputs": [],
   "source": [
    "# load model - Logisitics\n",
    "with open(model_path + '/logistic.pkl', 'rb') as f:\n",
    "    log_model = pickle.load(f)\n",
    "\n",
    "# load model - SVC\n",
    "with open(model_path + '/linearsvc.pkl', 'rb') as f:\n",
    "    svc_model = pickle.load(f)\n",
    "\n",
    "# load model - Random Forest\n",
    "with open(model_path + '/rf.pkl', 'rb') as f:\n",
    "    rf_model = pickle.load(f)\n",
    "\n",
    "# load model\n",
    "with open(model_path + '/xgb.pkl', 'rb') as f:\n",
    "    xgb_model = pickle.load(f)\n",
    "\n",
    "\n",
    "models_dict = {'log_model': log_model,\n",
    "               'svc_model': svc_model,\n",
    "               'rf_model' : rf_model, \n",
    "               'xgb_model': xgb_model}"
   ]
  },
  {
   "cell_type": "code",
   "execution_count": 70,
   "id": "bff71b8b-a4db-4b9a-b8d6-1ec7321b988f",
   "metadata": {},
   "outputs": [],
   "source": [
    "# Get the train set from original data\n",
    "wine_emb_train = wine_emb.loc[idx_train, :]"
   ]
  },
  {
   "cell_type": "code",
   "execution_count": 211,
   "id": "ec3839ee-1450-47fd-80a9-ae0ebd173a1c",
   "metadata": {},
   "outputs": [],
   "source": [
    "# Input - from user\n",
    "# user_input = ['I want a white wine that is sweet, not bitter and have a floral note.']\n",
    "user_input = ['I want a white wine that is sweet and not floral.'] \n",
    "# user_input = ['Any suggestions for a white wine that is smooth and not floral?']\n",
    "# user_input = ['I want a red wine that is oaky but not spicy.'] \n",
    "# user_input = ['oaky and fruity red wine'] \n",
    "test_case = embed_model.embed_documents(user_input)\n",
    "test_case_scaled = scaler.transform(test_case)\n",
    "\n",
    "\n",
    "# # Input - from dataset\n",
    "# user_input = wine_emb.iloc[60,:]['description']\n",
    "# test_case = X_test_scale[60, :]"
   ]
  },
  {
   "cell_type": "code",
   "execution_count": 212,
   "id": "f142c570-8fee-411f-b449-0815420516ca",
   "metadata": {},
   "outputs": [
    {
     "name": "stdout",
     "output_type": "stream",
     "text": [
      "log_model\n",
      "svc_model\n",
      "rf_model\n",
      "xgb_model\n"
     ]
    }
   ],
   "source": [
    "top3_styles_dict ={}\n",
    "top5_wines_dict ={}\n",
    "\n",
    "for m in models_dict.keys():\n",
    "    print(m)\n",
    "    if m =='svc_model':\n",
    "        # Predit confidence score --> to be converted to probabilities\n",
    "        confidence_score_test = models_dict[m].decision_function(test_case_scaled.reshape(1,-1))\n",
    "        # Compute predicted probabilities after softmax\n",
    "        pred_probs = np.zeros_like(confidence_score_test)\n",
    "        for i, j in enumerate(confidence_score_test): \n",
    "            pred_probs[i]= softmax(j)\n",
    "    else:\n",
    "        pred_probs = models_dict[m].predict_proba(test_case_scaled.reshape(1,-1))  \n",
    "\n",
    "    # Top-3 predicted styles\n",
    "    top3styles_list = find_topk_styles(3, pred_probs)\n",
    "    top3styles =  pd.DataFrame(top3styles_list, columns=['style3'])  \n",
    "    top3styles['Model'] = m\n",
    "   \n",
    "    # Get wines in the top 3 styles from the original dataset \n",
    "    # Note: if use reviews from test set as test case, use train set for this filtering step\n",
    "    narrowed_wines = wine_emb[wine_emb['style3'].isin(top3styles_list)].copy()\n",
    "    # narrowed_wines = wine_emb_train[wine_emb_train['style3'].isin(top3styles_list)].copy()\n",
    "    \n",
    "    # Compute similarity score: cosine similarity and L2-norm similarity\n",
    "    sim_cosine = np.array([ dot(r.values, test_case[0] )/(norm(r.values)*norm(test_case[0]  ) ) \n",
    "                           for i, r in narrowed_wines[narrowed_wines.columns[-n_emb_cols:]].iterrows() ], dtype='float32')\n",
    "    sim_l2norm = np.array([ 1/norm( r.values - test_case[0] ) \n",
    "                           for i, r in narrowed_wines[narrowed_wines.columns[-n_emb_cols:]].iterrows() ], dtype='float32')\n",
    "    \n",
    "    # Find top 5 wines within the top 3 styles\n",
    "    top5wines = find_topk_wines(5, narrowed_wines, sim_cosine)\n",
    "    top5wines['Model'] = m\n",
    "    top5wines = top5wines[[ 'Model', 'Title', 'Description', 'Similarity Score'\n",
    "                            ]]\n",
    "    top5_wines_dict[m] = top5wines\n",
    "    \n",
    "    # Compute average similarity score among top 3 styles\n",
    "    narrowed_wines['sim_cosine'] = sim_cosine\n",
    "    top3styles = top3styles.merge( narrowed_wines.groupby('style3').sim_cosine.mean().reset_index(), on='style3' )\n",
    "    top3styles.rename(columns = {'style3': 'Style', 'sim_cosine': 'Mean Similarity Score' }, inplace=True)\n",
    "    top3styles = top3styles[['Model', 'Style', 'Mean Similarity Score']]\n",
    "    top3_styles_dict[m] = top3styles\n",
    " "
   ]
  },
  {
   "cell_type": "code",
   "execution_count": 213,
   "id": "dc200922-368d-49ab-a64f-af4368867536",
   "metadata": {},
   "outputs": [
    {
     "name": "stdout",
     "output_type": "stream",
     "text": [
      "User input:\n",
      "\"['I want a white wine that is sweet and not floral.']\"\n",
      "\n",
      "Model: log_model\n",
      "\n",
      "Top 3 styles:\n",
      "\n"
     ]
    },
    {
     "data": {
      "text/html": [
       "<div>\n",
       "<style scoped>\n",
       "    .dataframe tbody tr th:only-of-type {\n",
       "        vertical-align: middle;\n",
       "    }\n",
       "\n",
       "    .dataframe tbody tr th {\n",
       "        vertical-align: top;\n",
       "    }\n",
       "\n",
       "    .dataframe thead th {\n",
       "        text-align: right;\n",
       "    }\n",
       "</style>\n",
       "<table border=\"1\" class=\"dataframe\">\n",
       "  <thead>\n",
       "    <tr style=\"text-align: right;\">\n",
       "      <th></th>\n",
       "      <th>Model</th>\n",
       "      <th>Style</th>\n",
       "      <th>Mean Similarity Score</th>\n",
       "    </tr>\n",
       "  </thead>\n",
       "  <tbody>\n",
       "    <tr>\n",
       "      <th>0</th>\n",
       "      <td>log_model</td>\n",
       "      <td>Chenin Blanc - France</td>\n",
       "      <td>0.820342</td>\n",
       "    </tr>\n",
       "    <tr>\n",
       "      <th>1</th>\n",
       "      <td>log_model</td>\n",
       "      <td>Portuguese White - Portugal</td>\n",
       "      <td>0.818234</td>\n",
       "    </tr>\n",
       "    <tr>\n",
       "      <th>2</th>\n",
       "      <td>log_model</td>\n",
       "      <td>Red Blend - California</td>\n",
       "      <td>0.809418</td>\n",
       "    </tr>\n",
       "  </tbody>\n",
       "</table>\n",
       "</div>"
      ],
      "text/plain": [
       "       Model                        Style  Mean Similarity Score\n",
       "0  log_model        Chenin Blanc - France               0.820342\n",
       "1  log_model  Portuguese White - Portugal               0.818234\n",
       "2  log_model       Red Blend - California               0.809418"
      ]
     },
     "metadata": {},
     "output_type": "display_data"
    },
    {
     "name": "stdout",
     "output_type": "stream",
     "text": [
      "Model: svc_model\n",
      "\n",
      "Top 3 styles:\n",
      "\n"
     ]
    },
    {
     "data": {
      "text/html": [
       "<div>\n",
       "<style scoped>\n",
       "    .dataframe tbody tr th:only-of-type {\n",
       "        vertical-align: middle;\n",
       "    }\n",
       "\n",
       "    .dataframe tbody tr th {\n",
       "        vertical-align: top;\n",
       "    }\n",
       "\n",
       "    .dataframe thead th {\n",
       "        text-align: right;\n",
       "    }\n",
       "</style>\n",
       "<table border=\"1\" class=\"dataframe\">\n",
       "  <thead>\n",
       "    <tr style=\"text-align: right;\">\n",
       "      <th></th>\n",
       "      <th>Model</th>\n",
       "      <th>Style</th>\n",
       "      <th>Mean Similarity Score</th>\n",
       "    </tr>\n",
       "  </thead>\n",
       "  <tbody>\n",
       "    <tr>\n",
       "      <th>0</th>\n",
       "      <td>svc_model</td>\n",
       "      <td>Red Blend - California</td>\n",
       "      <td>0.809418</td>\n",
       "    </tr>\n",
       "    <tr>\n",
       "      <th>1</th>\n",
       "      <td>svc_model</td>\n",
       "      <td>Sparkling Blend - France</td>\n",
       "      <td>0.811614</td>\n",
       "    </tr>\n",
       "    <tr>\n",
       "      <th>2</th>\n",
       "      <td>svc_model</td>\n",
       "      <td>Pinot Noir - Anderson Valley</td>\n",
       "      <td>0.803995</td>\n",
       "    </tr>\n",
       "  </tbody>\n",
       "</table>\n",
       "</div>"
      ],
      "text/plain": [
       "       Model                         Style  Mean Similarity Score\n",
       "0  svc_model        Red Blend - California               0.809418\n",
       "1  svc_model      Sparkling Blend - France               0.811614\n",
       "2  svc_model  Pinot Noir - Anderson Valley               0.803995"
      ]
     },
     "metadata": {},
     "output_type": "display_data"
    },
    {
     "name": "stdout",
     "output_type": "stream",
     "text": [
      "Model: rf_model\n",
      "\n",
      "Top 3 styles:\n",
      "\n"
     ]
    },
    {
     "data": {
      "text/html": [
       "<div>\n",
       "<style scoped>\n",
       "    .dataframe tbody tr th:only-of-type {\n",
       "        vertical-align: middle;\n",
       "    }\n",
       "\n",
       "    .dataframe tbody tr th {\n",
       "        vertical-align: top;\n",
       "    }\n",
       "\n",
       "    .dataframe thead th {\n",
       "        text-align: right;\n",
       "    }\n",
       "</style>\n",
       "<table border=\"1\" class=\"dataframe\">\n",
       "  <thead>\n",
       "    <tr style=\"text-align: right;\">\n",
       "      <th></th>\n",
       "      <th>Model</th>\n",
       "      <th>Style</th>\n",
       "      <th>Mean Similarity Score</th>\n",
       "    </tr>\n",
       "  </thead>\n",
       "  <tbody>\n",
       "    <tr>\n",
       "      <th>0</th>\n",
       "      <td>rf_model</td>\n",
       "      <td>White Blend - Italy</td>\n",
       "      <td>0.813957</td>\n",
       "    </tr>\n",
       "    <tr>\n",
       "      <th>1</th>\n",
       "      <td>rf_model</td>\n",
       "      <td>Pinot Grigio - Italy</td>\n",
       "      <td>0.810041</td>\n",
       "    </tr>\n",
       "    <tr>\n",
       "      <th>2</th>\n",
       "      <td>rf_model</td>\n",
       "      <td>Grüner Veltliner - Austria</td>\n",
       "      <td>0.807587</td>\n",
       "    </tr>\n",
       "  </tbody>\n",
       "</table>\n",
       "</div>"
      ],
      "text/plain": [
       "      Model                       Style  Mean Similarity Score\n",
       "0  rf_model         White Blend - Italy               0.813957\n",
       "1  rf_model        Pinot Grigio - Italy               0.810041\n",
       "2  rf_model  Grüner Veltliner - Austria               0.807587"
      ]
     },
     "metadata": {},
     "output_type": "display_data"
    },
    {
     "name": "stdout",
     "output_type": "stream",
     "text": [
      "Model: xgb_model\n",
      "\n",
      "Top 3 styles:\n",
      "\n"
     ]
    },
    {
     "data": {
      "text/html": [
       "<div>\n",
       "<style scoped>\n",
       "    .dataframe tbody tr th:only-of-type {\n",
       "        vertical-align: middle;\n",
       "    }\n",
       "\n",
       "    .dataframe tbody tr th {\n",
       "        vertical-align: top;\n",
       "    }\n",
       "\n",
       "    .dataframe thead th {\n",
       "        text-align: right;\n",
       "    }\n",
       "</style>\n",
       "<table border=\"1\" class=\"dataframe\">\n",
       "  <thead>\n",
       "    <tr style=\"text-align: right;\">\n",
       "      <th></th>\n",
       "      <th>Model</th>\n",
       "      <th>Style</th>\n",
       "      <th>Mean Similarity Score</th>\n",
       "    </tr>\n",
       "  </thead>\n",
       "  <tbody>\n",
       "    <tr>\n",
       "      <th>0</th>\n",
       "      <td>xgb_model</td>\n",
       "      <td>White Blend - Italy</td>\n",
       "      <td>0.813957</td>\n",
       "    </tr>\n",
       "    <tr>\n",
       "      <th>1</th>\n",
       "      <td>xgb_model</td>\n",
       "      <td>Portuguese White - Portugal</td>\n",
       "      <td>0.818234</td>\n",
       "    </tr>\n",
       "    <tr>\n",
       "      <th>2</th>\n",
       "      <td>xgb_model</td>\n",
       "      <td>Sauvignon Blanc - Chile</td>\n",
       "      <td>0.799079</td>\n",
       "    </tr>\n",
       "  </tbody>\n",
       "</table>\n",
       "</div>"
      ],
      "text/plain": [
       "       Model                        Style  Mean Similarity Score\n",
       "0  xgb_model          White Blend - Italy               0.813957\n",
       "1  xgb_model  Portuguese White - Portugal               0.818234\n",
       "2  xgb_model      Sauvignon Blanc - Chile               0.799079"
      ]
     },
     "metadata": {},
     "output_type": "display_data"
    }
   ],
   "source": [
    "# Save top 3 styles\n",
    "print(f'User input:\\n\"{user_input}\"')\n",
    "print()\n",
    "for m in models_dict.keys():\n",
    "    print(f'Model: {m}')\n",
    "    print()\n",
    "    print('Top 3 styles:')\n",
    "    print()\n",
    "    display(top3_styles_dict[m])\n",
    "    \n",
    "    top3_styles_dict[m].to_csv(top3styles_path + f'/{m}.csv', index=False)"
   ]
  },
  {
   "cell_type": "code",
   "execution_count": 214,
   "id": "db8c42f8-e71f-403e-8a45-ad4f032d3ebb",
   "metadata": {},
   "outputs": [
    {
     "name": "stdout",
     "output_type": "stream",
     "text": [
      "User input:\n",
      "\"['I want a white wine that is sweet and not floral.']\"\n",
      "\n",
      "Model: log_model\n",
      "\n",
      "Reviews from top 5 wines:\n",
      "\n",
      "A soft and easy white wine that has a lightly perfumed touch from the Moscatel in the blend. Acidity cuts the pear and peach flavors to give a fresh lift at the end. \n",
      "\n",
      "Sweet and simple, this soft wine has sugary berry and cola flavors. \n",
      "\n",
      "Soft and lightly sweet, this wine is clean and fresh. The white fruit flavors edge towards almond, and there is a refreshing green touch. The aftertaste has currants and sweetness. \n",
      "\n",
      "Soft and soapy, this is a simple wine without much character. It's a light, slightly sweet wine to be drunk this year. Screwcap. \n",
      "\n",
      "A wine that is so soft, its texture only just brushes the palate. White fruits and lemon juice give a gentle, balanced character that is light and quite ready to drink. \n",
      "\n",
      "Model: svc_model\n",
      "\n",
      "Reviews from top 5 wines:\n",
      "\n",
      "Sweet and simple, this soft wine has sugary berry and cola flavors. \n",
      "\n",
      "This is an elegant, silky-textured wine that doesn't taste as black or bold as the label would suggest. It has medium body, bright fruit flavors and hints of white pepper and white chocolate that accent a core of red cherry and raspberry. \n",
      "\n",
      "This lightly sweet and simple wine tastes straightforward, very fruity, soft in texture and light to medium in body. \n",
      "\n",
      "Soft, smooth and sweet, this is a basic wine with raisin and prune flavors. It won't please those who normally drink dry varietal wines. \n",
      "\n",
      "A soft, rather soapy-textured wine, without much focus. It's attractive in a gentle way, missing the bite. \n",
      "\n",
      "Model: rf_model\n",
      "\n",
      "Reviews from top 5 wines:\n",
      "\n",
      "Here is a sweet and fragrant dessert wine with aromas of white flower, honey and stone fruit accented by a slightly drying mineral characteristic. Firm, tonic effervescence keeps the palate refreshed even when paired with whipped cream or creamy fruit desserts. \n",
      "\n",
      "This is an easy white wine with balanced acidity. There's a spicy note of crushed clove or exotic spice at the start that is smoothed out by softer aromas of peach cobbler and lemon mousse. \n",
      "\n",
      "Floral notes of honeysuckle and acacia ride on the heels of peach and nectarine. This is a simple white wine with good freshness and a lean, watery feel in the mouth. \n",
      "\n",
      "Pear-scented, this supple white delivers straight down the line without any annoying frills. The wine is balanced, clean and comes with poised acidity. \n",
      "\n",
      "Here's a sweet white wine (the term Amabile refers to the high sugar content) that opens with compelling notes of honey, acacia flower, peach and yellow candy. It's hard to imagine what to pair it with: It could either go with fruit salad or salty crackers with cheese. \n",
      "\n",
      "Model: xgb_model\n",
      "\n",
      "Reviews from top 5 wines:\n",
      "\n",
      "A soft and easy white wine that has a lightly perfumed touch from the Moscatel in the blend. Acidity cuts the pear and peach flavors to give a fresh lift at the end. \n",
      "\n",
      "Here is a sweet and fragrant dessert wine with aromas of white flower, honey and stone fruit accented by a slightly drying mineral characteristic. Firm, tonic effervescence keeps the palate refreshed even when paired with whipped cream or creamy fruit desserts. \n",
      "\n",
      "Soft and soapy, this is a simple wine without much character. It's a light, slightly sweet wine to be drunk this year. Screwcap. \n",
      "\n",
      "A wine that is so soft, its texture only just brushes the palate. White fruits and lemon juice give a gentle, balanced character that is light and quite ready to drink. \n",
      "\n",
      "Here's a sweet white wine (the term Amabile refers to the high sugar content) that opens with compelling notes of honey, acacia flower, peach and yellow candy. It's hard to imagine what to pair it with: It could either go with fruit salad or salty crackers with cheese. \n",
      "\n"
     ]
    }
   ],
   "source": [
    "# Save top 5 wines\n",
    "print(f'User input:\\n\"{user_input}\"')\n",
    "print()\n",
    "for m in models_dict.keys():\n",
    "    print(f'Model: {m}')\n",
    "    print()\n",
    "    print('Reviews from top 5 wines:')\n",
    "    print()\n",
    "    # display(top5_wines_dict[m])\n",
    "    for r in top5_wines_dict[m]['Description'].to_list():\n",
    "        print(r,'\\n')\n",
    "    \n",
    "    top5_wines_dict[m].to_csv(top5wines_path + f'/{m}.csv', index=False)"
   ]
  }
 ],
 "metadata": {
  "kernelspec": {
   "display_name": "wine-kernel",
   "language": "python",
   "name": "wine-kernel"
  },
  "language_info": {
   "codemirror_mode": {
    "name": "ipython",
    "version": 3
   },
   "file_extension": ".py",
   "mimetype": "text/x-python",
   "name": "python",
   "nbconvert_exporter": "python",
   "pygments_lexer": "ipython3",
   "version": "3.11.4"
  }
 },
 "nbformat": 4,
 "nbformat_minor": 5
}
