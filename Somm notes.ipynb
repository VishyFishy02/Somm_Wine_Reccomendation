{
 "cells": [
  {
   "attachments": {},
   "cell_type": "markdown",
   "id": "9e50c7a2",
   "metadata": {},
   "source": [
    "# Somm: notes on dataset, stakeholders and KPIs\n"
   ]
  },
  {
   "cell_type": "markdown",
   "id": "6151159f",
   "metadata": {},
   "source": [
    "## Dataset"
   ]
  },
  {
   "cell_type": "markdown",
   "id": "a97ca389",
   "metadata": {},
   "source": [
    "- The dataset can be found here: https://www.kaggle.com/datasets/zynicide/wine-reviews\n",
    "- 130k rows (wines) and 10 columns --> wine information (country, region, winery, price, etc.) and a description that illustrates its flavor in a manner similar to that of a sommelier\n"
   ]
  },
  {
   "cell_type": "markdown",
   "id": "281dd7a4",
   "metadata": {},
   "source": [
    "## Deliverables"
   ]
  },
  {
   "cell_type": "markdown",
   "id": "14cda6e6",
   "metadata": {},
   "source": [
    "The goal is to build a wine recommendation application that helps users find a wine based on the taste they are looking for. \n",
    "\n",
    "While other wine recommendation apps do so based on wine information such as price, region, type of wine etc., the innovation of Somm is that it uses text descriptions of the wine flavor to find the wine that best matches a text input. \n"
   ]
  },
  {
   "cell_type": "markdown",
   "id": "f145babe",
   "metadata": {},
   "source": [
    "## KPIs"
   ]
  },
  {
   "cell_type": "markdown",
   "id": "6b59e112",
   "metadata": {},
   "source": [
    "Two types of (accurate) outputs based on a descriptive input: \n",
    "\n",
    "1) Top 3 (or 5 or 10) wines that best match the description\n",
    "2) Top 3 styles (province x grape-type combination) whose descriptions are closest to the input\n"
   ]
  },
  {
   "attachments": {},
   "cell_type": "markdown",
   "id": "be181cda",
   "metadata": {},
   "source": [
    "Example:\n",
    "\n",
    "Input: ‘’white wine with fruity notes” \n",
    "\n",
    "#Output: \t\n",
    "\n",
    "1) Top 3 (or 5 or 10) wines that best match the description \n",
    "\n",
    "\n",
    "Region: France, Burgundy\t\t\n",
    "\n",
    "Description: From the warm 2015 vintage, this is a soft and fruity wine. It's open with broad white fruit flavors, the acidity lighter than usual for Chablis, giving it a particularly ripe character. Drink now.\n",
    "\n",
    "Price: $24\t          \n",
    "\n",
    "Name: Simonnet-Febvre 2015 Chablis \t\n",
    "\n",
    "Variety: Chardonnay\n",
    "\n",
    "Winery: Simonnet-Febvre\n",
    "\n",
    "\n",
    "2) Top 3 styles whose descriptions are closest to the input\n",
    "\n",
    "Chardonnay from Burgundy (or France), Moscato from Italy, etc. "
   ]
  },
  {
   "cell_type": "markdown",
   "id": "5bdecff1",
   "metadata": {},
   "source": [
    "## Stakeholders"
   ]
  },
  {
   "cell_type": "markdown",
   "id": "22076012",
   "metadata": {},
   "source": [
    "- Wine buyers: getting a wine style can be useful when shopping with limited wine possibilities\n",
    "    \n",
    "- Wine sellers: 1) Somm can analyze demand based on searches, which is useful for vendors and producers, 2) Somm could be used as a recommender for an online store \n"
   ]
  },
  {
   "attachments": {},
   "cell_type": "markdown",
   "id": "b607b627",
   "metadata": {},
   "source": [
    "## More info that can help us market the app"
   ]
  },
  {
   "attachments": {},
   "cell_type": "markdown",
   "id": "2d30fda3",
   "metadata": {},
   "source": [
    "- Point system: all wines in the dataset are rated 80 or higher (on a scale from 1 to 100) from WineEnthustiast. This means that they all are by default good wines, and therefore that the app can only suggest good wines. This can be used as part of the appeal of the app. Not only: Find a wine that fits your taste! but Find a good wine that fits your taste\n",
    "\n",
    "- Geography: 42% of wines in the dataset are from the US, which impacts target users (Italians is Italy would not find this app particularly useful)"
   ]
  }
 ],
 "metadata": {
  "kernelspec": {
   "display_name": "Python 3 (ipykernel)",
   "language": "python",
   "name": "python3"
  },
  "language_info": {
   "codemirror_mode": {
    "name": "ipython",
    "version": 3
   },
   "file_extension": ".py",
   "mimetype": "text/x-python",
   "name": "python",
   "nbconvert_exporter": "python",
   "pygments_lexer": "ipython3",
   "version": "3.11.5"
  }
 },
 "nbformat": 4,
 "nbformat_minor": 5
}
